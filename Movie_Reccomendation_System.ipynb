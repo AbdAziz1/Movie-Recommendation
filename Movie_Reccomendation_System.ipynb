{
  "nbformat": 4,
  "nbformat_minor": 0,
  "metadata": {
    "colab": {
      "provenance": [],
      "gpuType": "T4",
      "authorship_tag": "ABX9TyNGwAxxqGzu6j8H8txvZDpO",
      "include_colab_link": true
    },
    "kernelspec": {
      "name": "python3",
      "display_name": "Python 3"
    },
    "language_info": {
      "name": "python"
    },
    "accelerator": "GPU"
  },
  "cells": [
    {
      "cell_type": "markdown",
      "metadata": {
        "id": "view-in-github",
        "colab_type": "text"
      },
      "source": [
        "<a href=\"https://colab.research.google.com/github/AbdAziz1/Movie-Recommendation/blob/main/Movie_Reccomendation_System.ipynb\" target=\"_parent\"><img src=\"https://colab.research.google.com/assets/colab-badge.svg\" alt=\"Open In Colab\"/></a>"
      ]
    },
    {
      "cell_type": "code",
      "execution_count": 1,
      "metadata": {
        "id": "fQPU4XkBz0wS"
      },
      "outputs": [],
      "source": [
        "import pandas as pd\n",
        "import numpy as np\n"
      ]
    },
    {
      "cell_type": "code",
      "source": [
        "movies = pd.read_csv('/content/sample_data/tmdb_5000_movies.csv')\n",
        "credits = pd.read_csv('/content/sample_data/tmdb_5000_credits.csv')"
      ],
      "metadata": {
        "id": "W-sVyTmr2F0m"
      },
      "execution_count": 14,
      "outputs": []
    },
    {
      "cell_type": "code",
      "source": [
        "movies.head(1)"
      ],
      "metadata": {
        "colab": {
          "base_uri": "https://localhost:8080/",
          "height": 188
        },
        "id": "wSaK7oUS2Yi4",
        "outputId": "6b9b4b17-c455-4087-d8bb-45c51438a460"
      },
      "execution_count": 15,
      "outputs": [
        {
          "output_type": "execute_result",
          "data": {
            "text/plain": [
              "      budget                                             genres  \\\n",
              "0  237000000  [{\"id\": 28, \"name\": \"Action\"}, {\"id\": 12, \"nam...   \n",
              "\n",
              "                      homepage     id  \\\n",
              "0  http://www.avatarmovie.com/  19995   \n",
              "\n",
              "                                            keywords original_language  \\\n",
              "0  [{\"id\": 1463, \"name\": \"culture clash\"}, {\"id\":...                en   \n",
              "\n",
              "  original_title                                           overview  \\\n",
              "0         Avatar  In the 22nd century, a paraplegic Marine is di...   \n",
              "\n",
              "   popularity                               production_companies  \\\n",
              "0  150.437577  [{\"name\": \"Ingenious Film Partners\", \"id\": 289...   \n",
              "\n",
              "                                production_countries release_date     revenue  \\\n",
              "0  [{\"iso_3166_1\": \"US\", \"name\": \"United States o...   2009-12-10  2787965087   \n",
              "\n",
              "   runtime                                   spoken_languages    status  \\\n",
              "0    162.0  [{\"iso_639_1\": \"en\", \"name\": \"English\"}, {\"iso...  Released   \n",
              "\n",
              "                       tagline   title  vote_average  vote_count  \n",
              "0  Enter the World of Pandora.  Avatar           7.2       11800  "
            ],
            "text/html": [
              "\n",
              "  <div id=\"df-a211399c-ed4d-4ad9-9964-2a1b3fe806f8\" class=\"colab-df-container\">\n",
              "    <div>\n",
              "<style scoped>\n",
              "    .dataframe tbody tr th:only-of-type {\n",
              "        vertical-align: middle;\n",
              "    }\n",
              "\n",
              "    .dataframe tbody tr th {\n",
              "        vertical-align: top;\n",
              "    }\n",
              "\n",
              "    .dataframe thead th {\n",
              "        text-align: right;\n",
              "    }\n",
              "</style>\n",
              "<table border=\"1\" class=\"dataframe\">\n",
              "  <thead>\n",
              "    <tr style=\"text-align: right;\">\n",
              "      <th></th>\n",
              "      <th>budget</th>\n",
              "      <th>genres</th>\n",
              "      <th>homepage</th>\n",
              "      <th>id</th>\n",
              "      <th>keywords</th>\n",
              "      <th>original_language</th>\n",
              "      <th>original_title</th>\n",
              "      <th>overview</th>\n",
              "      <th>popularity</th>\n",
              "      <th>production_companies</th>\n",
              "      <th>production_countries</th>\n",
              "      <th>release_date</th>\n",
              "      <th>revenue</th>\n",
              "      <th>runtime</th>\n",
              "      <th>spoken_languages</th>\n",
              "      <th>status</th>\n",
              "      <th>tagline</th>\n",
              "      <th>title</th>\n",
              "      <th>vote_average</th>\n",
              "      <th>vote_count</th>\n",
              "    </tr>\n",
              "  </thead>\n",
              "  <tbody>\n",
              "    <tr>\n",
              "      <th>0</th>\n",
              "      <td>237000000</td>\n",
              "      <td>[{\"id\": 28, \"name\": \"Action\"}, {\"id\": 12, \"nam...</td>\n",
              "      <td>http://www.avatarmovie.com/</td>\n",
              "      <td>19995</td>\n",
              "      <td>[{\"id\": 1463, \"name\": \"culture clash\"}, {\"id\":...</td>\n",
              "      <td>en</td>\n",
              "      <td>Avatar</td>\n",
              "      <td>In the 22nd century, a paraplegic Marine is di...</td>\n",
              "      <td>150.437577</td>\n",
              "      <td>[{\"name\": \"Ingenious Film Partners\", \"id\": 289...</td>\n",
              "      <td>[{\"iso_3166_1\": \"US\", \"name\": \"United States o...</td>\n",
              "      <td>2009-12-10</td>\n",
              "      <td>2787965087</td>\n",
              "      <td>162.0</td>\n",
              "      <td>[{\"iso_639_1\": \"en\", \"name\": \"English\"}, {\"iso...</td>\n",
              "      <td>Released</td>\n",
              "      <td>Enter the World of Pandora.</td>\n",
              "      <td>Avatar</td>\n",
              "      <td>7.2</td>\n",
              "      <td>11800</td>\n",
              "    </tr>\n",
              "  </tbody>\n",
              "</table>\n",
              "</div>\n",
              "    <div class=\"colab-df-buttons\">\n",
              "\n",
              "  <div class=\"colab-df-container\">\n",
              "    <button class=\"colab-df-convert\" onclick=\"convertToInteractive('df-a211399c-ed4d-4ad9-9964-2a1b3fe806f8')\"\n",
              "            title=\"Convert this dataframe to an interactive table.\"\n",
              "            style=\"display:none;\">\n",
              "\n",
              "  <svg xmlns=\"http://www.w3.org/2000/svg\" height=\"24px\" viewBox=\"0 -960 960 960\">\n",
              "    <path d=\"M120-120v-720h720v720H120Zm60-500h600v-160H180v160Zm220 220h160v-160H400v160Zm0 220h160v-160H400v160ZM180-400h160v-160H180v160Zm440 0h160v-160H620v160ZM180-180h160v-160H180v160Zm440 0h160v-160H620v160Z\"/>\n",
              "  </svg>\n",
              "    </button>\n",
              "\n",
              "  <style>\n",
              "    .colab-df-container {\n",
              "      display:flex;\n",
              "      gap: 12px;\n",
              "    }\n",
              "\n",
              "    .colab-df-convert {\n",
              "      background-color: #E8F0FE;\n",
              "      border: none;\n",
              "      border-radius: 50%;\n",
              "      cursor: pointer;\n",
              "      display: none;\n",
              "      fill: #1967D2;\n",
              "      height: 32px;\n",
              "      padding: 0 0 0 0;\n",
              "      width: 32px;\n",
              "    }\n",
              "\n",
              "    .colab-df-convert:hover {\n",
              "      background-color: #E2EBFA;\n",
              "      box-shadow: 0px 1px 2px rgba(60, 64, 67, 0.3), 0px 1px 3px 1px rgba(60, 64, 67, 0.15);\n",
              "      fill: #174EA6;\n",
              "    }\n",
              "\n",
              "    .colab-df-buttons div {\n",
              "      margin-bottom: 4px;\n",
              "    }\n",
              "\n",
              "    [theme=dark] .colab-df-convert {\n",
              "      background-color: #3B4455;\n",
              "      fill: #D2E3FC;\n",
              "    }\n",
              "\n",
              "    [theme=dark] .colab-df-convert:hover {\n",
              "      background-color: #434B5C;\n",
              "      box-shadow: 0px 1px 3px 1px rgba(0, 0, 0, 0.15);\n",
              "      filter: drop-shadow(0px 1px 2px rgba(0, 0, 0, 0.3));\n",
              "      fill: #FFFFFF;\n",
              "    }\n",
              "  </style>\n",
              "\n",
              "    <script>\n",
              "      const buttonEl =\n",
              "        document.querySelector('#df-a211399c-ed4d-4ad9-9964-2a1b3fe806f8 button.colab-df-convert');\n",
              "      buttonEl.style.display =\n",
              "        google.colab.kernel.accessAllowed ? 'block' : 'none';\n",
              "\n",
              "      async function convertToInteractive(key) {\n",
              "        const element = document.querySelector('#df-a211399c-ed4d-4ad9-9964-2a1b3fe806f8');\n",
              "        const dataTable =\n",
              "          await google.colab.kernel.invokeFunction('convertToInteractive',\n",
              "                                                    [key], {});\n",
              "        if (!dataTable) return;\n",
              "\n",
              "        const docLinkHtml = 'Like what you see? Visit the ' +\n",
              "          '<a target=\"_blank\" href=https://colab.research.google.com/notebooks/data_table.ipynb>data table notebook</a>'\n",
              "          + ' to learn more about interactive tables.';\n",
              "        element.innerHTML = '';\n",
              "        dataTable['output_type'] = 'display_data';\n",
              "        await google.colab.output.renderOutput(dataTable, element);\n",
              "        const docLink = document.createElement('div');\n",
              "        docLink.innerHTML = docLinkHtml;\n",
              "        element.appendChild(docLink);\n",
              "      }\n",
              "    </script>\n",
              "  </div>\n",
              "\n",
              "\n",
              "    </div>\n",
              "  </div>\n"
            ],
            "application/vnd.google.colaboratory.intrinsic+json": {
              "type": "dataframe",
              "variable_name": "movies",
              "summary": "{\n  \"name\": \"movies\",\n  \"rows\": 4803,\n  \"fields\": [\n    {\n      \"column\": \"budget\",\n      \"properties\": {\n        \"dtype\": \"number\",\n        \"std\": 40722391,\n        \"min\": 0,\n        \"max\": 380000000,\n        \"num_unique_values\": 436,\n        \"samples\": [\n          439000,\n          68000000,\n          700000\n        ],\n        \"semantic_type\": \"\",\n        \"description\": \"\"\n      }\n    },\n    {\n      \"column\": \"genres\",\n      \"properties\": {\n        \"dtype\": \"category\",\n        \"num_unique_values\": 1175,\n        \"samples\": [\n          \"[{\\\"id\\\": 14, \\\"name\\\": \\\"Fantasy\\\"}, {\\\"id\\\": 12, \\\"name\\\": \\\"Adventure\\\"}, {\\\"id\\\": 16, \\\"name\\\": \\\"Animation\\\"}]\",\n          \"[{\\\"id\\\": 28, \\\"name\\\": \\\"Action\\\"}, {\\\"id\\\": 35, \\\"name\\\": \\\"Comedy\\\"}, {\\\"id\\\": 80, \\\"name\\\": \\\"Crime\\\"}, {\\\"id\\\": 18, \\\"name\\\": \\\"Drama\\\"}]\",\n          \"[{\\\"id\\\": 12, \\\"name\\\": \\\"Adventure\\\"}, {\\\"id\\\": 16, \\\"name\\\": \\\"Animation\\\"}, {\\\"id\\\": 10751, \\\"name\\\": \\\"Family\\\"}, {\\\"id\\\": 14, \\\"name\\\": \\\"Fantasy\\\"}, {\\\"id\\\": 878, \\\"name\\\": \\\"Science Fiction\\\"}]\"\n        ],\n        \"semantic_type\": \"\",\n        \"description\": \"\"\n      }\n    },\n    {\n      \"column\": \"homepage\",\n      \"properties\": {\n        \"dtype\": \"category\",\n        \"num_unique_values\": 1691,\n        \"samples\": [\n          \"https://www.warnerbros.com/running-scared\",\n          \"http://www.51birchstreet.com/index.php\",\n          \"http://movies2.foxjapan.com/glee/\"\n        ],\n        \"semantic_type\": \"\",\n        \"description\": \"\"\n      }\n    },\n    {\n      \"column\": \"id\",\n      \"properties\": {\n        \"dtype\": \"number\",\n        \"std\": 88694,\n        \"min\": 5,\n        \"max\": 459488,\n        \"num_unique_values\": 4803,\n        \"samples\": [\n          8427,\n          13006,\n          18041\n        ],\n        \"semantic_type\": \"\",\n        \"description\": \"\"\n      }\n    },\n    {\n      \"column\": \"keywords\",\n      \"properties\": {\n        \"dtype\": \"string\",\n        \"num_unique_values\": 4222,\n        \"samples\": [\n          \"[{\\\"id\\\": 782, \\\"name\\\": \\\"assassin\\\"}, {\\\"id\\\": 1872, \\\"name\\\": \\\"loss of father\\\"}, {\\\"id\\\": 2908, \\\"name\\\": \\\"secret society\\\"}, {\\\"id\\\": 3045, \\\"name\\\": \\\"mission of murder\\\"}, {\\\"id\\\": 9748, \\\"name\\\": \\\"revenge\\\"}]\",\n          \"[{\\\"id\\\": 2987, \\\"name\\\": \\\"gang war\\\"}, {\\\"id\\\": 4942, \\\"name\\\": \\\"victim of murder\\\"}, {\\\"id\\\": 5332, \\\"name\\\": \\\"greed\\\"}, {\\\"id\\\": 6062, \\\"name\\\": \\\"hostility\\\"}, {\\\"id\\\": 156212, \\\"name\\\": \\\"spaghetti western\\\"}]\",\n          \"[{\\\"id\\\": 703, \\\"name\\\": \\\"detective\\\"}, {\\\"id\\\": 1299, \\\"name\\\": \\\"monster\\\"}, {\\\"id\\\": 6101, \\\"name\\\": \\\"engine\\\"}, {\\\"id\\\": 10988, \\\"name\\\": \\\"based on tv series\\\"}, {\\\"id\\\": 15162, \\\"name\\\": \\\"dog\\\"}]\"\n        ],\n        \"semantic_type\": \"\",\n        \"description\": \"\"\n      }\n    },\n    {\n      \"column\": \"original_language\",\n      \"properties\": {\n        \"dtype\": \"category\",\n        \"num_unique_values\": 37,\n        \"samples\": [\n          \"xx\",\n          \"ta\",\n          \"es\"\n        ],\n        \"semantic_type\": \"\",\n        \"description\": \"\"\n      }\n    },\n    {\n      \"column\": \"original_title\",\n      \"properties\": {\n        \"dtype\": \"string\",\n        \"num_unique_values\": 4801,\n        \"samples\": [\n          \"I Spy\",\n          \"Love Letters\",\n          \"Sleepover\"\n        ],\n        \"semantic_type\": \"\",\n        \"description\": \"\"\n      }\n    },\n    {\n      \"column\": \"overview\",\n      \"properties\": {\n        \"dtype\": \"string\",\n        \"num_unique_values\": 4800,\n        \"samples\": [\n          \"When the Switchblade, the most sophisticated prototype stealth fighter created yet, is stolen from the U.S. government, one of the United States' top spies, Alex Scott, is called to action. What he doesn't expect is to get teamed up with a cocky civilian, World Class Boxing Champion Kelly Robinson, on a dangerous top secret espionage mission. Their assignment: using equal parts skill and humor, catch Arnold Gundars, one of the world's most successful arms dealers.\",\n          \"When \\\"street smart\\\" rapper Christopher \\\"C-Note\\\" Hawkins (Big Boi) applies for a membership to all-white Carolina Pines Country Club, the establishment's proprietors are hardly ready to oblige him.\",\n          \"As their first year of high school looms ahead, best friends Julie, Hannah, Yancy and Farrah have one last summer sleepover. Little do they know they're about to embark on the adventure of a lifetime. Desperate to shed their nerdy status, they take part in a night-long scavenger hunt that pits them against their popular archrivals. Everything under the sun goes on -- from taking Yancy's father's car to sneaking into nightclubs!\"\n        ],\n        \"semantic_type\": \"\",\n        \"description\": \"\"\n      }\n    },\n    {\n      \"column\": \"popularity\",\n      \"properties\": {\n        \"dtype\": \"number\",\n        \"std\": 31.816649749537774,\n        \"min\": 0.0,\n        \"max\": 875.581305,\n        \"num_unique_values\": 4802,\n        \"samples\": [\n          13.267631,\n          0.010909,\n          5.842299\n        ],\n        \"semantic_type\": \"\",\n        \"description\": \"\"\n      }\n    },\n    {\n      \"column\": \"production_companies\",\n      \"properties\": {\n        \"dtype\": \"string\",\n        \"num_unique_values\": 3697,\n        \"samples\": [\n          \"[{\\\"name\\\": \\\"Paramount Pictures\\\", \\\"id\\\": 4}, {\\\"name\\\": \\\"Cherry Alley Productions\\\", \\\"id\\\": 2232}]\",\n          \"[{\\\"name\\\": \\\"Twentieth Century Fox Film Corporation\\\", \\\"id\\\": 306}, {\\\"name\\\": \\\"Dune Entertainment\\\", \\\"id\\\": 444}, {\\\"name\\\": \\\"Regency Enterprises\\\", \\\"id\\\": 508}, {\\\"name\\\": \\\"Guy Walks into a Bar Productions\\\", \\\"id\\\": 2645}, {\\\"name\\\": \\\"Deep River Productions\\\", \\\"id\\\": 2646}, {\\\"name\\\": \\\"Friendly Films (II)\\\", \\\"id\\\": 81136}]\",\n          \"[{\\\"name\\\": \\\"Twentieth Century Fox Film Corporation\\\", \\\"id\\\": 306}]\"\n        ],\n        \"semantic_type\": \"\",\n        \"description\": \"\"\n      }\n    },\n    {\n      \"column\": \"production_countries\",\n      \"properties\": {\n        \"dtype\": \"category\",\n        \"num_unique_values\": 469,\n        \"samples\": [\n          \"[{\\\"iso_3166_1\\\": \\\"ES\\\", \\\"name\\\": \\\"Spain\\\"}, {\\\"iso_3166_1\\\": \\\"GB\\\", \\\"name\\\": \\\"United Kingdom\\\"}, {\\\"iso_3166_1\\\": \\\"US\\\", \\\"name\\\": \\\"United States of America\\\"}, {\\\"iso_3166_1\\\": \\\"FR\\\", \\\"name\\\": \\\"France\\\"}]\",\n          \"[{\\\"iso_3166_1\\\": \\\"US\\\", \\\"name\\\": \\\"United States of America\\\"}, {\\\"iso_3166_1\\\": \\\"CA\\\", \\\"name\\\": \\\"Canada\\\"}, {\\\"iso_3166_1\\\": \\\"DE\\\", \\\"name\\\": \\\"Germany\\\"}]\",\n          \"[{\\\"iso_3166_1\\\": \\\"DE\\\", \\\"name\\\": \\\"Germany\\\"}, {\\\"iso_3166_1\\\": \\\"ES\\\", \\\"name\\\": \\\"Spain\\\"}, {\\\"iso_3166_1\\\": \\\"GB\\\", \\\"name\\\": \\\"United Kingdom\\\"}, {\\\"iso_3166_1\\\": \\\"US\\\", \\\"name\\\": \\\"United States of America\\\"}]\"\n        ],\n        \"semantic_type\": \"\",\n        \"description\": \"\"\n      }\n    },\n    {\n      \"column\": \"release_date\",\n      \"properties\": {\n        \"dtype\": \"object\",\n        \"num_unique_values\": 3280,\n        \"samples\": [\n          \"1966-10-16\",\n          \"1987-07-31\",\n          \"1993-09-23\"\n        ],\n        \"semantic_type\": \"\",\n        \"description\": \"\"\n      }\n    },\n    {\n      \"column\": \"revenue\",\n      \"properties\": {\n        \"dtype\": \"number\",\n        \"std\": 162857100,\n        \"min\": 0,\n        \"max\": 2787965087,\n        \"num_unique_values\": 3297,\n        \"samples\": [\n          11833696,\n          10462500,\n          17807569\n        ],\n        \"semantic_type\": \"\",\n        \"description\": \"\"\n      }\n    },\n    {\n      \"column\": \"runtime\",\n      \"properties\": {\n        \"dtype\": \"number\",\n        \"std\": 22.611934588844232,\n        \"min\": 0.0,\n        \"max\": 338.0,\n        \"num_unique_values\": 156,\n        \"samples\": [\n          74.0,\n          85.0,\n          170.0\n        ],\n        \"semantic_type\": \"\",\n        \"description\": \"\"\n      }\n    },\n    {\n      \"column\": \"spoken_languages\",\n      \"properties\": {\n        \"dtype\": \"category\",\n        \"num_unique_values\": 544,\n        \"samples\": [\n          \"[{\\\"iso_639_1\\\": \\\"es\\\", \\\"name\\\": \\\"Espa\\\\u00f1ol\\\"}, {\\\"iso_639_1\\\": \\\"en\\\", \\\"name\\\": \\\"English\\\"}, {\\\"iso_639_1\\\": \\\"fr\\\", \\\"name\\\": \\\"Fran\\\\u00e7ais\\\"}, {\\\"iso_639_1\\\": \\\"hu\\\", \\\"name\\\": \\\"Magyar\\\"}]\",\n          \"[{\\\"iso_639_1\\\": \\\"en\\\", \\\"name\\\": \\\"English\\\"}, {\\\"iso_639_1\\\": \\\"it\\\", \\\"name\\\": \\\"Italiano\\\"}, {\\\"iso_639_1\\\": \\\"pt\\\", \\\"name\\\": \\\"Portugu\\\\u00eas\\\"}]\",\n          \"[{\\\"iso_639_1\\\": \\\"de\\\", \\\"name\\\": \\\"Deutsch\\\"}, {\\\"iso_639_1\\\": \\\"it\\\", \\\"name\\\": \\\"Italiano\\\"}, {\\\"iso_639_1\\\": \\\"la\\\", \\\"name\\\": \\\"Latin\\\"}, {\\\"iso_639_1\\\": \\\"pl\\\", \\\"name\\\": \\\"Polski\\\"}]\"\n        ],\n        \"semantic_type\": \"\",\n        \"description\": \"\"\n      }\n    },\n    {\n      \"column\": \"status\",\n      \"properties\": {\n        \"dtype\": \"category\",\n        \"num_unique_values\": 3,\n        \"samples\": [\n          \"Released\",\n          \"Post Production\",\n          \"Rumored\"\n        ],\n        \"semantic_type\": \"\",\n        \"description\": \"\"\n      }\n    },\n    {\n      \"column\": \"tagline\",\n      \"properties\": {\n        \"dtype\": \"string\",\n        \"num_unique_values\": 3944,\n        \"samples\": [\n          \"When you're 17, every day is war.\",\n          \"An Unspeakable Horror. A Creative Genius. Captured For Eternity.\",\n          \"May the schwartz be with you\"\n        ],\n        \"semantic_type\": \"\",\n        \"description\": \"\"\n      }\n    },\n    {\n      \"column\": \"title\",\n      \"properties\": {\n        \"dtype\": \"string\",\n        \"num_unique_values\": 4800,\n        \"samples\": [\n          \"I Spy\",\n          \"Who's Your Caddy?\",\n          \"Sleepover\"\n        ],\n        \"semantic_type\": \"\",\n        \"description\": \"\"\n      }\n    },\n    {\n      \"column\": \"vote_average\",\n      \"properties\": {\n        \"dtype\": \"number\",\n        \"std\": 1.1946121628478923,\n        \"min\": 0.0,\n        \"max\": 10.0,\n        \"num_unique_values\": 71,\n        \"samples\": [\n          5.1,\n          7.2,\n          4.0\n        ],\n        \"semantic_type\": \"\",\n        \"description\": \"\"\n      }\n    },\n    {\n      \"column\": \"vote_count\",\n      \"properties\": {\n        \"dtype\": \"number\",\n        \"std\": 1234,\n        \"min\": 0,\n        \"max\": 13752,\n        \"num_unique_values\": 1609,\n        \"samples\": [\n          7604,\n          3428,\n          225\n        ],\n        \"semantic_type\": \"\",\n        \"description\": \"\"\n      }\n    }\n  ]\n}"
            }
          },
          "metadata": {},
          "execution_count": 15
        }
      ]
    },
    {
      "cell_type": "code",
      "source": [
        "credits.head(1)"
      ],
      "metadata": {
        "colab": {
          "base_uri": "https://localhost:8080/",
          "height": 81
        },
        "id": "OTuIM6Vo2b5e",
        "outputId": "0fbb0cec-8d5a-47cf-a35c-87ded0e0601d"
      },
      "execution_count": 16,
      "outputs": [
        {
          "output_type": "execute_result",
          "data": {
            "text/plain": [
              "   movie_id   title                                               cast  \\\n",
              "0     19995  Avatar  [{\"cast_id\": 242, \"character\": \"Jake Sully\", \"...   \n",
              "\n",
              "                                                crew  \n",
              "0  [{\"credit_id\": \"52fe48009251416c750aca23\", \"de...  "
            ],
            "text/html": [
              "\n",
              "  <div id=\"df-9c59a162-0963-4f26-b905-0aa9e61aaff6\" class=\"colab-df-container\">\n",
              "    <div>\n",
              "<style scoped>\n",
              "    .dataframe tbody tr th:only-of-type {\n",
              "        vertical-align: middle;\n",
              "    }\n",
              "\n",
              "    .dataframe tbody tr th {\n",
              "        vertical-align: top;\n",
              "    }\n",
              "\n",
              "    .dataframe thead th {\n",
              "        text-align: right;\n",
              "    }\n",
              "</style>\n",
              "<table border=\"1\" class=\"dataframe\">\n",
              "  <thead>\n",
              "    <tr style=\"text-align: right;\">\n",
              "      <th></th>\n",
              "      <th>movie_id</th>\n",
              "      <th>title</th>\n",
              "      <th>cast</th>\n",
              "      <th>crew</th>\n",
              "    </tr>\n",
              "  </thead>\n",
              "  <tbody>\n",
              "    <tr>\n",
              "      <th>0</th>\n",
              "      <td>19995</td>\n",
              "      <td>Avatar</td>\n",
              "      <td>[{\"cast_id\": 242, \"character\": \"Jake Sully\", \"...</td>\n",
              "      <td>[{\"credit_id\": \"52fe48009251416c750aca23\", \"de...</td>\n",
              "    </tr>\n",
              "  </tbody>\n",
              "</table>\n",
              "</div>\n",
              "    <div class=\"colab-df-buttons\">\n",
              "\n",
              "  <div class=\"colab-df-container\">\n",
              "    <button class=\"colab-df-convert\" onclick=\"convertToInteractive('df-9c59a162-0963-4f26-b905-0aa9e61aaff6')\"\n",
              "            title=\"Convert this dataframe to an interactive table.\"\n",
              "            style=\"display:none;\">\n",
              "\n",
              "  <svg xmlns=\"http://www.w3.org/2000/svg\" height=\"24px\" viewBox=\"0 -960 960 960\">\n",
              "    <path d=\"M120-120v-720h720v720H120Zm60-500h600v-160H180v160Zm220 220h160v-160H400v160Zm0 220h160v-160H400v160ZM180-400h160v-160H180v160Zm440 0h160v-160H620v160ZM180-180h160v-160H180v160Zm440 0h160v-160H620v160Z\"/>\n",
              "  </svg>\n",
              "    </button>\n",
              "\n",
              "  <style>\n",
              "    .colab-df-container {\n",
              "      display:flex;\n",
              "      gap: 12px;\n",
              "    }\n",
              "\n",
              "    .colab-df-convert {\n",
              "      background-color: #E8F0FE;\n",
              "      border: none;\n",
              "      border-radius: 50%;\n",
              "      cursor: pointer;\n",
              "      display: none;\n",
              "      fill: #1967D2;\n",
              "      height: 32px;\n",
              "      padding: 0 0 0 0;\n",
              "      width: 32px;\n",
              "    }\n",
              "\n",
              "    .colab-df-convert:hover {\n",
              "      background-color: #E2EBFA;\n",
              "      box-shadow: 0px 1px 2px rgba(60, 64, 67, 0.3), 0px 1px 3px 1px rgba(60, 64, 67, 0.15);\n",
              "      fill: #174EA6;\n",
              "    }\n",
              "\n",
              "    .colab-df-buttons div {\n",
              "      margin-bottom: 4px;\n",
              "    }\n",
              "\n",
              "    [theme=dark] .colab-df-convert {\n",
              "      background-color: #3B4455;\n",
              "      fill: #D2E3FC;\n",
              "    }\n",
              "\n",
              "    [theme=dark] .colab-df-convert:hover {\n",
              "      background-color: #434B5C;\n",
              "      box-shadow: 0px 1px 3px 1px rgba(0, 0, 0, 0.15);\n",
              "      filter: drop-shadow(0px 1px 2px rgba(0, 0, 0, 0.3));\n",
              "      fill: #FFFFFF;\n",
              "    }\n",
              "  </style>\n",
              "\n",
              "    <script>\n",
              "      const buttonEl =\n",
              "        document.querySelector('#df-9c59a162-0963-4f26-b905-0aa9e61aaff6 button.colab-df-convert');\n",
              "      buttonEl.style.display =\n",
              "        google.colab.kernel.accessAllowed ? 'block' : 'none';\n",
              "\n",
              "      async function convertToInteractive(key) {\n",
              "        const element = document.querySelector('#df-9c59a162-0963-4f26-b905-0aa9e61aaff6');\n",
              "        const dataTable =\n",
              "          await google.colab.kernel.invokeFunction('convertToInteractive',\n",
              "                                                    [key], {});\n",
              "        if (!dataTable) return;\n",
              "\n",
              "        const docLinkHtml = 'Like what you see? Visit the ' +\n",
              "          '<a target=\"_blank\" href=https://colab.research.google.com/notebooks/data_table.ipynb>data table notebook</a>'\n",
              "          + ' to learn more about interactive tables.';\n",
              "        element.innerHTML = '';\n",
              "        dataTable['output_type'] = 'display_data';\n",
              "        await google.colab.output.renderOutput(dataTable, element);\n",
              "        const docLink = document.createElement('div');\n",
              "        docLink.innerHTML = docLinkHtml;\n",
              "        element.appendChild(docLink);\n",
              "      }\n",
              "    </script>\n",
              "  </div>\n",
              "\n",
              "\n",
              "    </div>\n",
              "  </div>\n"
            ],
            "application/vnd.google.colaboratory.intrinsic+json": {
              "type": "dataframe",
              "variable_name": "credits",
              "summary": "{\n  \"name\": \"credits\",\n  \"rows\": 938,\n  \"fields\": [\n    {\n      \"column\": \"movie_id\",\n      \"properties\": {\n        \"dtype\": \"number\",\n        \"std\": 71642,\n        \"min\": 12,\n        \"max\": 417859,\n        \"num_unique_values\": 938,\n        \"samples\": [\n          8487,\n          68737,\n          145220\n        ],\n        \"semantic_type\": \"\",\n        \"description\": \"\"\n      }\n    },\n    {\n      \"column\": \"title\",\n      \"properties\": {\n        \"dtype\": \"string\",\n        \"num_unique_values\": 938,\n        \"samples\": [\n          \"Wild Wild West\",\n          \"Seventh Son\",\n          \"Muppets Most Wanted\"\n        ],\n        \"semantic_type\": \"\",\n        \"description\": \"\"\n      }\n    },\n    {\n      \"column\": \"cast\",\n      \"properties\": {\n        \"dtype\": \"string\",\n        \"num_unique_values\": 938,\n        \"samples\": [\n          \"[{\\\"cast_id\\\": 25, \\\"character\\\": \\\"Capt. James West\\\", \\\"credit_id\\\": \\\"52fe44adc3a36847f80a3bdb\\\", \\\"gender\\\": 2, \\\"id\\\": 2888, \\\"name\\\": \\\"Will Smith\\\", \\\"order\\\": 0}, {\\\"cast_id\\\": 2, \\\"character\\\": \\\"U.S. Marshal Artemus Gordon\\\", \\\"credit_id\\\": \\\"52fe44adc3a36847f80a3b67\\\", \\\"gender\\\": 2, \\\"id\\\": 8945, \\\"name\\\": \\\"Kevin Kline\\\", \\\"order\\\": 1}, {\\\"cast_id\\\": 3, \\\"character\\\": \\\"Dr. Arliss Loveless\\\", \\\"credit_id\\\": \\\"52fe44adc3a36847f80a3b6b\\\", \\\"gender\\\": 2, \\\"id\\\": 11181, \\\"name\\\": \\\"Kenneth Branagh\\\", \\\"order\\\": 2}, {\\\"cast_id\\\": 4, \\\"character\\\": \\\"Rita Escobar\\\", \\\"credit_id\\\": \\\"52fe44adc3a36847f80a3b6f\\\", \\\"gender\\\": 1, \\\"id\\\": 3136, \\\"name\\\": \\\"Salma Hayek\\\", \\\"order\\\": 3}, {\\\"cast_id\\\": 5, \\\"character\\\": \\\"Coleman\\\", \\\"credit_id\\\": \\\"52fe44adc3a36847f80a3b73\\\", \\\"gender\\\": 2, \\\"id\\\": 588, \\\"name\\\": \\\"M. Emmet Walsh\\\", \\\"order\\\": 4}, {\\\"cast_id\\\": 6, \\\"character\\\": \\\"General 'Bloodbath' McGrath\\\", \\\"credit_id\\\": \\\"52fe44adc3a36847f80a3b77\\\", \\\"gender\\\": 2, \\\"id\\\": 15854, \\\"name\\\": \\\"Ted Levine\\\", \\\"order\\\": 5}, {\\\"cast_id\\\": 7, \\\"character\\\": \\\"Amazonia\\\", \\\"credit_id\\\": \\\"52fe44adc3a36847f80a3b7b\\\", \\\"gender\\\": 1, \\\"id\\\": 55254, \\\"name\\\": \\\"Frederique van der Wal\\\", \\\"order\\\": 6}, {\\\"cast_id\\\": 8, \\\"character\\\": \\\"Munitia\\\", \\\"credit_id\\\": \\\"52fe44adc3a36847f80a3b7f\\\", \\\"gender\\\": 1, \\\"id\\\": 1475, \\\"name\\\": \\\"Musetta Vander\\\", \\\"order\\\": 7}, {\\\"cast_id\\\": 9, \\\"character\\\": \\\"Miss Lippenrieder\\\", \\\"credit_id\\\": \\\"52fe44adc3a36847f80a3b83\\\", \\\"gender\\\": 1, \\\"id\\\": 55255, \\\"name\\\": \\\"Sofia Eng\\\", \\\"order\\\": 8}, {\\\"cast_id\\\": 10, \\\"character\\\": \\\"Belle\\\", \\\"credit_id\\\": \\\"52fe44adc3a36847f80a3b87\\\", \\\"gender\\\": 1, \\\"id\\\": 31647, \\\"name\\\": \\\"Garcelle Beauvais\\\", \\\"order\\\": 9}, {\\\"cast_id\\\": 24, \\\"character\\\": \\\"Miss East\\\", \\\"credit_id\\\": \\\"52fe44adc3a36847f80a3bd7\\\", \\\"gender\\\": 1, \\\"id\\\": 39126, \\\"name\\\": \\\"Bai Ling\\\", \\\"order\\\": 10}, {\\\"cast_id\\\": 26, \\\"character\\\": \\\"Hudson\\\", \\\"credit_id\\\": \\\"571cd3cdc3a36864e0005775\\\", \\\"gender\\\": 2, \\\"id\\\": 7853, \\\"name\\\": \\\"Rodney A. Grant\\\", \\\"order\\\": 11}, {\\\"cast_id\\\": 29, \\\"character\\\": \\\"Mr. Pinkerton\\\", \\\"credit_id\\\": \\\"571cd74e9251414a87001861\\\", \\\"gender\\\": 2, \\\"id\\\": 53778, \\\"name\\\": \\\"E.J. Callahan\\\", \\\"order\\\": 12}, {\\\"cast_id\\\": 30, \\\"character\\\": \\\"Dora Look-Alike\\\", \\\"credit_id\\\": \\\"571cd761c3a368197c0064f1\\\", \\\"gender\\\": 1, \\\"id\\\": 168331, \\\"name\\\": \\\"Debra Christofferson\\\", \\\"order\\\": 13}, {\\\"cast_id\\\": 27, \\\"character\\\": \\\"Cross-Eyed Reb\\\", \\\"credit_id\\\": \\\"571cd3e292514135ff004827\\\", \\\"gender\\\": 2, \\\"id\\\": 71562, \\\"name\\\": \\\"Buck Taylor\\\", \\\"order\\\": 14}, {\\\"cast_id\\\": 31, \\\"character\\\": \\\"Reb #1\\\", \\\"credit_id\\\": \\\"571cd77c9251415fd00006a6\\\", \\\"gender\\\": 2, \\\"id\\\": 69502, \\\"name\\\": \\\"James Lashly\\\", \\\"order\\\": 15}, {\\\"cast_id\\\": 32, \\\"character\\\": \\\"Reb #2\\\", \\\"credit_id\\\": \\\"571cd793c3a368197c0064fa\\\", \\\"gender\\\": 2, \\\"id\\\": 1279744, \\\"name\\\": \\\"Dean Rader Duval\\\", \\\"order\\\": 16}, {\\\"cast_id\\\": 28, \\\"character\\\": \\\"Other Reb\\\", \\\"credit_id\\\": \\\"571cd653c3a368197c0064d2\\\", \\\"gender\\\": 2, \\\"id\\\": 1100323, \\\"name\\\": \\\"Jerry Wills\\\", \\\"order\\\": 17}, {\\\"cast_id\\\": 11, \\\"character\\\": \\\"Big reb\\\", \\\"credit_id\\\": \\\"52fe44adc3a36847f80a3b8b\\\", \\\"gender\\\": 0, \\\"id\\\": 16163, \\\"name\\\": \\\"Mike H. McGaughy\\\", \\\"order\\\": 18}, {\\\"cast_id\\\": 33, \\\"character\\\": \\\"French Dignitary\\\", \\\"credit_id\\\": \\\"571cda36c3a36864e0005871\\\", \\\"gender\\\": 2, \\\"id\\\": 14740, \\\"name\\\": \\\"Christian Aubert\\\", \\\"order\\\": 19}, {\\\"cast_id\\\": 34, \\\"character\\\": \\\"Spanish Dignitary\\\", \\\"credit_id\\\": \\\"571cda4892514135ff004920\\\", \\\"gender\\\": 2, \\\"id\\\": 53403, \\\"name\\\": \\\"Orestes Matacena\\\", \\\"order\\\": 20}, {\\\"cast_id\\\": 35, \\\"character\\\": \\\"British Dignitary\\\", \\\"credit_id\\\": \\\"571cda5ac3a3684e980017e1\\\", \\\"gender\\\": 2, \\\"id\\\": 11764, \\\"name\\\": \\\"Ian Abercrombie\\\", \\\"order\\\": 21}, {\\\"cast_id\\\": 43, \\\"character\\\": \\\"Mexican Dignitary\\\", \\\"credit_id\\\": \\\"57293cc69251414e06000236\\\", \\\"gender\\\": 2, \\\"id\\\": 160375, \\\"name\\\": \\\"Ismael 'East' Carlo\\\", \\\"order\\\": 22}, {\\\"cast_id\\\": 37, \\\"character\\\": \\\"White House Aide\\\", \\\"credit_id\\\": \\\"571cdcf6c3a36864e00058cc\\\", \\\"gender\\\": 2, \\\"id\\\": 104915, \\\"name\\\": \\\"Bob Rumnock\\\", \\\"order\\\": 23}, {\\\"cast_id\\\": 38, \\\"character\\\": \\\"Dr. Guillermo Escobar\\\", \\\"credit_id\\\": \\\"571cdd10c3a3684e9800183d\\\", \\\"gender\\\": 2, \\\"id\\\": 48136, \\\"name\\\": \\\"Gary Carlos Cervantes\\\", \\\"order\\\": 24}, {\\\"cast_id\\\": 39, \\\"character\\\": \\\"George Washington\\\", \\\"credit_id\\\": \\\"571cdecec3a368197c006630\\\", \\\"gender\\\": 2, \\\"id\\\": 137910, \\\"name\\\": \\\"Jerry Potter\\\", \\\"order\\\": 25}, {\\\"cast_id\\\": 40, \\\"character\\\": \\\"Guard\\\", \\\"credit_id\\\": \\\"571cdf29c3a3684e6200192c\\\", \\\"gender\\\": 2, \\\"id\\\": 157021, \\\"name\\\": \\\"Mik Scriba\\\", \\\"order\\\": 26}, {\\\"cast_id\\\": 41, \\\"character\\\": \\\"Prof. Thaddeus Morton\\\", \\\"credit_id\\\": \\\"571cdf61c3a36842aa000e8c\\\", \\\"gender\\\": 0, \\\"id\\\": 1610268, \\\"name\\\": \\\"Michael Sims\\\", \\\"order\\\": 27}, {\\\"cast_id\\\": 42, \\\"character\\\": \\\"Little Girl (uncredited)\\\", \\\"credit_id\\\": \\\"571cdfb69251415fd00007d1\\\", \\\"gender\\\": 1, \\\"id\\\": 1610271, \\\"name\\\": \\\"Natalie Fabry\\\", \\\"order\\\": 28}]\",\n          \"[{\\\"cast_id\\\": 2, \\\"character\\\": \\\"Master Gregory\\\", \\\"credit_id\\\": \\\"52fe47a2c3a368484e0d1d41\\\", \\\"gender\\\": 2, \\\"id\\\": 1229, \\\"name\\\": \\\"Jeff Bridges\\\", \\\"order\\\": 0}, {\\\"cast_id\\\": 3, \\\"character\\\": \\\"Mother Malkin\\\", \\\"credit_id\\\": \\\"52fe47a2c3a368484e0d1d45\\\", \\\"gender\\\": 1, \\\"id\\\": 1231, \\\"name\\\": \\\"Julianne Moore\\\", \\\"order\\\": 1}, {\\\"cast_id\\\": 4, \\\"character\\\": \\\"Tom Ward\\\", \\\"credit_id\\\": \\\"52fe47a2c3a368484e0d1d49\\\", \\\"gender\\\": 2, \\\"id\\\": 25130, \\\"name\\\": \\\"Ben Barnes\\\", \\\"order\\\": 2}, {\\\"cast_id\\\": 5, \\\"character\\\": \\\"Alice Deane\\\", \\\"credit_id\\\": \\\"52fe47a2c3a368484e0d1d4d\\\", \\\"gender\\\": 1, \\\"id\\\": 227454, \\\"name\\\": \\\"Alicia Vikander\\\", \\\"order\\\": 3}, {\\\"cast_id\\\": 10, \\\"character\\\": \\\"Billy Bradley\\\", \\\"credit_id\\\": \\\"53da2ce9c3a3681eee0013f8\\\", \\\"gender\\\": 2, \\\"id\\\": 239019, \\\"name\\\": \\\"Kit Harington\\\", \\\"order\\\": 4}, {\\\"cast_id\\\": 11, \\\"character\\\": \\\"Radu\\\", \\\"credit_id\\\": \\\"547dd4aec3a3685af3004c70\\\", \\\"gender\\\": 2, \\\"id\\\": 938, \\\"name\\\": \\\"Djimon Hounsou\\\", \\\"order\\\": 5}, {\\\"cast_id\\\": 12, \\\"character\\\": \\\"Mam Ward\\\", \\\"credit_id\\\": \\\"547dd4b69251412d780057a9\\\", \\\"gender\\\": 1, \\\"id\\\": 11616, \\\"name\\\": \\\"Olivia Williams\\\", \\\"order\\\": 6}, {\\\"cast_id\\\": 13, \\\"character\\\": \\\"Bony Lizzie\\\", \\\"credit_id\\\": \\\"547dd4d9c3a3685b05005daf\\\", \\\"gender\\\": 1, \\\"id\\\": 43202, \\\"name\\\": \\\"Antje Traue\\\", \\\"order\\\": 7}, {\\\"cast_id\\\": 14, \\\"character\\\": \\\"Urag\\\", \\\"credit_id\\\": \\\"547dd4e59251412d7c005cae\\\", \\\"gender\\\": 2, \\\"id\\\": 58319, \\\"name\\\": \\\"Jason Scott Lee\\\", \\\"order\\\": 8}, {\\\"cast_id\\\": 15, \\\"character\\\": \\\"Rogue Knight\\\", \\\"credit_id\\\": \\\"547dd4f192514123ef003de4\\\", \\\"gender\\\": 2, \\\"id\\\": 155282, \\\"name\\\": \\\"David Cubitt\\\", \\\"order\\\": 9}, {\\\"cast_id\\\": 16, \\\"character\\\": \\\"Old Guard\\\", \\\"credit_id\\\": \\\"547dd4fc9251412d780057ad\\\", \\\"gender\\\": 2, \\\"id\\\": 2250, \\\"name\\\": \\\"Eric Keenleyside\\\", \\\"order\\\": 10}, {\\\"cast_id\\\": 17, \\\"character\\\": \\\"Fisherman\\\", \\\"credit_id\\\": \\\"547dd50ac3a3685aed006312\\\", \\\"gender\\\": 2, \\\"id\\\": 1300745, \\\"name\\\": \\\"Thai-Hoa Le\\\", \\\"order\\\": 11}, {\\\"cast_id\\\": 18, \\\"character\\\": \\\"Member of Mob\\\", \\\"credit_id\\\": \\\"547dd51692514123ef003dee\\\", \\\"gender\\\": 0, \\\"id\\\": 1392937, \\\"name\\\": \\\"Carmel Amit\\\", \\\"order\\\": 12}, {\\\"cast_id\\\": 19, \\\"character\\\": \\\"Prelate\\\", \\\"credit_id\\\": \\\"547dd5229251412d780057b2\\\", \\\"gender\\\": 2, \\\"id\\\": 27124, \\\"name\\\": \\\"Gerard Plunkett\\\", \\\"order\\\": 13}, {\\\"cast_id\\\": 20, \\\"character\\\": \\\"Leader Soldier\\\", \\\"credit_id\\\": \\\"547dd5329251412d780057b5\\\", \\\"gender\\\": 0, \\\"id\\\": 1328755, \\\"name\\\": \\\"Jim Shield\\\", \\\"order\\\": 14}, {\\\"cast_id\\\": 21, \\\"character\\\": \\\"Malcom Ward\\\", \\\"credit_id\\\": \\\"547dd541c3a3685b05005dbc\\\", \\\"gender\\\": 2, \\\"id\\\": 53720, \\\"name\\\": \\\"Timothy Webber\\\", \\\"order\\\": 15}, {\\\"cast_id\\\": 22, \\\"character\\\": \\\"Tomb Robber\\\", \\\"credit_id\\\": \\\"547dd54ec3a3685aed00631f\\\", \\\"gender\\\": 0, \\\"id\\\": 1061054, \\\"name\\\": \\\"Julian Black Antelope\\\", \\\"order\\\": 16}, {\\\"cast_id\\\": 23, \\\"character\\\": \\\"Strix\\\", \\\"credit_id\\\": \\\"547dd5ad9251412d6d005916\\\", \\\"gender\\\": 2, \\\"id\\\": 1356538, \\\"name\\\": \\\"Luc Roderique\\\", \\\"order\\\": 17}, {\\\"cast_id\\\": 24, \\\"character\\\": \\\"Soldier\\\", \\\"credit_id\\\": \\\"547dd5c592514123ef003e0a\\\", \\\"gender\\\": 2, \\\"id\\\": 583052, \\\"name\\\": \\\"Sean Carey\\\", \\\"order\\\": 18}, {\\\"cast_id\\\": 25, \\\"character\\\": \\\"Grave Robber\\\", \\\"credit_id\\\": \\\"547dd5d4c3a3685af90050ae\\\", \\\"gender\\\": 0, \\\"id\\\": 1366510, \\\"name\\\": \\\"Fraser Aitcheson\\\", \\\"order\\\": 19}, {\\\"cast_id\\\": 26, \\\"character\\\": \\\"Virahadra\\\", \\\"credit_id\\\": \\\"547dd6f49251412d7f005a0d\\\", \\\"gender\\\": 2, \\\"id\\\": 58902, \\\"name\\\": \\\"Zahf Paroo\\\", \\\"order\\\": 20}, {\\\"cast_id\\\": 27, \\\"character\\\": \\\"Grave-robber\\\", \\\"credit_id\\\": \\\"547dd7009251412d700061b9\\\", \\\"gender\\\": 2, \\\"id\\\": 2277, \\\"name\\\": \\\"Loyd Catlett\\\", \\\"order\\\": 21}, {\\\"cast_id\\\": 28, \\\"character\\\": \\\"Simon Ward\\\", \\\"credit_id\\\": \\\"547dd70ec3a3685af90050d6\\\", \\\"gender\\\": 0, \\\"id\\\": 1366661, \\\"name\\\": \\\"Primo Allon\\\", \\\"order\\\": 22}, {\\\"cast_id\\\": 29, \\\"character\\\": \\\"Cate Ward\\\", \\\"credit_id\\\": \\\"547dd7199251412d700061bf\\\", \\\"gender\\\": 0, \\\"id\\\": 584543, \\\"name\\\": \\\"Lilah Fitzgerald\\\", \\\"order\\\": 23}, {\\\"cast_id\\\": 31, \\\"character\\\": \\\"Little Girl\\\", \\\"credit_id\\\": \\\"547dd733c3a3685b05005e0c\\\", \\\"gender\\\": 0, \\\"id\\\": 1392949, \\\"name\\\": \\\"Taya Clyne\\\", \\\"order\\\": 25}, {\\\"cast_id\\\": 30, \\\"character\\\": \\\"Innkeeper\\\", \\\"credit_id\\\": \\\"547dd7249251412d6d005940\\\", \\\"gender\\\": 0, \\\"id\\\": 1368501, \\\"name\\\": \\\"Faustino Di Bauda\\\", \\\"order\\\": 26}, {\\\"cast_id\\\": 32, \\\"character\\\": \\\"Young Guard\\\", \\\"credit_id\\\": \\\"547dd73f9251411f4e004697\\\", \\\"gender\\\": 2, \\\"id\\\": 1392950, \\\"name\\\": \\\"Billy Wickman\\\", \\\"order\\\": 27}, {\\\"cast_id\\\": 34, \\\"character\\\": \\\"Stray Dog\\\", \\\"credit_id\\\": \\\"547dd7619251412d7c005cff\\\", \\\"gender\\\": 1, \\\"id\\\": 219303, \\\"name\\\": \\\"Duffy\\\", \\\"order\\\": 28}, {\\\"cast_id\\\": 35, \\\"character\\\": \\\"Jack Ward\\\", \\\"credit_id\\\": \\\"547dd76c9251412d7c005d03\\\", \\\"gender\\\": 0, \\\"id\\\": 1392952, \\\"name\\\": \\\"Marcel Bridges\\\", \\\"order\\\": 29}, {\\\"cast_id\\\": 36, \\\"character\\\": \\\"Head Counselor\\\", \\\"credit_id\\\": \\\"547dd7779251412d700061d1\\\", \\\"gender\\\": 0, \\\"id\\\": 1392953, \\\"name\\\": \\\"Yaroslav Poverlo\\\", \\\"order\\\": 30}, {\\\"cast_id\\\": 37, \\\"character\\\": \\\"Priest's Wife\\\", \\\"credit_id\\\": \\\"547dd7889251412d7c005d08\\\", \\\"gender\\\": 0, \\\"id\\\": 1392954, \\\"name\\\": \\\"Isabelle Landry\\\", \\\"order\\\": 31}, {\\\"cast_id\\\": 38, \\\"character\\\": \\\"Mongolian\\\", \\\"credit_id\\\": \\\"547dd795c3a3685aed006374\\\", \\\"gender\\\": 0, \\\"id\\\": 1259945, \\\"name\\\": \\\"Jason Asuncion\\\", \\\"order\\\": 32}, {\\\"cast_id\\\": 39, \\\"character\\\": \\\"Noblewoman\\\", \\\"credit_id\\\": \\\"547dd7a3c3a3685af0006190\\\", \\\"gender\\\": 0, \\\"id\\\": 1392956, \\\"name\\\": \\\"Joanne Bentley\\\", \\\"order\\\": 33}, {\\\"cast_id\\\": 40, \\\"character\\\": \\\"Soldier\\\", \\\"credit_id\\\": \\\"547dd7ae9251412d6d005956\\\", \\\"gender\\\": 0, \\\"id\\\": 1392957, \\\"name\\\": \\\"Anthony Welch\\\", \\\"order\\\": 34}, {\\\"cast_id\\\": 55, \\\"character\\\": \\\"Timeless Hag\\\", \\\"credit_id\\\": \\\"553b2c219251413f5a005344\\\", \\\"gender\\\": 1, \\\"id\\\": 61168, \\\"name\\\": \\\"Brenda McDonald\\\", \\\"order\\\": 35}]\",\n          \"[{\\\"cast_id\\\": 15, \\\"character\\\": \\\"Dominic Badguy\\\", \\\"credit_id\\\": \\\"52fe4b539251416c750ff6d5\\\", \\\"gender\\\": 2, \\\"id\\\": 17835, \\\"name\\\": \\\"Ricky Gervais\\\", \\\"order\\\": 0}, {\\\"cast_id\\\": 16, \\\"character\\\": \\\"Jean Pierre Napoleon\\\", \\\"credit_id\\\": \\\"52fe4b539251416c750ff6d9\\\", \\\"gender\\\": 2, \\\"id\\\": 15232, \\\"name\\\": \\\"Ty Burrell\\\", \\\"order\\\": 1}, {\\\"cast_id\\\": 13, \\\"character\\\": \\\"Nadya\\\", \\\"credit_id\\\": \\\"52fe4b539251416c750ff6cd\\\", \\\"gender\\\": 1, \\\"id\\\": 56323, \\\"name\\\": \\\"Tina Fey\\\", \\\"order\\\": 2}, {\\\"cast_id\\\": 19, \\\"character\\\": \\\"Kermit the Frog / Foo Foo / Statler / Beaker / Lips / Rizzo the Rat / Link Hogthrob / The Newsman (voice)\\\", \\\"credit_id\\\": \\\"52fe4b549251416c750ff6e5\\\", \\\"gender\\\": 2, \\\"id\\\": 64180, \\\"name\\\": \\\"Steve Whitmire\\\", \\\"order\\\": 3}, {\\\"cast_id\\\": 21, \\\"character\\\": \\\"Miss Piggy / Fozzie Bear / Animal / Sam Eagle (voice)\\\", \\\"credit_id\\\": \\\"52fe4b549251416c750ff6ed\\\", \\\"gender\\\": 2, \\\"id\\\": 97185, \\\"name\\\": \\\"Eric Jacobson\\\", \\\"order\\\": 4}, {\\\"cast_id\\\": 22, \\\"character\\\": \\\"Gonzo / Dr. Bunsen Honeydew / Zoot / Beauregard / Waldorf (voice)\\\", \\\"credit_id\\\": \\\"52fe4b549251416c750ff6f1\\\", \\\"gender\\\": 2, \\\"id\\\": 64181, \\\"name\\\": \\\"Dave Goelz\\\", \\\"order\\\": 5}, {\\\"cast_id\\\": 24, \\\"character\\\": \\\"Pepe the King Prawn / Rowlf the Dog / Dr. Teeth / The Swedish Chef / Bobo the Bear / Big Mean Carl / Baby Boss / Carlo Flamingo / Leprechaun Security Guard (voice)\\\", \\\"credit_id\\\": \\\"52fe4b549251416c750ff6f9\\\", \\\"gender\\\": 2, \\\"id\\\": 64182, \\\"name\\\": \\\"Bill Barretta\\\", \\\"order\\\": 6}, {\\\"cast_id\\\": 27, \\\"character\\\": \\\"Constantine / Floyd Pepper / Sweetums / Pops / Robin / Lew Zealand / Crazy Harry / 80's Robot / Camilla / Uncle Deadly (voice)\\\", \\\"credit_id\\\": \\\"52fe4b549251416c750ff705\\\", \\\"gender\\\": 0, \\\"id\\\": 135467, \\\"name\\\": \\\"Matt Vogel\\\", \\\"order\\\": 7}, {\\\"cast_id\\\": 18, \\\"character\\\": \\\"Walter / Manolo Flamingo (voice)\\\", \\\"credit_id\\\": \\\"52fe4b539251416c750ff6e1\\\", \\\"gender\\\": 2, \\\"id\\\": 360193, \\\"name\\\": \\\"Peter Linz\\\", \\\"order\\\": 8}, {\\\"cast_id\\\": 31, \\\"character\\\": \\\"The Great Escapo\\\", \\\"credit_id\\\": \\\"52fe4b549251416c750ff715\\\", \\\"gender\\\": 2, \\\"id\\\": 91606, \\\"name\\\": \\\"Tom Hiddleston\\\", \\\"order\\\": 9}, {\\\"cast_id\\\": 32, \\\"character\\\": \\\"Herself\\\", \\\"credit_id\\\": \\\"52fe4b549251416c750ff719\\\", \\\"gender\\\": 1, \\\"id\\\": 3136, \\\"name\\\": \\\"Salma Hayek\\\", \\\"order\\\": 10}, {\\\"cast_id\\\": 14, \\\"character\\\": \\\"Big Papa\\\", \\\"credit_id\\\": \\\"52fe4b539251416c750ff6d1\\\", \\\"gender\\\": 2, \\\"id\\\": 11477, \\\"name\\\": \\\"Ray Liotta\\\", \\\"order\\\": 11}, {\\\"cast_id\\\": 17, \\\"character\\\": \\\"Berliner #1\\\", \\\"credit_id\\\": \\\"52fe4b539251416c750ff6dd\\\", \\\"gender\\\": 0, \\\"id\\\": 997569, \\\"name\\\": \\\"Kenneth Collard\\\", \\\"order\\\": 12}, {\\\"cast_id\\\": 20, \\\"character\\\": \\\"German Lady in the Audience\\\", \\\"credit_id\\\": \\\"52fe4b549251416c750ff6e9\\\", \\\"gender\\\": 1, \\\"id\\\": 1147918, \\\"name\\\": \\\"Pamela Betsy Cooper\\\", \\\"order\\\": 13}, {\\\"cast_id\\\": 23, \\\"character\\\": \\\"Joe\\\", \\\"credit_id\\\": \\\"52fe4b549251416c750ff6f5\\\", \\\"gender\\\": 0, \\\"id\\\": 1147919, \\\"name\\\": \\\"James Pasierbowicz\\\", \\\"order\\\": 14}, {\\\"cast_id\\\": 25, \\\"character\\\": \\\"Commuter\\\", \\\"credit_id\\\": \\\"52fe4b549251416c750ff6fd\\\", \\\"gender\\\": 0, \\\"id\\\": 1147920, \\\"name\\\": \\\"Richard Herdman\\\", \\\"order\\\": 15}, {\\\"cast_id\\\": 26, \\\"character\\\": \\\"Scooter / Janice / Miss Poogy / Bobby Benson / Wayne (voice)\\\", \\\"credit_id\\\": \\\"52fe4b549251416c750ff701\\\", \\\"gender\\\": 0, \\\"id\\\": 192632, \\\"name\\\": \\\"David Rudman\\\", \\\"order\\\": 16}, {\\\"cast_id\\\": 28, \\\"character\\\": \\\"Spanish Train Porter\\\", \\\"credit_id\\\": \\\"52fe4b549251416c750ff709\\\", \\\"gender\\\": 0, \\\"id\\\": 1138597, \\\"name\\\": \\\"Luke Howard\\\", \\\"order\\\": 17}, {\\\"cast_id\\\": 29, \\\"character\\\": \\\"German Audience Member\\\", \\\"credit_id\\\": \\\"52fe4b549251416c750ff70d\\\", \\\"gender\\\": 0, \\\"id\\\": 1147921, \\\"name\\\": \\\"Pete Meads\\\", \\\"order\\\": 18}, {\\\"cast_id\\\": 30, \\\"character\\\": \\\"Audience Member\\\", \\\"credit_id\\\": \\\"52fe4b549251416c750ff711\\\", \\\"gender\\\": 0, \\\"id\\\": 1106760, \\\"name\\\": \\\"Ricky Rajpal\\\", \\\"order\\\": 19}, {\\\"cast_id\\\": 33, \\\"character\\\": \\\"Danny Trejo\\\", \\\"credit_id\\\": \\\"52fe4b549251416c750ff71d\\\", \\\"gender\\\": 2, \\\"id\\\": 11160, \\\"name\\\": \\\"Danny Trejo\\\", \\\"order\\\": 20}, {\\\"cast_id\\\": 34, \\\"character\\\": \\\"Ivan the Guard\\\", \\\"credit_id\\\": \\\"53033ee4c3a3680a3f580256\\\", \\\"gender\\\": 2, \\\"id\\\": 2283, \\\"name\\\": \\\"Stanley Tucci\\\", \\\"order\\\": 21}, {\\\"cast_id\\\": 35, \\\"character\\\": \\\"Prison King\\\", \\\"credit_id\\\": \\\"532f0a849251413a7e00373c\\\", \\\"gender\\\": 0, \\\"id\\\": 55936, \\\"name\\\": \\\"Jemaine Clement\\\", \\\"order\\\": 22}, {\\\"cast_id\\\": 39, \\\"character\\\": \\\"Hobo Joe\\\", \\\"credit_id\\\": \\\"547065c192514112ee0042bd\\\", \\\"gender\\\": 2, \\\"id\\\": 58225, \\\"name\\\": \\\"Zach Galifianakis\\\", \\\"order\\\": 23}, {\\\"cast_id\\\": 40, \\\"character\\\": \\\"Theater Manager\\\", \\\"credit_id\\\": \\\"547065e192514112f3004951\\\", \\\"gender\\\": 2, \\\"id\\\": 2441, \\\"name\\\": \\\"Tom Hollander\\\", \\\"order\\\": 24}, {\\\"cast_id\\\": 41, \\\"character\\\": \\\"Prado Museum Guard #2\\\", \\\"credit_id\\\": \\\"547065f192514170660022e9\\\", \\\"gender\\\": 2, \\\"id\\\": 13014, \\\"name\\\": \\\"Toby Jones\\\", \\\"order\\\": 25}, {\\\"cast_id\\\": 42, \\\"character\\\": \\\"Beefeater Vicar\\\", \\\"credit_id\\\": \\\"5470660cc3a36830c4000924\\\", \\\"gender\\\": 2, \\\"id\\\": 8924, \\\"name\\\": \\\"Frank Langella\\\", \\\"order\\\": 26}, {\\\"cast_id\\\": 43, \\\"character\\\": \\\"UPS Guy\\\", \\\"credit_id\\\": \\\"5470661cc3a36828e0000dc1\\\", \\\"gender\\\": 2, \\\"id\\\": 5530, \\\"name\\\": \\\"James McAvoy\\\", \\\"order\\\": 27}, {\\\"cast_id\\\": 44, \\\"character\\\": \\\"Newspaper Girl\\\", \\\"credit_id\\\": \\\"54706636c3a3682fa70045b1\\\", \\\"gender\\\": 1, \\\"id\\\": 56734, \\\"name\\\": \\\"Chlo\\\\u00eb Grace Moretz\\\", \\\"order\\\": 28}, {\\\"cast_id\\\": 45, \\\"character\\\": \\\"Berliner at Window\\\", \\\"credit_id\\\": \\\"5470665b92514112e90044a2\\\", \\\"gender\\\": 1, \\\"id\\\": 8436, \\\"name\\\": \\\"Miranda Richardson\\\", \\\"order\\\": 29}, {\\\"cast_id\\\": 46, \\\"character\\\": \\\"Ballet Dancer\\\", \\\"credit_id\\\": \\\"5470667092514112e7004bac\\\", \\\"gender\\\": 1, \\\"id\\\": 36592, \\\"name\\\": \\\"Saoirse Ronan\\\", \\\"order\\\": 30}, {\\\"cast_id\\\": 47, \\\"character\\\": \\\"German Cop\\\", \\\"credit_id\\\": \\\"54706681c3a3682f9a004bb1\\\", \\\"gender\\\": 2, \\\"id\\\": 1844, \\\"name\\\": \\\"Til Schweiger\\\", \\\"order\\\": 31}, {\\\"cast_id\\\": 48, \\\"character\\\": \\\"Delivery Man\\\", \\\"credit_id\\\": \\\"5470669592514112ee0042e5\\\", \\\"gender\\\": 0, \\\"id\\\": 55469, \\\"name\\\": \\\"Russell Tovey\\\", \\\"order\\\": 32}, {\\\"cast_id\\\": 49, \\\"character\\\": \\\"Himself\\\", \\\"credit_id\\\": \\\"547066afc3a3682f9a004bb7\\\", \\\"gender\\\": 2, \\\"id\\\": 27319, \\\"name\\\": \\\"Christoph Waltz\\\", \\\"order\\\": 33}, {\\\"cast_id\\\": 50, \\\"character\\\": \\\"Christopher Waltz\\\", \\\"credit_id\\\": \\\"547066c092514112ee0042ed\\\", \\\"gender\\\": 2, \\\"id\\\": 27319, \\\"name\\\": \\\"Christoph Waltz\\\", \\\"order\\\": 34}, {\\\"cast_id\\\": 51, \\\"character\\\": \\\"Irish Journalist\\\", \\\"credit_id\\\": \\\"547066f29251413813000bce\\\", \\\"gender\\\": 2, \\\"id\\\": 19923, \\\"name\\\": \\\"Hugh Bonneville\\\", \\\"order\\\": 35}, {\\\"cast_id\\\": 52, \\\"character\\\": \\\"Prado Museum Guard #1\\\", \\\"credit_id\\\": \\\"54706704c3a36814aa000381\\\", \\\"gender\\\": 2, \\\"id\\\": 1711, \\\"name\\\": \\\"Mackenzie Crook\\\", \\\"order\\\": 36}, {\\\"cast_id\\\": 53, \\\"character\\\": \\\"Himself\\\", \\\"credit_id\\\": \\\"55e90b4a9251413e35004487\\\", \\\"gender\\\": 2, \\\"id\\\": 138986, \\\"name\\\": \\\"Tony Bennett\\\", \\\"order\\\": 37}, {\\\"cast_id\\\": 54, \\\"character\\\": \\\"Announcer\\\", \\\"credit_id\\\": \\\"55e90b4b9251413e41004465\\\", \\\"gender\\\": 0, \\\"id\\\": 1504910, \\\"name\\\": \\\"Andr\\\\u00e9s Cantor\\\", \\\"order\\\": 38}, {\\\"cast_id\\\": 55, \\\"character\\\": \\\"Himself\\\", \\\"credit_id\\\": \\\"55e90b4bc3a3682c5d004c73\\\", \\\"gender\\\": 2, \\\"id\\\": 16450, \\\"name\\\": \\\"Sean Combs\\\", \\\"order\\\": 39}, {\\\"cast_id\\\": 56, \\\"character\\\": \\\"First AD\\\", \\\"credit_id\\\": \\\"55e90b4b9251413e3a004667\\\", \\\"gender\\\": 2, \\\"id\\\": 52997, \\\"name\\\": \\\"Rob Corddry\\\", \\\"order\\\": 40}, {\\\"cast_id\\\": 58, \\\"character\\\": \\\"Herself\\\", \\\"credit_id\\\": \\\"55e90b4c9251413e3e0048a2\\\", \\\"gender\\\": 1, \\\"id\\\": 237405, \\\"name\\\": \\\"Lady Gaga\\\", \\\"order\\\": 42}, {\\\"cast_id\\\": 59, \\\"character\\\": \\\"Maximum Security Prisoner\\\", \\\"credit_id\\\": \\\"55e90b4cc3a3682c5d004c75\\\", \\\"gender\\\": 2, \\\"id\\\": 117470, \\\"name\\\": \\\"Josh Groban\\\", \\\"order\\\": 43}, {\\\"cast_id\\\": 60, \\\"character\\\": \\\"Young Florist\\\", \\\"credit_id\\\": \\\"55e90b4cc3a3682c6200474b\\\", \\\"gender\\\": 2, \\\"id\\\": 973385, \\\"name\\\": \\\"Ross Lynch\\\", \\\"order\\\": 44}, {\\\"cast_id\\\": 61, \\\"character\\\": \\\"Other Guard\\\", \\\"credit_id\\\": \\\"55e90b4dc3a3682c76004113\\\", \\\"gender\\\": 2, \\\"id\\\": 1315418, \\\"name\\\": \\\"Aleksandar Miki\\\\u0107\\\", \\\"order\\\": 45}, {\\\"cast_id\\\": 62, \\\"character\\\": \\\"Berliner #3\\\", \\\"credit_id\\\": \\\"55e90b4dc3a3682c5d004c78\\\", \\\"gender\\\": 0, \\\"id\\\": 1504912, \\\"name\\\": \\\"Fleur Poad\\\", \\\"order\\\": 46}, {\\\"cast_id\\\": 63, \\\"character\\\": \\\"Prisoner One\\\", \\\"credit_id\\\": \\\"55e90b4dc3a3682c6700475d\\\", \\\"gender\\\": 0, \\\"id\\\": 1082302, \\\"name\\\": \\\"Dylan Postl\\\", \\\"order\\\": 47}, {\\\"cast_id\\\": 64, \\\"character\\\": \\\"The Usher\\\", \\\"credit_id\\\": \\\"55e90b4e9251413e38004551\\\", \\\"gender\\\": 0, \\\"id\\\": 57108, \\\"name\\\": \\\"Usher Raymond\\\", \\\"order\\\": 48}, {\\\"cast_id\\\": 65, \\\"character\\\": \\\"Annie Sue / UK Muppet Performer (voice)\\\", \\\"credit_id\\\": \\\"55e90b4e9251413e3500448a\\\", \\\"gender\\\": 0, \\\"id\\\": 1228891, \\\"name\\\": \\\"Louise Gold\\\", \\\"order\\\": 49}, {\\\"cast_id\\\": 66, \\\"character\\\": \\\"UK Muppet Performer (voice)\\\", \\\"credit_id\\\": \\\"55e90b4ec3a3682c640040a6\\\", \\\"gender\\\": 2, \\\"id\\\": 1401233, \\\"name\\\": \\\"Nigel Plaskitt\\\", \\\"order\\\": 50}, {\\\"cast_id\\\": 67, \\\"character\\\": \\\"UK Muppet Performer (voice)\\\", \\\"credit_id\\\": \\\"55e90b4ec3a3682c5f0049a5\\\", \\\"gender\\\": 0, \\\"id\\\": 102757, \\\"name\\\": \\\"Mak Wilson\\\", \\\"order\\\": 51}, {\\\"cast_id\\\": 68, \\\"character\\\": \\\"UK Muppet Performer (voice)\\\", \\\"credit_id\\\": \\\"55e90b4f9251413e320044e8\\\", \\\"gender\\\": 0, \\\"id\\\": 1504913, \\\"name\\\": \\\"Warrick Brownlow-Pike\\\", \\\"order\\\": 52}, {\\\"cast_id\\\": 69, \\\"character\\\": \\\"UK Muppet Performer (voice)\\\", \\\"credit_id\\\": \\\"55e90b4fc3a3682c76004118\\\", \\\"gender\\\": 0, \\\"id\\\": 1504914, \\\"name\\\": \\\"David Covarrubias\\\", \\\"order\\\": 53}, {\\\"cast_id\\\": 70, \\\"character\\\": \\\"UK Additional Muppet Performer (voice)\\\", \\\"credit_id\\\": \\\"55e90b4fc3a3682c5d004c7c\\\", \\\"gender\\\": 0, \\\"id\\\": 65294, \\\"name\\\": \\\"Don Austen\\\", \\\"order\\\": 54}, {\\\"cast_id\\\": 71, \\\"character\\\": \\\"UK Additional Muppet Performer (voice)\\\", \\\"credit_id\\\": \\\"55e90b509251413e2f00454d\\\", \\\"gender\\\": 0, \\\"id\\\": 1504915, \\\"name\\\": \\\"William Banyard\\\", \\\"order\\\": 55}, {\\\"cast_id\\\": 72, \\\"character\\\": \\\"UK Additional Muppet Performer (voice)\\\", \\\"credit_id\\\": \\\"55e90b50c3a3682c70004469\\\", \\\"gender\\\": 0, \\\"id\\\": 1504916, \\\"name\\\": \\\"Daisy Beattie\\\", \\\"order\\\": 56}, {\\\"cast_id\\\": 73, \\\"character\\\": \\\"UK Additional Muppet Performer (voice)\\\", \\\"credit_id\\\": \\\"55e90b509251413e3500448d\\\", \\\"gender\\\": 0, \\\"id\\\": 1504917, \\\"name\\\": \\\"Sue Beattie\\\", \\\"order\\\": 57}, {\\\"cast_id\\\": 74, \\\"character\\\": \\\"UK Additional Muppet Performer (voice)\\\", \\\"credit_id\\\": \\\"55e90b51c3a3682c6b004429\\\", \\\"gender\\\": 1, \\\"id\\\": 1504918, \\\"name\\\": \\\"Lynn Robertson Bruce\\\", \\\"order\\\": 58}, {\\\"cast_id\\\": 75, \\\"character\\\": \\\"LA Muppet Performer (voice)\\\", \\\"credit_id\\\": \\\"55e90b519251413e35004491\\\", \\\"gender\\\": 2, \\\"id\\\": 946673, \\\"name\\\": \\\"Brian Jones\\\", \\\"order\\\": 59}, {\\\"cast_id\\\": 76, \\\"character\\\": \\\"\\\", \\\"credit_id\\\": \\\"5710337c925141626c00095e\\\", \\\"gender\\\": 1, \\\"id\\\": 16303, \\\"name\\\": \\\"C\\\\u00e9line Dion\\\", \\\"order\\\": 60}, {\\\"cast_id\\\": 77, \\\"character\\\": \\\"Gulag Guard (uncredited)\\\", \\\"credit_id\\\": \\\"588369af925141045d0097ff\\\", \\\"gender\\\": 2, \\\"id\\\": 11115, \\\"name\\\": \\\"Peter Serafinowicz\\\", \\\"order\\\": 61}, {\\\"cast_id\\\": 78, \\\"character\\\": \\\"\\\", \\\"credit_id\\\": \\\"5974f207c3a36842c20139f6\\\", \\\"gender\\\": 2, \\\"id\\\": 974, \\\"name\\\": \\\"Dexter Fletcher\\\", \\\"order\\\": 62}, {\\\"cast_id\\\": 79, \\\"character\\\": \\\"\\\", \\\"credit_id\\\": \\\"5974f20fc3a3685ded01b248\\\", \\\"gender\\\": 1, \\\"id\\\": 85176, \\\"name\\\": \\\"Bridgit Mendler\\\", \\\"order\\\": 63}, {\\\"cast_id\\\": 80, \\\"character\\\": \\\"\\\", \\\"credit_id\\\": \\\"5974f216c3a3685d5e019cd1\\\", \\\"gender\\\": 1, \\\"id\\\": 123846, \\\"name\\\": \\\"Debby Ryan\\\", \\\"order\\\": 64}, {\\\"cast_id\\\": 81, \\\"character\\\": \\\"\\\", \\\"credit_id\\\": \\\"5974f256c3a3685d5e019d0e\\\", \\\"gender\\\": 2, \\\"id\\\": 93219, \\\"name\\\": \\\"Jake Short\\\", \\\"order\\\": 65}, {\\\"cast_id\\\": 82, \\\"character\\\": \\\"\\\", \\\"credit_id\\\": \\\"5974f25fc3a3685d5e019d18\\\", \\\"gender\\\": 2, \\\"id\\\": 51331, \\\"name\\\": \\\"Tyrel Jackson Williams\\\", \\\"order\\\": 66}]\"\n        ],\n        \"semantic_type\": \"\",\n        \"description\": \"\"\n      }\n    },\n    {\n      \"column\": \"crew\",\n      \"properties\": {\n        \"dtype\": \"string\",\n        \"num_unique_values\": 937,\n        \"samples\": [\n          \"[{\\\"credit_id\\\": \\\"587ea5eb9251413f1b02b874\\\", \\\"department\\\": \\\"Sound\\\", \\\"gender\\\": 2, \\\"id\\\": 10572, \\\"job\\\": \\\"Music\\\", \\\"name\\\": \\\"Theodore Shapiro\\\"}, {\\\"credit_id\\\": \\\"52fe4985c3a368484e12fcbd\\\", \\\"department\\\": \\\"Directing\\\", \\\"gender\\\": 2, \\\"id\\\": 6737, \\\"job\\\": \\\"Director\\\", \\\"name\\\": \\\"Jay Roach\\\"}, {\\\"credit_id\\\": \\\"52fe4985c3a368484e12fce1\\\", \\\"department\\\": \\\"Production\\\", \\\"gender\\\": 2, \\\"id\\\": 6737, \\\"job\\\": \\\"Producer\\\", \\\"name\\\": \\\"Jay Roach\\\"}, {\\\"credit_id\\\": \\\"5396d39ac3a3686446005a03\\\", \\\"department\\\": \\\"Production\\\", \\\"gender\\\": 2, \\\"id\\\": 23659, \\\"job\\\": \\\"Producer\\\", \\\"name\\\": \\\"Will Ferrell\\\"}, {\\\"credit_id\\\": \\\"52fe4985c3a368484e12fcdb\\\", \\\"department\\\": \\\"Production\\\", \\\"gender\\\": 2, \\\"id\\\": 55710, \\\"job\\\": \\\"Producer\\\", \\\"name\\\": \\\"Adam McKay\\\"}, {\\\"credit_id\\\": \\\"570533a9c3a3680f3d0002bd\\\", \\\"department\\\": \\\"Writing\\\", \\\"gender\\\": 2, \\\"id\\\": 55710, \\\"job\\\": \\\"Story\\\", \\\"name\\\": \\\"Adam McKay\\\"}, {\\\"credit_id\\\": \\\"52fe4985c3a368484e12fcd5\\\", \\\"department\\\": \\\"Production\\\", \\\"gender\\\": 2, \\\"id\\\": 58225, \\\"job\\\": \\\"Producer\\\", \\\"name\\\": \\\"Zach Galifianakis\\\"}, {\\\"credit_id\\\": \\\"52fe4985c3a368484e12fcc9\\\", \\\"department\\\": \\\"Writing\\\", \\\"gender\\\": 2, \\\"id\\\": 99410, \\\"job\\\": \\\"Screenplay\\\", \\\"name\\\": \\\"Chris Henchy\\\"}, {\\\"credit_id\\\": \\\"52fe4985c3a368484e12fcc3\\\", \\\"department\\\": \\\"Writing\\\", \\\"gender\\\": 0, \\\"id\\\": 217297, \\\"job\\\": \\\"Screenplay\\\", \\\"name\\\": \\\"Shawn Harwell\\\"}, {\\\"credit_id\\\": \\\"52fe4985c3a368484e12fce7\\\", \\\"department\\\": \\\"Crew\\\", \\\"gender\\\": 0, \\\"id\\\": 582943, \\\"job\\\": \\\"Graphic Novel Illustrator\\\", \\\"name\\\": \\\"Kristin Lekki\\\"}, {\\\"credit_id\\\": \\\"52fe4985c3a368484e12fced\\\", \\\"department\\\": \\\"Crew\\\", \\\"gender\\\": 0, \\\"id\\\": 582944, \\\"job\\\": \\\"Scenic Artist\\\", \\\"name\\\": \\\"Sdavid Myers\\\"}, {\\\"credit_id\\\": \\\"52fe4985c3a368484e12fcf3\\\", \\\"department\\\": \\\"Art\\\", \\\"gender\\\": 0, \\\"id\\\": 582945, \\\"job\\\": \\\"Art Department Assistant\\\", \\\"name\\\": \\\"Nicole LaBranche\\\"}]\",\n          \"[{\\\"credit_id\\\": \\\"52fe44adc3a36847f80a3bc7\\\", \\\"department\\\": \\\"Camera\\\", \\\"gender\\\": 2, \\\"id\\\": 1919, \\\"job\\\": \\\"Director of Photography\\\", \\\"name\\\": \\\"Stefan Czapsky\\\"}, {\\\"credit_id\\\": \\\"52fe44adc3a36847f80a3bc1\\\", \\\"department\\\": \\\"Camera\\\", \\\"gender\\\": 2, \\\"id\\\": 3769, \\\"job\\\": \\\"Director of Photography\\\", \\\"name\\\": \\\"Michael Ballhaus\\\"}, {\\\"credit_id\\\": \\\"52fe44adc3a36847f80a3baf\\\", \\\"department\\\": \\\"Production\\\", \\\"gender\\\": 2, \\\"id\\\": 3805, \\\"job\\\": \\\"Producer\\\", \\\"name\\\": \\\"Jon Peters\\\"}, {\\\"credit_id\\\": \\\"52fe44adc3a36847f80a3b91\\\", \\\"department\\\": \\\"Directing\\\", \\\"gender\\\": 2, \\\"id\\\": 5174, \\\"job\\\": \\\"Director\\\", \\\"name\\\": \\\"Barry Sonnenfeld\\\"}, {\\\"credit_id\\\": \\\"52fe44adc3a36847f80a3bb5\\\", \\\"department\\\": \\\"Production\\\", \\\"gender\\\": 2, \\\"id\\\": 5174, \\\"job\\\": \\\"Producer\\\", \\\"name\\\": \\\"Barry Sonnenfeld\\\"}, {\\\"credit_id\\\": \\\"52fe44adc3a36847f80a3bbb\\\", \\\"department\\\": \\\"Sound\\\", \\\"gender\\\": 2, \\\"id\\\": 7182, \\\"job\\\": \\\"Original Music Composer\\\", \\\"name\\\": \\\"Elmer Bernstein\\\"}, {\\\"credit_id\\\": \\\"52fe44adc3a36847f80a3bcd\\\", \\\"department\\\": \\\"Editing\\\", \\\"gender\\\": 2, \\\"id\\\": 9615, \\\"job\\\": \\\"Editor\\\", \\\"name\\\": \\\"Jim Miller\\\"}, {\\\"credit_id\\\": \\\"52fe44adc3a36847f80a3ba3\\\", \\\"department\\\": \\\"Writing\\\", \\\"gender\\\": 2, \\\"id\\\": 12100, \\\"job\\\": \\\"Screenplay\\\", \\\"name\\\": \\\"Jeffrey Price\\\"}, {\\\"credit_id\\\": \\\"52fe44adc3a36847f80a3ba9\\\", \\\"department\\\": \\\"Writing\\\", \\\"gender\\\": 2, \\\"id\\\": 12101, \\\"job\\\": \\\"Screenplay\\\", \\\"name\\\": \\\"Peter S. Seaman\\\"}, {\\\"credit_id\\\": \\\"52fe44adc3a36847f80a3b9d\\\", \\\"department\\\": \\\"Writing\\\", \\\"gender\\\": 2, \\\"id\\\": 26475, \\\"job\\\": \\\"Screenplay\\\", \\\"name\\\": \\\"Brent Maddock\\\"}, {\\\"credit_id\\\": \\\"52fe44adc3a36847f80a3b97\\\", \\\"department\\\": \\\"Writing\\\", \\\"gender\\\": 2, \\\"id\\\": 26479, \\\"job\\\": \\\"Screenplay\\\", \\\"name\\\": \\\"S. S. Wilson\\\"}, {\\\"credit_id\\\": \\\"57bb823bc3a368357d000242\\\", \\\"department\\\": \\\"Crew\\\", \\\"gender\\\": 1, \\\"id\\\": 1669267, \\\"job\\\": \\\"Stunts\\\", \\\"name\\\": \\\"Alex Madison\\\"}]\",\n          \"[{\\\"credit_id\\\": \\\"52fe4782c3a36847f8139c3b\\\", \\\"department\\\": \\\"Production\\\", \\\"gender\\\": 2, \\\"id\\\": 664, \\\"job\\\": \\\"Producer\\\", \\\"name\\\": \\\"Frank Marshall\\\"}, {\\\"credit_id\\\": \\\"52fe4782c3a36847f8139c95\\\", \\\"department\\\": \\\"Sound\\\", \\\"gender\\\": 2, \\\"id\\\": 1213, \\\"job\\\": \\\"Original Music Composer\\\", \\\"name\\\": \\\"James Newton Howard\\\"}, {\\\"credit_id\\\": \\\"52fe4782c3a36847f8139ca1\\\", \\\"department\\\": \\\"Production\\\", \\\"gender\\\": 1, \\\"id\\\": 1484, \\\"job\\\": \\\"Casting\\\", \\\"name\\\": \\\"Ellen Chenoweth\\\"}, {\\\"credit_id\\\": \\\"52fe4782c3a36847f8139ceb\\\", \\\"department\\\": \\\"Production\\\", \\\"gender\\\": 1, \\\"id\\\": 2946, \\\"job\\\": \\\"Executive Producer\\\", \\\"name\\\": \\\"Jennifer Fox\\\"}, {\\\"credit_id\\\": \\\"5319bbc8c3a3685c31002d64\\\", \\\"department\\\": \\\"Camera\\\", \\\"gender\\\": 2, \\\"id\\\": 2950, \\\"job\\\": \\\"Director of Photography\\\", \\\"name\\\": \\\"Robert Elswit\\\"}, {\\\"credit_id\\\": \\\"53a6ae300e0a26143f0038d4\\\", \\\"department\\\": \\\"Art\\\", \\\"gender\\\": 2, \\\"id\\\": 6191, \\\"job\\\": \\\"Set Decoration\\\", \\\"name\\\": \\\"Leslie E. Rollins\\\"}, {\\\"credit_id\\\": \\\"54a3d313925141198b006245\\\", \\\"department\\\": \\\"Crew\\\", \\\"gender\\\": 2, \\\"id\\\": 8684, \\\"job\\\": \\\"Stunt Coordinator\\\", \\\"name\\\": \\\"Dan Bradley\\\"}, {\\\"credit_id\\\": \\\"570b91f2c3a3684f41003b58\\\", \\\"department\\\": \\\"Art\\\", \\\"gender\\\": 0, \\\"id\\\": 89383, \\\"job\\\": \\\"Supervising Art Director\\\", \\\"name\\\": \\\"Molly Hughes\\\"}, {\\\"credit_id\\\": \\\"54a33037c3a368554200d461\\\", \\\"department\\\": \\\"Art\\\", \\\"gender\\\": 2, \\\"id\\\": 11713, \\\"job\\\": \\\"Assistant Art Director\\\", \\\"name\\\": \\\"W. Steven Graham\\\"}, {\\\"credit_id\\\": \\\"54a333a99251414d2700ab81\\\", \\\"department\\\": \\\"Sound\\\", \\\"gender\\\": 0, \\\"id\\\": 13166, \\\"job\\\": \\\"Sound Designer\\\", \\\"name\\\": \\\"Dino Dimuro\\\"}, {\\\"credit_id\\\": \\\"54a33319c3a3680b2700e0e9\\\", \\\"department\\\": \\\"Sound\\\", \\\"gender\\\": 0, \\\"id\\\": 14764, \\\"job\\\": \\\"Sound Designer\\\", \\\"name\\\": \\\"Christopher Assells\\\"}, {\\\"credit_id\\\": \\\"54a332e0925141198b004989\\\", \\\"department\\\": \\\"Sound\\\", \\\"gender\\\": 0, \\\"id\\\": 14765, \\\"job\\\": \\\"Supervising Sound Editor\\\", \\\"name\\\": \\\"Per Hallberg\\\"}, {\\\"credit_id\\\": \\\"52fe4782c3a36847f8139ccd\\\", \\\"department\\\": \\\"Costume & Make-Up\\\", \\\"gender\\\": 0, \\\"id\\\": 19971, \\\"job\\\": \\\"Costume Design\\\", \\\"name\\\": \\\"Shay Cunliffe\\\"}, {\\\"credit_id\\\": \\\"52fe4782c3a36847f8139c47\\\", \\\"department\\\": \\\"Writing\\\", \\\"gender\\\": 2, \\\"id\\\": 19242, \\\"job\\\": \\\"Screenplay\\\", \\\"name\\\": \\\"Tony Gilroy\\\"}, {\\\"credit_id\\\": \\\"52fe4782c3a36847f8139c41\\\", \\\"department\\\": \\\"Directing\\\", \\\"gender\\\": 2, \\\"id\\\": 19242, \\\"job\\\": \\\"Director\\\", \\\"name\\\": \\\"Tony Gilroy\\\"}, {\\\"credit_id\\\": \\\"52fe4782c3a36847f8139c8f\\\", \\\"department\\\": \\\"Production\\\", \\\"gender\\\": 2, \\\"id\\\": 25600, \\\"job\\\": \\\"Producer\\\", \\\"name\\\": \\\"Patrick Crowley\\\"}, {\\\"credit_id\\\": \\\"52fe4782c3a36847f8139ce5\\\", \\\"department\\\": \\\"Production\\\", \\\"gender\\\": 2, \\\"id\\\": 29402, \\\"job\\\": \\\"Executive Producer\\\", \\\"name\\\": \\\"Henry Morrison\\\"}, {\\\"credit_id\\\": \\\"53a6ae1c0e0a261449003608\\\", \\\"department\\\": \\\"Art\\\", \\\"gender\\\": 2, \\\"id\\\": 19755, \\\"job\\\": \\\"Production Design\\\", \\\"name\\\": \\\"Kevin Thompson\\\"}, {\\\"credit_id\\\": \\\"54a3306fc3a3682f1b00ff55\\\", \\\"department\\\": \\\"Art\\\", \\\"gender\\\": 0, \\\"id\\\": 62062, \\\"job\\\": \\\"Assistant Art Director\\\", \\\"name\\\": \\\"Hinju Kim\\\"}, {\\\"credit_id\\\": \\\"52fe4782c3a36847f8139cdf\\\", \\\"department\\\": \\\"Editing\\\", \\\"gender\\\": 2, \\\"id\\\": 67810, \\\"job\\\": \\\"Editor\\\", \\\"name\\\": \\\"John Gilroy\\\"}, {\\\"credit_id\\\": \\\"54a32e45c3a3682f21010105\\\", \\\"department\\\": \\\"Costume & Make-Up\\\", \\\"gender\\\": 0, \\\"id\\\": 74766, \\\"job\\\": \\\"Hairstylist\\\", \\\"name\\\": \\\"Kathe Swanson\\\"}, {\\\"credit_id\\\": \\\"54a3d5c4925141198b006289\\\", \\\"department\\\": \\\"Crew\\\", \\\"gender\\\": 1, \\\"id\\\": 76003, \\\"job\\\": \\\"Dialect Coach\\\", \\\"name\\\": \\\"Susan Hegarty\\\"}, {\\\"credit_id\\\": \\\"52fe4782c3a36847f8139c4d\\\", \\\"department\\\": \\\"Writing\\\", \\\"gender\\\": 0, \\\"id\\\": 141712, \\\"job\\\": \\\"Novel\\\", \\\"name\\\": \\\"Eric Van Lustbader\\\"}, {\\\"credit_id\\\": \\\"54a3d1b9925141198b006228\\\", \\\"department\\\": \\\"Visual Effects\\\", \\\"gender\\\": 0, \\\"id\\\": 223238, \\\"job\\\": \\\"Visual Effects Supervisor\\\", \\\"name\\\": \\\"Hal Couzens\\\"}, {\\\"credit_id\\\": \\\"54a3d5a19251414d2700c17d\\\", \\\"department\\\": \\\"Directing\\\", \\\"gender\\\": 1, \\\"id\\\": 958273, \\\"job\\\": \\\"Script Supervisor\\\", \\\"name\\\": \\\"Dianne Dreyer\\\"}, {\\\"credit_id\\\": \\\"52fe4782c3a36847f8139cd3\\\", \\\"department\\\": \\\"Art\\\", \\\"gender\\\": 0, \\\"id\\\": 983595, \\\"job\\\": \\\"Art Direction\\\", \\\"name\\\": \\\"Charlie Campbell\\\"}, {\\\"credit_id\\\": \\\"54a3d40b925141198b00625a\\\", \\\"department\\\": \\\"Camera\\\", \\\"gender\\\": 1, \\\"id\\\": 992965, \\\"job\\\": \\\"Still Photographer\\\", \\\"name\\\": \\\"Mary Cybulski\\\"}, {\\\"credit_id\\\": \\\"54a3d1dac3a3682f21011ad7\\\", \\\"department\\\": \\\"Visual Effects\\\", \\\"gender\\\": 0, \\\"id\\\": 1006747, \\\"job\\\": \\\"Visual Effects Supervisor\\\", \\\"name\\\": \\\"Scott M. Davids\\\"}, {\\\"credit_id\\\": \\\"54a33055c3a368642800107d\\\", \\\"department\\\": \\\"Art\\\", \\\"gender\\\": 1, \\\"id\\\": 1015645, \\\"job\\\": \\\"Assistant Art Director\\\", \\\"name\\\": \\\"Deborah Jensen\\\"}, {\\\"credit_id\\\": \\\"52fe4782c3a36847f8139ca7\\\", \\\"department\\\": \\\"Art\\\", \\\"gender\\\": 0, \\\"id\\\": 1085049, \\\"job\\\": \\\"Art Direction\\\", \\\"name\\\": \\\"Stephen H. Carter\\\"}, {\\\"credit_id\\\": \\\"54a3d42e925141212700851c\\\", \\\"department\\\": \\\"Lighting\\\", \\\"gender\\\": 2, \\\"id\\\": 1298625, \\\"job\\\": \\\"Gaffer\\\", \\\"name\\\": \\\"Cory Geryak\\\"}, {\\\"credit_id\\\": \\\"53a6ae5d0e0a26144900360b\\\", \\\"department\\\": \\\"Costume & Make-Up\\\", \\\"gender\\\": 0, \\\"id\\\": 1319843, \\\"job\\\": \\\"Makeup Department Head\\\", \\\"name\\\": \\\"Felicity Bowring\\\"}, {\\\"credit_id\\\": \\\"53a6af2dc3a3687a3100306f\\\", \\\"department\\\": \\\"Costume & Make-Up\\\", \\\"gender\\\": 0, \\\"id\\\": 1327146, \\\"job\\\": \\\"Costume Supervisor\\\", \\\"name\\\": \\\"Wendy M. Craig\\\"}, {\\\"credit_id\\\": \\\"53a6ae800e0a26143c003533\\\", \\\"department\\\": \\\"Crew\\\", \\\"gender\\\": 0, \\\"id\\\": 1333082, \\\"job\\\": \\\"Property Master\\\", \\\"name\\\": \\\"Diana Burton\\\"}, {\\\"credit_id\\\": \\\"53a6ae990e0a261432003719\\\", \\\"department\\\": \\\"Crew\\\", \\\"gender\\\": 0, \\\"id\\\": 1333083, \\\"job\\\": \\\"Property Master\\\", \\\"name\\\": \\\"Wanjin Choi\\\"}, {\\\"credit_id\\\": \\\"53a6aebd0e0a2614420036a8\\\", \\\"department\\\": \\\"Crew\\\", \\\"gender\\\": 0, \\\"id\\\": 1333084, \\\"job\\\": \\\"Property Master\\\", \\\"name\\\": \\\"David Dowling\\\"}, {\\\"credit_id\\\": \\\"53a6af14c3a3687a2b0031a5\\\", \\\"department\\\": \\\"Costume & Make-Up\\\", \\\"gender\\\": 0, \\\"id\\\": 1333085, \\\"job\\\": \\\"Costume Supervisor\\\", \\\"name\\\": \\\"Erwin Arenas\\\"}, {\\\"credit_id\\\": \\\"53a6af46c3a3687a3400305e\\\", \\\"department\\\": \\\"Costume & Make-Up\\\", \\\"gender\\\": 0, \\\"id\\\": 1333086, \\\"job\\\": \\\"Costume Supervisor\\\", \\\"name\\\": \\\"Kate Edwards\\\"}, {\\\"credit_id\\\": \\\"53a6af63c3a3687a40002f34\\\", \\\"department\\\": \\\"Costume & Make-Up\\\", \\\"gender\\\": 0, \\\"id\\\": 1333087, \\\"job\\\": \\\"Costume Supervisor\\\", \\\"name\\\": \\\"Jeffrey Fayle\\\"}, {\\\"credit_id\\\": \\\"53a6af7fc3a36874950025bf\\\", \\\"department\\\": \\\"Costume & Make-Up\\\", \\\"gender\\\": 0, \\\"id\\\": 1333088, \\\"job\\\": \\\"Costume Supervisor\\\", \\\"name\\\": \\\"Cheryl Kilbourne-Kimpton\\\"}, {\\\"credit_id\\\": \\\"54a3d51c9251414e2800c706\\\", \\\"department\\\": \\\"Sound\\\", \\\"gender\\\": 0, \\\"id\\\": 1337469, \\\"job\\\": \\\"Music Editor\\\", \\\"name\\\": \\\"Nic Ratner\\\"}, {\\\"credit_id\\\": \\\"54a3349dc3a3682f1e00fda1\\\", \\\"department\\\": \\\"Sound\\\", \\\"gender\\\": 0, \\\"id\\\": 1338372, \\\"job\\\": \\\"Foley\\\", \\\"name\\\": \\\"Dan O'Connell\\\"}, {\\\"credit_id\\\": \\\"54a32eb29251414d2700ab18\\\", \\\"department\\\": \\\"Costume & Make-Up\\\", \\\"gender\\\": 0, \\\"id\\\": 1339645, \\\"job\\\": \\\"Makeup Artist\\\", \\\"name\\\": \\\"Sue Wyburgh\\\"}, {\\\"credit_id\\\": \\\"54a3d2dac3a3682f1b011818\\\", \\\"department\\\": \\\"Visual Effects\\\", \\\"gender\\\": 0, \\\"id\\\": 1342014, \\\"job\\\": \\\"Visual Effects Producer\\\", \\\"name\\\": \\\"Seth Kleinberg\\\"}, {\\\"credit_id\\\": \\\"54a3347c92514117dd002978\\\", \\\"department\\\": \\\"Sound\\\", \\\"gender\\\": 0, \\\"id\\\": 1367493, \\\"job\\\": \\\"Foley\\\", \\\"name\\\": \\\"John T. Cucci\\\"}, {\\\"credit_id\\\": \\\"54a3d4e7c3a3682f21011b12\\\", \\\"department\\\": \\\"Editing\\\", \\\"gender\\\": 0, \\\"id\\\": 1383055, \\\"job\\\": \\\"First Assistant Editor\\\", \\\"name\\\": \\\"James W. Harrison III\\\"}, {\\\"credit_id\\\": \\\"54a333629251414e2800afef\\\", \\\"department\\\": \\\"Editing\\\", \\\"gender\\\": 2, \\\"id\\\": 1387183, \\\"job\\\": \\\"Dialogue Editor\\\", \\\"name\\\": \\\"John C. Stuver\\\"}, {\\\"credit_id\\\": \\\"54a3d32cc3a3686428002902\\\", \\\"department\\\": \\\"Crew\\\", \\\"gender\\\": 0, \\\"id\\\": 1387252, \\\"job\\\": \\\"Stunt Coordinator\\\", \\\"name\\\": \\\"Chris O'Hara\\\"}, {\\\"credit_id\\\": \\\"54a32fee925141236b0071ff\\\", \\\"department\\\": \\\"Art\\\", \\\"gender\\\": 0, \\\"id\\\": 1393554, \\\"job\\\": \\\"Art Department Coordinator\\\", \\\"name\\\": \\\"Sheyam Ghieth\\\"}, {\\\"credit_id\\\": \\\"54a333dfc3a3682f1b00ff8b\\\", \\\"department\\\": \\\"Sound\\\", \\\"gender\\\": 0, \\\"id\\\": 1395023, \\\"job\\\": \\\"Sound Effects Editor\\\", \\\"name\\\": \\\"William R. Dean\\\"}, {\\\"credit_id\\\": \\\"54a3d5599251411d5300c1f9\\\", \\\"department\\\": \\\"Crew\\\", \\\"gender\\\": 0, \\\"id\\\": 1399069, \\\"job\\\": \\\"Transportation Coordinator\\\", \\\"name\\\": \\\"Sylvia Nablo\\\"}, {\\\"credit_id\\\": \\\"54a3d353925141198b00624a\\\", \\\"department\\\": \\\"Camera\\\", \\\"gender\\\": 0, \\\"id\\\": 1399071, \\\"job\\\": \\\"Camera Operator\\\", \\\"name\\\": \\\"Hans Bjerno\\\"}, {\\\"credit_id\\\": \\\"54a3d617925141236b008b94\\\", \\\"department\\\": \\\"Crew\\\", \\\"gender\\\": 0, \\\"id\\\": 1399479, \\\"job\\\": \\\"Unit Publicist\\\", \\\"name\\\": \\\"Julie Kuehndorf\\\"}, {\\\"credit_id\\\": \\\"54a3d183c3a3682f1e0115c7\\\", \\\"department\\\": \\\"Crew\\\", \\\"gender\\\": 0, \\\"id\\\": 1399873, \\\"job\\\": \\\"Visual Effects Art Director\\\", \\\"name\\\": \\\"Vanessa Cheung\\\"}, {\\\"credit_id\\\": \\\"54a3d3a7925141236b008b59\\\", \\\"department\\\": \\\"Camera\\\", \\\"gender\\\": 2, \\\"id\\\": 1400081, \\\"job\\\": \\\"Camera Operator\\\", \\\"name\\\": \\\"Andrew Rowlands\\\"}, {\\\"credit_id\\\": \\\"54a331d4925141236b00724f\\\", \\\"department\\\": \\\"Crew\\\", \\\"gender\\\": 0, \\\"id\\\": 1400489, \\\"job\\\": \\\"Scenic Artist\\\", \\\"name\\\": \\\"Christopher Weiser\\\"}, {\\\"credit_id\\\": \\\"54a3334192514117dd002959\\\", \\\"department\\\": \\\"Sound\\\", \\\"gender\\\": 0, \\\"id\\\": 1404217, \\\"job\\\": \\\"Sound Designer\\\", \\\"name\\\": \\\"Peter Staubli\\\"}, {\\\"credit_id\\\": \\\"54a3d545c3a3680b2700f74b\\\", \\\"department\\\": \\\"Crew\\\", \\\"gender\\\": 0, \\\"id\\\": 1404234, \\\"job\\\": \\\"Transportation Coordinator\\\", \\\"name\\\": \\\"Ravi Dube\\\"}, {\\\"credit_id\\\": \\\"54a3337cc3a3682f1b00ff81\\\", \\\"department\\\": \\\"Editing\\\", \\\"gender\\\": 2, \\\"id\\\": 1405382, \\\"job\\\": \\\"Dialogue Editor\\\", \\\"name\\\": \\\"Chris Hogan\\\"}, {\\\"credit_id\\\": \\\"54a3d4ff9251411860004777\\\", \\\"department\\\": \\\"Editing\\\", \\\"gender\\\": 0, \\\"id\\\": 1405419, \\\"job\\\": \\\"Digital Intermediate\\\", \\\"name\\\": \\\"Nick Monton\\\"}, {\\\"credit_id\\\": \\\"54a333fac3a3684d8f002aa7\\\", \\\"department\\\": \\\"Sound\\\", \\\"gender\\\": 0, \\\"id\\\": 1406390, \\\"job\\\": \\\"Sound Effects Editor\\\", \\\"name\\\": \\\"Dan Hegeman\\\"}, {\\\"credit_id\\\": \\\"54a32dee925141198b00490b\\\", \\\"department\\\": \\\"Costume & Make-Up\\\", \\\"gender\\\": 0, \\\"id\\\": 1406571, \\\"job\\\": \\\"Hairstylist\\\", \\\"name\\\": \\\"Nathan J. Busch II\\\"}, {\\\"credit_id\\\": \\\"54a32e0c9251414e2800af7c\\\", \\\"department\\\": \\\"Costume & Make-Up\\\", \\\"gender\\\": 0, \\\"id\\\": 1406572, \\\"job\\\": \\\"Hairstylist\\\", \\\"name\\\": \\\"Jerry DeCarlo\\\"}, {\\\"credit_id\\\": \\\"54a32e2ac3a3682f1e00fcf1\\\", \\\"department\\\": \\\"Costume & Make-Up\\\", \\\"gender\\\": 0, \\\"id\\\": 1406573, \\\"job\\\": \\\"Hairstylist\\\", \\\"name\\\": \\\"Chris Harrison-Glimsdale\\\"}, {\\\"credit_id\\\": \\\"54a32e6392514117dd0028e5\\\", \\\"department\\\": \\\"Costume & Make-Up\\\", \\\"gender\\\": 0, \\\"id\\\": 1406578, \\\"job\\\": \\\"Makeup Artist\\\", \\\"name\\\": \\\"Sunday Englis\\\"}, {\\\"credit_id\\\": \\\"54a32e7f9251414e2800af89\\\", \\\"department\\\": \\\"Costume & Make-Up\\\", \\\"gender\\\": 1, \\\"id\\\": 1406582, \\\"job\\\": \\\"Makeup Artist\\\", \\\"name\\\": \\\"Joanne Jacobsen\\\"}, {\\\"credit_id\\\": \\\"54a32e95c3a3684d8f0029cd\\\", \\\"department\\\": \\\"Costume & Make-Up\\\", \\\"gender\\\": 2, \\\"id\\\": 1406584, \\\"job\\\": \\\"Makeup Artist\\\", \\\"name\\\": \\\"Bj\\\\u00f6rn Rehbein\\\"}, {\\\"credit_id\\\": \\\"54a32f2c925141198b00492c\\\", \\\"department\\\": \\\"Production\\\", \\\"gender\\\": 0, \\\"id\\\": 1406593, \\\"job\\\": \\\"Production Manager\\\", \\\"name\\\": \\\"Junsik Park\\\"}, {\\\"credit_id\\\": \\\"54a32f4992514117dd002904\\\", \\\"department\\\": \\\"Production\\\", \\\"gender\\\": 0, \\\"id\\\": 1406594, \\\"job\\\": \\\"Production Manager\\\", \\\"name\\\": \\\"Joseph Santos\\\"}, {\\\"credit_id\\\": \\\"54a32fb09251411860002c1c\\\", \\\"department\\\": \\\"Crew\\\", \\\"gender\\\": 1, \\\"id\\\": 1406595, \\\"job\\\": \\\"Post Production Supervisor\\\", \\\"name\\\": \\\"Jennifer Lane\\\"}, {\\\"credit_id\\\": \\\"54a33092c3a368764f00cac2\\\", \\\"department\\\": \\\"Art\\\", \\\"gender\\\": 0, \\\"id\\\": 1406596, \\\"job\\\": \\\"Assistant Art Director\\\", \\\"name\\\": \\\"Marion Kolsby\\\"}, {\\\"credit_id\\\": \\\"54a330df9251411860002c2d\\\", \\\"department\\\": \\\"Crew\\\", \\\"gender\\\": 0, \\\"id\\\": 1406599, \\\"job\\\": \\\"Scenic Artist\\\", \\\"name\\\": \\\"Doug Anderson\\\"}, {\\\"credit_id\\\": \\\"54a33103c3a3682f2101013b\\\", \\\"department\\\": \\\"Crew\\\", \\\"gender\\\": 0, \\\"id\\\": 1406602, \\\"job\\\": \\\"Scenic Artist\\\", \\\"name\\\": \\\"Yong Xi Chen\\\"}, {\\\"credit_id\\\": \\\"54a331229251411860002c3c\\\", \\\"department\\\": \\\"Crew\\\", \\\"gender\\\": 0, \\\"id\\\": 1406603, \\\"job\\\": \\\"Scenic Artist\\\", \\\"name\\\": \\\"Christopher H\\\\u00e9bel\\\"}, {\\\"credit_id\\\": \\\"54a33140925141236b007235\\\", \\\"department\\\": \\\"Crew\\\", \\\"gender\\\": 0, \\\"id\\\": 1406605, \\\"job\\\": \\\"Scenic Artist\\\", \\\"name\\\": \\\"Lia Lorms\\\"}, {\\\"credit_id\\\": \\\"54a33155c3a3682f1e00fd33\\\", \\\"department\\\": \\\"Crew\\\", \\\"gender\\\": 0, \\\"id\\\": 1406606, \\\"job\\\": \\\"Scenic Artist\\\", \\\"name\\\": \\\"Jordan Lovelace\\\"}, {\\\"credit_id\\\": \\\"54a331689251411860002c4e\\\", \\\"department\\\": \\\"Crew\\\", \\\"gender\\\": 0, \\\"id\\\": 1406607, \\\"job\\\": \\\"Scenic Artist\\\", \\\"name\\\": \\\"Roman Lystvak\\\"}, {\\\"credit_id\\\": \\\"54a3317e92514117dd00293a\\\", \\\"department\\\": \\\"Crew\\\", \\\"gender\\\": 0, \\\"id\\\": 1406608, \\\"job\\\": \\\"Scenic Artist\\\", \\\"name\\\": \\\"Kosyo Minchev\\\"}, {\\\"credit_id\\\": \\\"54a331999251412127006ce0\\\", \\\"department\\\": \\\"Crew\\\", \\\"gender\\\": 0, \\\"id\\\": 1406609, \\\"job\\\": \\\"Scenic Artist\\\", \\\"name\\\": \\\"Danh Nguyen\\\"}, {\\\"credit_id\\\": \\\"54a331bbc3a368554200d48b\\\", \\\"department\\\": \\\"Crew\\\", \\\"gender\\\": 0, \\\"id\\\": 1406610, \\\"job\\\": \\\"Scenic Artist\\\", \\\"name\\\": \\\"Charles R. Suter\\\"}, {\\\"credit_id\\\": \\\"54a332149251412127006cfa\\\", \\\"department\\\": \\\"Art\\\", \\\"gender\\\": 0, \\\"id\\\": 1406611, \\\"job\\\": \\\"Construction Coordinator\\\", \\\"name\\\": \\\"Ken Nelson\\\"}, {\\\"credit_id\\\": \\\"54a3327fc3a3682f2101017e\\\", \\\"department\\\": \\\"Art\\\", \\\"gender\\\": 0, \\\"id\\\": 1406612, \\\"job\\\": \\\"Leadman\\\", \\\"name\\\": \\\"Philip Canfield\\\"}, {\\\"credit_id\\\": \\\"54a33458c3a3682f1e00fd92\\\", \\\"department\\\": \\\"Sound\\\", \\\"gender\\\": 2, \\\"id\\\": 1406614, \\\"job\\\": \\\"Sound Re-Recording Mixer\\\", \\\"name\\\": \\\"David Parker\\\"}, {\\\"credit_id\\\": \\\"54a334d3c3a3682f1b00ffa0\\\", \\\"department\\\": \\\"Sound\\\", \\\"gender\\\": 0, \\\"id\\\": 1406616, \\\"job\\\": \\\"ADR & Dubbing\\\", \\\"name\\\": \\\"Chris Jargo\\\"}, {\\\"credit_id\\\": \\\"54a3d15692514121270084dd\\\", \\\"department\\\": \\\"Crew\\\", \\\"gender\\\": 2, \\\"id\\\": 1406756, \\\"job\\\": \\\"Visual Effects Editor\\\", \\\"name\\\": \\\"Kent Blocher\\\"}, {\\\"credit_id\\\": \\\"54a3d16cc3a368554200ee8b\\\", \\\"department\\\": \\\"Crew\\\", \\\"gender\\\": 0, \\\"id\\\": 1406757, \\\"job\\\": \\\"Visual Effects Editor\\\", \\\"name\\\": \\\"Abi Cadogan\\\"}, {\\\"credit_id\\\": \\\"54a3d1a1c3a3684d8f004530\\\", \\\"department\\\": \\\"Crew\\\", \\\"gender\\\": 0, \\\"id\\\": 1406758, \\\"job\\\": \\\"Visual Effects Editor\\\", \\\"name\\\": \\\"Benjamin Chua\\\"}, {\\\"credit_id\\\": \\\"54a3d20b92514117dd0042ca\\\", \\\"department\\\": \\\"Visual Effects\\\", \\\"gender\\\": 2, \\\"id\\\": 1406759, \\\"job\\\": \\\"Visual Effects Supervisor\\\", \\\"name\\\": \\\"Michael Bruce Ellis\\\"}, {\\\"credit_id\\\": \\\"54a3d22ec3a368764f00e484\\\", \\\"department\\\": \\\"Visual Effects\\\", \\\"gender\\\": 0, \\\"id\\\": 1406760, \\\"job\\\": \\\"Visual Effects Supervisor\\\", \\\"name\\\": \\\"John Heller\\\"}, {\\\"credit_id\\\": \\\"54a3d244c3a368554200eea1\\\", \\\"department\\\": \\\"Crew\\\", \\\"gender\\\": 0, \\\"id\\\": 1406761, \\\"job\\\": \\\"Visual Effects Editor\\\", \\\"name\\\": \\\"Dhuha Isa\\\"}, {\\\"credit_id\\\": \\\"54a3d290c3a368554200eeae\\\", \\\"department\\\": \\\"Crew\\\", \\\"gender\\\": 0, \\\"id\\\": 1406762, \\\"job\\\": \\\"Visual Effects Editor\\\", \\\"name\\\": \\\"Kieran Nicholas\\\"}, {\\\"credit_id\\\": \\\"54a3d2a5925141198b00623f\\\", \\\"department\\\": \\\"Visual Effects\\\", \\\"gender\\\": 0, \\\"id\\\": 1406763, \\\"job\\\": \\\"Visual Effects Producer\\\", \\\"name\\\": \\\"Gary Nolin\\\"}, {\\\"credit_id\\\": \\\"54a3d2c1c3a3680b2700f714\\\", \\\"department\\\": \\\"Visual Effects\\\", \\\"gender\\\": 0, \\\"id\\\": 1406764, \\\"job\\\": \\\"Visual Effects Producer\\\", \\\"name\\\": \\\"Tracey Leadbetter\\\"}, {\\\"credit_id\\\": \\\"54a3d377c3a3682f1b011824\\\", \\\"department\\\": \\\"Camera\\\", \\\"gender\\\": 0, \\\"id\\\": 1406765, \\\"job\\\": \\\"Camera Operator\\\", \\\"name\\\": \\\"Sean M. Harding\\\"}, {\\\"credit_id\\\": \\\"54a3d462c3a368642800291b\\\", \\\"department\\\": \\\"Camera\\\", \\\"gender\\\": 0, \\\"id\\\": 1406766, \\\"job\\\": \\\"Additional Photography\\\", \\\"name\\\": \\\"Barry Idoine\\\"}, {\\\"credit_id\\\": \\\"54a3d47b9251414e2800c6f3\\\", \\\"department\\\": \\\"Lighting\\\", \\\"gender\\\": 0, \\\"id\\\": 1406767, \\\"job\\\": \\\"Gaffer\\\", \\\"name\\\": \\\"Burton 'Joe' Kuchera\\\"}, {\\\"credit_id\\\": \\\"54a3d494c3a3682f1e011602\\\", \\\"department\\\": \\\"Lighting\\\", \\\"gender\\\": 0, \\\"id\\\": 1406768, \\\"job\\\": \\\"Gaffer\\\", \\\"name\\\": \\\"Pepito Mirador Jr.\\\"}, {\\\"credit_id\\\": \\\"54a3d56ec3a368764f00e4cf\\\", \\\"department\\\": \\\"Crew\\\", \\\"gender\\\": 2, \\\"id\\\": 1406769, \\\"job\\\": \\\"Transportation Coordinator\\\", \\\"name\\\": \\\"Coleman Robinson\\\"}, {\\\"credit_id\\\": \\\"54a3d58592514117dd00431e\\\", \\\"department\\\": \\\"Crew\\\", \\\"gender\\\": 0, \\\"id\\\": 1406770, \\\"job\\\": \\\"Transportation Coordinator\\\", \\\"name\\\": \\\"Cecile Vitan\\\"}, {\\\"credit_id\\\": \\\"54a3d5fa925141236b008b8c\\\", \\\"department\\\": \\\"Production\\\", \\\"gender\\\": 0, \\\"id\\\": 1406771, \\\"job\\\": \\\"Location Manager\\\", \\\"name\\\": \\\"Dennis Penney\\\"}, {\\\"credit_id\\\": \\\"54a3d62dc3a368764f00e4e6\\\", \\\"department\\\": \\\"Production\\\", \\\"gender\\\": 0, \\\"id\\\": 1406772, \\\"job\\\": \\\"Location Manager\\\", \\\"name\\\": \\\"Nikolo Juban\\\"}, {\\\"credit_id\\\": \\\"56620071c3a3682be90004db\\\", \\\"department\\\": \\\"Art\\\", \\\"gender\\\": 0, \\\"id\\\": 1414050, \\\"job\\\": \\\"Art Department Assistant\\\", \\\"name\\\": \\\"Nicole Eckenroad\\\"}]\"\n        ],\n        \"semantic_type\": \"\",\n        \"description\": \"\"\n      }\n    }\n  ]\n}"
            }
          },
          "metadata": {},
          "execution_count": 16
        }
      ]
    },
    {
      "cell_type": "code",
      "source": [
        "movies = movies.merge(credits,on='title')"
      ],
      "metadata": {
        "id": "vbuYZY0Q2t_K"
      },
      "execution_count": 17,
      "outputs": []
    },
    {
      "cell_type": "code",
      "source": [
        "movies.shape"
      ],
      "metadata": {
        "colab": {
          "base_uri": "https://localhost:8080/"
        },
        "id": "YtOylSV-4Tow",
        "outputId": "09b91580-c758-478b-9a08-830ba8d782f2"
      },
      "execution_count": 18,
      "outputs": [
        {
          "output_type": "execute_result",
          "data": {
            "text/plain": [
              "(938, 23)"
            ]
          },
          "metadata": {},
          "execution_count": 18
        }
      ]
    },
    {
      "cell_type": "code",
      "source": [
        "movies = movies[['movie_id','title','overview','genres','keywords','cast','crew']]"
      ],
      "metadata": {
        "id": "bESnXuqT4YkX"
      },
      "execution_count": 19,
      "outputs": []
    },
    {
      "cell_type": "code",
      "source": [
        "movies.head(1)"
      ],
      "metadata": {
        "colab": {
          "base_uri": "https://localhost:8080/",
          "height": 115
        },
        "id": "BTgkUJFP8qCj",
        "outputId": "0df2f005-17f8-4f5a-e99b-ca72f71d2e00"
      },
      "execution_count": 20,
      "outputs": [
        {
          "output_type": "execute_result",
          "data": {
            "text/plain": [
              "   movie_id   title                                           overview  \\\n",
              "0     19995  Avatar  In the 22nd century, a paraplegic Marine is di...   \n",
              "\n",
              "                                              genres  \\\n",
              "0  [{\"id\": 28, \"name\": \"Action\"}, {\"id\": 12, \"nam...   \n",
              "\n",
              "                                            keywords  \\\n",
              "0  [{\"id\": 1463, \"name\": \"culture clash\"}, {\"id\":...   \n",
              "\n",
              "                                                cast  \\\n",
              "0  [{\"cast_id\": 242, \"character\": \"Jake Sully\", \"...   \n",
              "\n",
              "                                                crew  \n",
              "0  [{\"credit_id\": \"52fe48009251416c750aca23\", \"de...  "
            ],
            "text/html": [
              "\n",
              "  <div id=\"df-8f0626d5-ac6b-4339-86fa-42e697af0277\" class=\"colab-df-container\">\n",
              "    <div>\n",
              "<style scoped>\n",
              "    .dataframe tbody tr th:only-of-type {\n",
              "        vertical-align: middle;\n",
              "    }\n",
              "\n",
              "    .dataframe tbody tr th {\n",
              "        vertical-align: top;\n",
              "    }\n",
              "\n",
              "    .dataframe thead th {\n",
              "        text-align: right;\n",
              "    }\n",
              "</style>\n",
              "<table border=\"1\" class=\"dataframe\">\n",
              "  <thead>\n",
              "    <tr style=\"text-align: right;\">\n",
              "      <th></th>\n",
              "      <th>movie_id</th>\n",
              "      <th>title</th>\n",
              "      <th>overview</th>\n",
              "      <th>genres</th>\n",
              "      <th>keywords</th>\n",
              "      <th>cast</th>\n",
              "      <th>crew</th>\n",
              "    </tr>\n",
              "  </thead>\n",
              "  <tbody>\n",
              "    <tr>\n",
              "      <th>0</th>\n",
              "      <td>19995</td>\n",
              "      <td>Avatar</td>\n",
              "      <td>In the 22nd century, a paraplegic Marine is di...</td>\n",
              "      <td>[{\"id\": 28, \"name\": \"Action\"}, {\"id\": 12, \"nam...</td>\n",
              "      <td>[{\"id\": 1463, \"name\": \"culture clash\"}, {\"id\":...</td>\n",
              "      <td>[{\"cast_id\": 242, \"character\": \"Jake Sully\", \"...</td>\n",
              "      <td>[{\"credit_id\": \"52fe48009251416c750aca23\", \"de...</td>\n",
              "    </tr>\n",
              "  </tbody>\n",
              "</table>\n",
              "</div>\n",
              "    <div class=\"colab-df-buttons\">\n",
              "\n",
              "  <div class=\"colab-df-container\">\n",
              "    <button class=\"colab-df-convert\" onclick=\"convertToInteractive('df-8f0626d5-ac6b-4339-86fa-42e697af0277')\"\n",
              "            title=\"Convert this dataframe to an interactive table.\"\n",
              "            style=\"display:none;\">\n",
              "\n",
              "  <svg xmlns=\"http://www.w3.org/2000/svg\" height=\"24px\" viewBox=\"0 -960 960 960\">\n",
              "    <path d=\"M120-120v-720h720v720H120Zm60-500h600v-160H180v160Zm220 220h160v-160H400v160Zm0 220h160v-160H400v160ZM180-400h160v-160H180v160Zm440 0h160v-160H620v160ZM180-180h160v-160H180v160Zm440 0h160v-160H620v160Z\"/>\n",
              "  </svg>\n",
              "    </button>\n",
              "\n",
              "  <style>\n",
              "    .colab-df-container {\n",
              "      display:flex;\n",
              "      gap: 12px;\n",
              "    }\n",
              "\n",
              "    .colab-df-convert {\n",
              "      background-color: #E8F0FE;\n",
              "      border: none;\n",
              "      border-radius: 50%;\n",
              "      cursor: pointer;\n",
              "      display: none;\n",
              "      fill: #1967D2;\n",
              "      height: 32px;\n",
              "      padding: 0 0 0 0;\n",
              "      width: 32px;\n",
              "    }\n",
              "\n",
              "    .colab-df-convert:hover {\n",
              "      background-color: #E2EBFA;\n",
              "      box-shadow: 0px 1px 2px rgba(60, 64, 67, 0.3), 0px 1px 3px 1px rgba(60, 64, 67, 0.15);\n",
              "      fill: #174EA6;\n",
              "    }\n",
              "\n",
              "    .colab-df-buttons div {\n",
              "      margin-bottom: 4px;\n",
              "    }\n",
              "\n",
              "    [theme=dark] .colab-df-convert {\n",
              "      background-color: #3B4455;\n",
              "      fill: #D2E3FC;\n",
              "    }\n",
              "\n",
              "    [theme=dark] .colab-df-convert:hover {\n",
              "      background-color: #434B5C;\n",
              "      box-shadow: 0px 1px 3px 1px rgba(0, 0, 0, 0.15);\n",
              "      filter: drop-shadow(0px 1px 2px rgba(0, 0, 0, 0.3));\n",
              "      fill: #FFFFFF;\n",
              "    }\n",
              "  </style>\n",
              "\n",
              "    <script>\n",
              "      const buttonEl =\n",
              "        document.querySelector('#df-8f0626d5-ac6b-4339-86fa-42e697af0277 button.colab-df-convert');\n",
              "      buttonEl.style.display =\n",
              "        google.colab.kernel.accessAllowed ? 'block' : 'none';\n",
              "\n",
              "      async function convertToInteractive(key) {\n",
              "        const element = document.querySelector('#df-8f0626d5-ac6b-4339-86fa-42e697af0277');\n",
              "        const dataTable =\n",
              "          await google.colab.kernel.invokeFunction('convertToInteractive',\n",
              "                                                    [key], {});\n",
              "        if (!dataTable) return;\n",
              "\n",
              "        const docLinkHtml = 'Like what you see? Visit the ' +\n",
              "          '<a target=\"_blank\" href=https://colab.research.google.com/notebooks/data_table.ipynb>data table notebook</a>'\n",
              "          + ' to learn more about interactive tables.';\n",
              "        element.innerHTML = '';\n",
              "        dataTable['output_type'] = 'display_data';\n",
              "        await google.colab.output.renderOutput(dataTable, element);\n",
              "        const docLink = document.createElement('div');\n",
              "        docLink.innerHTML = docLinkHtml;\n",
              "        element.appendChild(docLink);\n",
              "      }\n",
              "    </script>\n",
              "  </div>\n",
              "\n",
              "\n",
              "    </div>\n",
              "  </div>\n"
            ],
            "application/vnd.google.colaboratory.intrinsic+json": {
              "type": "dataframe",
              "variable_name": "movies",
              "summary": "{\n  \"name\": \"movies\",\n  \"rows\": 938,\n  \"fields\": [\n    {\n      \"column\": \"movie_id\",\n      \"properties\": {\n        \"dtype\": \"number\",\n        \"std\": 71642,\n        \"min\": 12,\n        \"max\": 417859,\n        \"num_unique_values\": 938,\n        \"samples\": [\n          8487,\n          68737,\n          145220\n        ],\n        \"semantic_type\": \"\",\n        \"description\": \"\"\n      }\n    },\n    {\n      \"column\": \"title\",\n      \"properties\": {\n        \"dtype\": \"string\",\n        \"num_unique_values\": 938,\n        \"samples\": [\n          \"Wild Wild West\",\n          \"Seventh Son\",\n          \"Muppets Most Wanted\"\n        ],\n        \"semantic_type\": \"\",\n        \"description\": \"\"\n      }\n    },\n    {\n      \"column\": \"overview\",\n      \"properties\": {\n        \"dtype\": \"string\",\n        \"num_unique_values\": 938,\n        \"samples\": [\n          \"Legless Southern inventor Dr. Arliss Loveless plans to rekindle the Civil War by assassinating President U.S. Grant. Only two men can stop him: gunfighter James West and master-of-disguise and inventor Artemus Gordon. The two must team up to thwart Loveless' plans.\",\n          \"John Gregory, who is a seventh son of a seventh son and also the local spook, has protected the country from witches, boggarts, ghouls and all manner of things that go bump in the night. However John is not young anymore, and has been seeking an apprentice to carry on his trade. Most have failed to survive. The last hope is a young farmer's son named Thomas Ward. Will he survive the training to become the spook that so many others couldn't?\",\n          \"While on a grand world tour, The Muppets find themselves wrapped into an European jewel-heist caper headed by a Kermit the Frog look-alike and his dastardly sidekick.\"\n        ],\n        \"semantic_type\": \"\",\n        \"description\": \"\"\n      }\n    },\n    {\n      \"column\": \"genres\",\n      \"properties\": {\n        \"dtype\": \"category\",\n        \"num_unique_values\": 466,\n        \"samples\": [\n          \"[{\\\"id\\\": 14, \\\"name\\\": \\\"Fantasy\\\"}, {\\\"id\\\": 12, \\\"name\\\": \\\"Adventure\\\"}, {\\\"id\\\": 28, \\\"name\\\": \\\"Action\\\"}, {\\\"id\\\": 10751, \\\"name\\\": \\\"Family\\\"}, {\\\"id\\\": 10749, \\\"name\\\": \\\"Romance\\\"}]\",\n          \"[{\\\"id\\\": 12, \\\"name\\\": \\\"Adventure\\\"}, {\\\"id\\\": 16, \\\"name\\\": \\\"Animation\\\"}, {\\\"id\\\": 10751, \\\"name\\\": \\\"Family\\\"}, {\\\"id\\\": 14, \\\"name\\\": \\\"Fantasy\\\"}]\",\n          \"[{\\\"id\\\": 28, \\\"name\\\": \\\"Action\\\"}, {\\\"id\\\": 10751, \\\"name\\\": \\\"Family\\\"}, {\\\"id\\\": 14, \\\"name\\\": \\\"Fantasy\\\"}]\"\n        ],\n        \"semantic_type\": \"\",\n        \"description\": \"\"\n      }\n    },\n    {\n      \"column\": \"keywords\",\n      \"properties\": {\n        \"dtype\": \"string\",\n        \"num_unique_values\": 926,\n        \"samples\": [\n          \"[{\\\"id\\\": 183413, \\\"name\\\": \\\"blue footed booby\\\"}, {\\\"id\\\": 183414, \\\"name\\\": \\\"prehistoric times\\\"}, {\\\"id\\\": 183415, \\\"name\\\": \\\"melting ice\\\"}, {\\\"id\\\": 183418, \\\"name\\\": \\\"badger\\\"}, {\\\"id\\\": 183421, \\\"name\\\": \\\"elephant seal\\\"}, {\\\"id\\\": 183422, \\\"name\\\": \\\"floating ice\\\"}, {\\\"id\\\": 183425, \\\"name\\\": \\\"land bridge\\\"}, {\\\"id\\\": 193193, \\\"name\\\": \\\"era\\\"}, {\\\"id\\\": 193194, \\\"name\\\": \\\"glaciale\\\"}, {\\\"id\\\": 193196, \\\"name\\\": \\\"deriva\\\"}]\",\n          \"[{\\\"id\\\": 378, \\\"name\\\": \\\"prison\\\"}, {\\\"id\\\": 789, \\\"name\\\": \\\"muslim\\\"}, {\\\"id\\\": 3799, \\\"name\\\": \\\"ship\\\"}, {\\\"id\\\": 10092, \\\"name\\\": \\\"mystery\\\"}, {\\\"id\\\": 10568, \\\"name\\\": \\\"science fiction\\\"}, {\\\"id\\\": 10685, \\\"name\\\": \\\"escape\\\"}, {\\\"id\\\": 14536, \\\"name\\\": \\\"crime\\\"}, {\\\"id\\\": 156786, \\\"name\\\": \\\"prison escape\\\"}, {\\\"id\\\": 214596, \\\"name\\\": \\\"cia agent\\\"}]\",\n          \"[{\\\"id\\\": 851, \\\"name\\\": \\\"dual identity\\\"}, {\\\"id\\\": 2038, \\\"name\\\": \\\"love of one's life\\\"}, {\\\"id\\\": 5983, \\\"name\\\": \\\"pizza boy\\\"}, {\\\"id\\\": 8828, \\\"name\\\": \\\"marvel comic\\\"}, {\\\"id\\\": 9663, \\\"name\\\": \\\"sequel\\\"}, {\\\"id\\\": 9715, \\\"name\\\": \\\"superhero\\\"}, {\\\"id\\\": 13005, \\\"name\\\": \\\"doctor\\\"}, {\\\"id\\\": 14760, \\\"name\\\": \\\"scientist\\\"}, {\\\"id\\\": 14991, \\\"name\\\": \\\"tentacle\\\"}, {\\\"id\\\": 34079, \\\"name\\\": \\\"death\\\"}, {\\\"id\\\": 163074, \\\"name\\\": \\\"super villain\\\"}]\"\n        ],\n        \"semantic_type\": \"\",\n        \"description\": \"\"\n      }\n    },\n    {\n      \"column\": \"cast\",\n      \"properties\": {\n        \"dtype\": \"string\",\n        \"num_unique_values\": 938,\n        \"samples\": [\n          \"[{\\\"cast_id\\\": 25, \\\"character\\\": \\\"Capt. James West\\\", \\\"credit_id\\\": \\\"52fe44adc3a36847f80a3bdb\\\", \\\"gender\\\": 2, \\\"id\\\": 2888, \\\"name\\\": \\\"Will Smith\\\", \\\"order\\\": 0}, {\\\"cast_id\\\": 2, \\\"character\\\": \\\"U.S. Marshal Artemus Gordon\\\", \\\"credit_id\\\": \\\"52fe44adc3a36847f80a3b67\\\", \\\"gender\\\": 2, \\\"id\\\": 8945, \\\"name\\\": \\\"Kevin Kline\\\", \\\"order\\\": 1}, {\\\"cast_id\\\": 3, \\\"character\\\": \\\"Dr. Arliss Loveless\\\", \\\"credit_id\\\": \\\"52fe44adc3a36847f80a3b6b\\\", \\\"gender\\\": 2, \\\"id\\\": 11181, \\\"name\\\": \\\"Kenneth Branagh\\\", \\\"order\\\": 2}, {\\\"cast_id\\\": 4, \\\"character\\\": \\\"Rita Escobar\\\", \\\"credit_id\\\": \\\"52fe44adc3a36847f80a3b6f\\\", \\\"gender\\\": 1, \\\"id\\\": 3136, \\\"name\\\": \\\"Salma Hayek\\\", \\\"order\\\": 3}, {\\\"cast_id\\\": 5, \\\"character\\\": \\\"Coleman\\\", \\\"credit_id\\\": \\\"52fe44adc3a36847f80a3b73\\\", \\\"gender\\\": 2, \\\"id\\\": 588, \\\"name\\\": \\\"M. Emmet Walsh\\\", \\\"order\\\": 4}, {\\\"cast_id\\\": 6, \\\"character\\\": \\\"General 'Bloodbath' McGrath\\\", \\\"credit_id\\\": \\\"52fe44adc3a36847f80a3b77\\\", \\\"gender\\\": 2, \\\"id\\\": 15854, \\\"name\\\": \\\"Ted Levine\\\", \\\"order\\\": 5}, {\\\"cast_id\\\": 7, \\\"character\\\": \\\"Amazonia\\\", \\\"credit_id\\\": \\\"52fe44adc3a36847f80a3b7b\\\", \\\"gender\\\": 1, \\\"id\\\": 55254, \\\"name\\\": \\\"Frederique van der Wal\\\", \\\"order\\\": 6}, {\\\"cast_id\\\": 8, \\\"character\\\": \\\"Munitia\\\", \\\"credit_id\\\": \\\"52fe44adc3a36847f80a3b7f\\\", \\\"gender\\\": 1, \\\"id\\\": 1475, \\\"name\\\": \\\"Musetta Vander\\\", \\\"order\\\": 7}, {\\\"cast_id\\\": 9, \\\"character\\\": \\\"Miss Lippenrieder\\\", \\\"credit_id\\\": \\\"52fe44adc3a36847f80a3b83\\\", \\\"gender\\\": 1, \\\"id\\\": 55255, \\\"name\\\": \\\"Sofia Eng\\\", \\\"order\\\": 8}, {\\\"cast_id\\\": 10, \\\"character\\\": \\\"Belle\\\", \\\"credit_id\\\": \\\"52fe44adc3a36847f80a3b87\\\", \\\"gender\\\": 1, \\\"id\\\": 31647, \\\"name\\\": \\\"Garcelle Beauvais\\\", \\\"order\\\": 9}, {\\\"cast_id\\\": 24, \\\"character\\\": \\\"Miss East\\\", \\\"credit_id\\\": \\\"52fe44adc3a36847f80a3bd7\\\", \\\"gender\\\": 1, \\\"id\\\": 39126, \\\"name\\\": \\\"Bai Ling\\\", \\\"order\\\": 10}, {\\\"cast_id\\\": 26, \\\"character\\\": \\\"Hudson\\\", \\\"credit_id\\\": \\\"571cd3cdc3a36864e0005775\\\", \\\"gender\\\": 2, \\\"id\\\": 7853, \\\"name\\\": \\\"Rodney A. Grant\\\", \\\"order\\\": 11}, {\\\"cast_id\\\": 29, \\\"character\\\": \\\"Mr. Pinkerton\\\", \\\"credit_id\\\": \\\"571cd74e9251414a87001861\\\", \\\"gender\\\": 2, \\\"id\\\": 53778, \\\"name\\\": \\\"E.J. Callahan\\\", \\\"order\\\": 12}, {\\\"cast_id\\\": 30, \\\"character\\\": \\\"Dora Look-Alike\\\", \\\"credit_id\\\": \\\"571cd761c3a368197c0064f1\\\", \\\"gender\\\": 1, \\\"id\\\": 168331, \\\"name\\\": \\\"Debra Christofferson\\\", \\\"order\\\": 13}, {\\\"cast_id\\\": 27, \\\"character\\\": \\\"Cross-Eyed Reb\\\", \\\"credit_id\\\": \\\"571cd3e292514135ff004827\\\", \\\"gender\\\": 2, \\\"id\\\": 71562, \\\"name\\\": \\\"Buck Taylor\\\", \\\"order\\\": 14}, {\\\"cast_id\\\": 31, \\\"character\\\": \\\"Reb #1\\\", \\\"credit_id\\\": \\\"571cd77c9251415fd00006a6\\\", \\\"gender\\\": 2, \\\"id\\\": 69502, \\\"name\\\": \\\"James Lashly\\\", \\\"order\\\": 15}, {\\\"cast_id\\\": 32, \\\"character\\\": \\\"Reb #2\\\", \\\"credit_id\\\": \\\"571cd793c3a368197c0064fa\\\", \\\"gender\\\": 2, \\\"id\\\": 1279744, \\\"name\\\": \\\"Dean Rader Duval\\\", \\\"order\\\": 16}, {\\\"cast_id\\\": 28, \\\"character\\\": \\\"Other Reb\\\", \\\"credit_id\\\": \\\"571cd653c3a368197c0064d2\\\", \\\"gender\\\": 2, \\\"id\\\": 1100323, \\\"name\\\": \\\"Jerry Wills\\\", \\\"order\\\": 17}, {\\\"cast_id\\\": 11, \\\"character\\\": \\\"Big reb\\\", \\\"credit_id\\\": \\\"52fe44adc3a36847f80a3b8b\\\", \\\"gender\\\": 0, \\\"id\\\": 16163, \\\"name\\\": \\\"Mike H. McGaughy\\\", \\\"order\\\": 18}, {\\\"cast_id\\\": 33, \\\"character\\\": \\\"French Dignitary\\\", \\\"credit_id\\\": \\\"571cda36c3a36864e0005871\\\", \\\"gender\\\": 2, \\\"id\\\": 14740, \\\"name\\\": \\\"Christian Aubert\\\", \\\"order\\\": 19}, {\\\"cast_id\\\": 34, \\\"character\\\": \\\"Spanish Dignitary\\\", \\\"credit_id\\\": \\\"571cda4892514135ff004920\\\", \\\"gender\\\": 2, \\\"id\\\": 53403, \\\"name\\\": \\\"Orestes Matacena\\\", \\\"order\\\": 20}, {\\\"cast_id\\\": 35, \\\"character\\\": \\\"British Dignitary\\\", \\\"credit_id\\\": \\\"571cda5ac3a3684e980017e1\\\", \\\"gender\\\": 2, \\\"id\\\": 11764, \\\"name\\\": \\\"Ian Abercrombie\\\", \\\"order\\\": 21}, {\\\"cast_id\\\": 43, \\\"character\\\": \\\"Mexican Dignitary\\\", \\\"credit_id\\\": \\\"57293cc69251414e06000236\\\", \\\"gender\\\": 2, \\\"id\\\": 160375, \\\"name\\\": \\\"Ismael 'East' Carlo\\\", \\\"order\\\": 22}, {\\\"cast_id\\\": 37, \\\"character\\\": \\\"White House Aide\\\", \\\"credit_id\\\": \\\"571cdcf6c3a36864e00058cc\\\", \\\"gender\\\": 2, \\\"id\\\": 104915, \\\"name\\\": \\\"Bob Rumnock\\\", \\\"order\\\": 23}, {\\\"cast_id\\\": 38, \\\"character\\\": \\\"Dr. Guillermo Escobar\\\", \\\"credit_id\\\": \\\"571cdd10c3a3684e9800183d\\\", \\\"gender\\\": 2, \\\"id\\\": 48136, \\\"name\\\": \\\"Gary Carlos Cervantes\\\", \\\"order\\\": 24}, {\\\"cast_id\\\": 39, \\\"character\\\": \\\"George Washington\\\", \\\"credit_id\\\": \\\"571cdecec3a368197c006630\\\", \\\"gender\\\": 2, \\\"id\\\": 137910, \\\"name\\\": \\\"Jerry Potter\\\", \\\"order\\\": 25}, {\\\"cast_id\\\": 40, \\\"character\\\": \\\"Guard\\\", \\\"credit_id\\\": \\\"571cdf29c3a3684e6200192c\\\", \\\"gender\\\": 2, \\\"id\\\": 157021, \\\"name\\\": \\\"Mik Scriba\\\", \\\"order\\\": 26}, {\\\"cast_id\\\": 41, \\\"character\\\": \\\"Prof. Thaddeus Morton\\\", \\\"credit_id\\\": \\\"571cdf61c3a36842aa000e8c\\\", \\\"gender\\\": 0, \\\"id\\\": 1610268, \\\"name\\\": \\\"Michael Sims\\\", \\\"order\\\": 27}, {\\\"cast_id\\\": 42, \\\"character\\\": \\\"Little Girl (uncredited)\\\", \\\"credit_id\\\": \\\"571cdfb69251415fd00007d1\\\", \\\"gender\\\": 1, \\\"id\\\": 1610271, \\\"name\\\": \\\"Natalie Fabry\\\", \\\"order\\\": 28}]\",\n          \"[{\\\"cast_id\\\": 2, \\\"character\\\": \\\"Master Gregory\\\", \\\"credit_id\\\": \\\"52fe47a2c3a368484e0d1d41\\\", \\\"gender\\\": 2, \\\"id\\\": 1229, \\\"name\\\": \\\"Jeff Bridges\\\", \\\"order\\\": 0}, {\\\"cast_id\\\": 3, \\\"character\\\": \\\"Mother Malkin\\\", \\\"credit_id\\\": \\\"52fe47a2c3a368484e0d1d45\\\", \\\"gender\\\": 1, \\\"id\\\": 1231, \\\"name\\\": \\\"Julianne Moore\\\", \\\"order\\\": 1}, {\\\"cast_id\\\": 4, \\\"character\\\": \\\"Tom Ward\\\", \\\"credit_id\\\": \\\"52fe47a2c3a368484e0d1d49\\\", \\\"gender\\\": 2, \\\"id\\\": 25130, \\\"name\\\": \\\"Ben Barnes\\\", \\\"order\\\": 2}, {\\\"cast_id\\\": 5, \\\"character\\\": \\\"Alice Deane\\\", \\\"credit_id\\\": \\\"52fe47a2c3a368484e0d1d4d\\\", \\\"gender\\\": 1, \\\"id\\\": 227454, \\\"name\\\": \\\"Alicia Vikander\\\", \\\"order\\\": 3}, {\\\"cast_id\\\": 10, \\\"character\\\": \\\"Billy Bradley\\\", \\\"credit_id\\\": \\\"53da2ce9c3a3681eee0013f8\\\", \\\"gender\\\": 2, \\\"id\\\": 239019, \\\"name\\\": \\\"Kit Harington\\\", \\\"order\\\": 4}, {\\\"cast_id\\\": 11, \\\"character\\\": \\\"Radu\\\", \\\"credit_id\\\": \\\"547dd4aec3a3685af3004c70\\\", \\\"gender\\\": 2, \\\"id\\\": 938, \\\"name\\\": \\\"Djimon Hounsou\\\", \\\"order\\\": 5}, {\\\"cast_id\\\": 12, \\\"character\\\": \\\"Mam Ward\\\", \\\"credit_id\\\": \\\"547dd4b69251412d780057a9\\\", \\\"gender\\\": 1, \\\"id\\\": 11616, \\\"name\\\": \\\"Olivia Williams\\\", \\\"order\\\": 6}, {\\\"cast_id\\\": 13, \\\"character\\\": \\\"Bony Lizzie\\\", \\\"credit_id\\\": \\\"547dd4d9c3a3685b05005daf\\\", \\\"gender\\\": 1, \\\"id\\\": 43202, \\\"name\\\": \\\"Antje Traue\\\", \\\"order\\\": 7}, {\\\"cast_id\\\": 14, \\\"character\\\": \\\"Urag\\\", \\\"credit_id\\\": \\\"547dd4e59251412d7c005cae\\\", \\\"gender\\\": 2, \\\"id\\\": 58319, \\\"name\\\": \\\"Jason Scott Lee\\\", \\\"order\\\": 8}, {\\\"cast_id\\\": 15, \\\"character\\\": \\\"Rogue Knight\\\", \\\"credit_id\\\": \\\"547dd4f192514123ef003de4\\\", \\\"gender\\\": 2, \\\"id\\\": 155282, \\\"name\\\": \\\"David Cubitt\\\", \\\"order\\\": 9}, {\\\"cast_id\\\": 16, \\\"character\\\": \\\"Old Guard\\\", \\\"credit_id\\\": \\\"547dd4fc9251412d780057ad\\\", \\\"gender\\\": 2, \\\"id\\\": 2250, \\\"name\\\": \\\"Eric Keenleyside\\\", \\\"order\\\": 10}, {\\\"cast_id\\\": 17, \\\"character\\\": \\\"Fisherman\\\", \\\"credit_id\\\": \\\"547dd50ac3a3685aed006312\\\", \\\"gender\\\": 2, \\\"id\\\": 1300745, \\\"name\\\": \\\"Thai-Hoa Le\\\", \\\"order\\\": 11}, {\\\"cast_id\\\": 18, \\\"character\\\": \\\"Member of Mob\\\", \\\"credit_id\\\": \\\"547dd51692514123ef003dee\\\", \\\"gender\\\": 0, \\\"id\\\": 1392937, \\\"name\\\": \\\"Carmel Amit\\\", \\\"order\\\": 12}, {\\\"cast_id\\\": 19, \\\"character\\\": \\\"Prelate\\\", \\\"credit_id\\\": \\\"547dd5229251412d780057b2\\\", \\\"gender\\\": 2, \\\"id\\\": 27124, \\\"name\\\": \\\"Gerard Plunkett\\\", \\\"order\\\": 13}, {\\\"cast_id\\\": 20, \\\"character\\\": \\\"Leader Soldier\\\", \\\"credit_id\\\": \\\"547dd5329251412d780057b5\\\", \\\"gender\\\": 0, \\\"id\\\": 1328755, \\\"name\\\": \\\"Jim Shield\\\", \\\"order\\\": 14}, {\\\"cast_id\\\": 21, \\\"character\\\": \\\"Malcom Ward\\\", \\\"credit_id\\\": \\\"547dd541c3a3685b05005dbc\\\", \\\"gender\\\": 2, \\\"id\\\": 53720, \\\"name\\\": \\\"Timothy Webber\\\", \\\"order\\\": 15}, {\\\"cast_id\\\": 22, \\\"character\\\": \\\"Tomb Robber\\\", \\\"credit_id\\\": \\\"547dd54ec3a3685aed00631f\\\", \\\"gender\\\": 0, \\\"id\\\": 1061054, \\\"name\\\": \\\"Julian Black Antelope\\\", \\\"order\\\": 16}, {\\\"cast_id\\\": 23, \\\"character\\\": \\\"Strix\\\", \\\"credit_id\\\": \\\"547dd5ad9251412d6d005916\\\", \\\"gender\\\": 2, \\\"id\\\": 1356538, \\\"name\\\": \\\"Luc Roderique\\\", \\\"order\\\": 17}, {\\\"cast_id\\\": 24, \\\"character\\\": \\\"Soldier\\\", \\\"credit_id\\\": \\\"547dd5c592514123ef003e0a\\\", \\\"gender\\\": 2, \\\"id\\\": 583052, \\\"name\\\": \\\"Sean Carey\\\", \\\"order\\\": 18}, {\\\"cast_id\\\": 25, \\\"character\\\": \\\"Grave Robber\\\", \\\"credit_id\\\": \\\"547dd5d4c3a3685af90050ae\\\", \\\"gender\\\": 0, \\\"id\\\": 1366510, \\\"name\\\": \\\"Fraser Aitcheson\\\", \\\"order\\\": 19}, {\\\"cast_id\\\": 26, \\\"character\\\": \\\"Virahadra\\\", \\\"credit_id\\\": \\\"547dd6f49251412d7f005a0d\\\", \\\"gender\\\": 2, \\\"id\\\": 58902, \\\"name\\\": \\\"Zahf Paroo\\\", \\\"order\\\": 20}, {\\\"cast_id\\\": 27, \\\"character\\\": \\\"Grave-robber\\\", \\\"credit_id\\\": \\\"547dd7009251412d700061b9\\\", \\\"gender\\\": 2, \\\"id\\\": 2277, \\\"name\\\": \\\"Loyd Catlett\\\", \\\"order\\\": 21}, {\\\"cast_id\\\": 28, \\\"character\\\": \\\"Simon Ward\\\", \\\"credit_id\\\": \\\"547dd70ec3a3685af90050d6\\\", \\\"gender\\\": 0, \\\"id\\\": 1366661, \\\"name\\\": \\\"Primo Allon\\\", \\\"order\\\": 22}, {\\\"cast_id\\\": 29, \\\"character\\\": \\\"Cate Ward\\\", \\\"credit_id\\\": \\\"547dd7199251412d700061bf\\\", \\\"gender\\\": 0, \\\"id\\\": 584543, \\\"name\\\": \\\"Lilah Fitzgerald\\\", \\\"order\\\": 23}, {\\\"cast_id\\\": 31, \\\"character\\\": \\\"Little Girl\\\", \\\"credit_id\\\": \\\"547dd733c3a3685b05005e0c\\\", \\\"gender\\\": 0, \\\"id\\\": 1392949, \\\"name\\\": \\\"Taya Clyne\\\", \\\"order\\\": 25}, {\\\"cast_id\\\": 30, \\\"character\\\": \\\"Innkeeper\\\", \\\"credit_id\\\": \\\"547dd7249251412d6d005940\\\", \\\"gender\\\": 0, \\\"id\\\": 1368501, \\\"name\\\": \\\"Faustino Di Bauda\\\", \\\"order\\\": 26}, {\\\"cast_id\\\": 32, \\\"character\\\": \\\"Young Guard\\\", \\\"credit_id\\\": \\\"547dd73f9251411f4e004697\\\", \\\"gender\\\": 2, \\\"id\\\": 1392950, \\\"name\\\": \\\"Billy Wickman\\\", \\\"order\\\": 27}, {\\\"cast_id\\\": 34, \\\"character\\\": \\\"Stray Dog\\\", \\\"credit_id\\\": \\\"547dd7619251412d7c005cff\\\", \\\"gender\\\": 1, \\\"id\\\": 219303, \\\"name\\\": \\\"Duffy\\\", \\\"order\\\": 28}, {\\\"cast_id\\\": 35, \\\"character\\\": \\\"Jack Ward\\\", \\\"credit_id\\\": \\\"547dd76c9251412d7c005d03\\\", \\\"gender\\\": 0, \\\"id\\\": 1392952, \\\"name\\\": \\\"Marcel Bridges\\\", \\\"order\\\": 29}, {\\\"cast_id\\\": 36, \\\"character\\\": \\\"Head Counselor\\\", \\\"credit_id\\\": \\\"547dd7779251412d700061d1\\\", \\\"gender\\\": 0, \\\"id\\\": 1392953, \\\"name\\\": \\\"Yaroslav Poverlo\\\", \\\"order\\\": 30}, {\\\"cast_id\\\": 37, \\\"character\\\": \\\"Priest's Wife\\\", \\\"credit_id\\\": \\\"547dd7889251412d7c005d08\\\", \\\"gender\\\": 0, \\\"id\\\": 1392954, \\\"name\\\": \\\"Isabelle Landry\\\", \\\"order\\\": 31}, {\\\"cast_id\\\": 38, \\\"character\\\": \\\"Mongolian\\\", \\\"credit_id\\\": \\\"547dd795c3a3685aed006374\\\", \\\"gender\\\": 0, \\\"id\\\": 1259945, \\\"name\\\": \\\"Jason Asuncion\\\", \\\"order\\\": 32}, {\\\"cast_id\\\": 39, \\\"character\\\": \\\"Noblewoman\\\", \\\"credit_id\\\": \\\"547dd7a3c3a3685af0006190\\\", \\\"gender\\\": 0, \\\"id\\\": 1392956, \\\"name\\\": \\\"Joanne Bentley\\\", \\\"order\\\": 33}, {\\\"cast_id\\\": 40, \\\"character\\\": \\\"Soldier\\\", \\\"credit_id\\\": \\\"547dd7ae9251412d6d005956\\\", \\\"gender\\\": 0, \\\"id\\\": 1392957, \\\"name\\\": \\\"Anthony Welch\\\", \\\"order\\\": 34}, {\\\"cast_id\\\": 55, \\\"character\\\": \\\"Timeless Hag\\\", \\\"credit_id\\\": \\\"553b2c219251413f5a005344\\\", \\\"gender\\\": 1, \\\"id\\\": 61168, \\\"name\\\": \\\"Brenda McDonald\\\", \\\"order\\\": 35}]\",\n          \"[{\\\"cast_id\\\": 15, \\\"character\\\": \\\"Dominic Badguy\\\", \\\"credit_id\\\": \\\"52fe4b539251416c750ff6d5\\\", \\\"gender\\\": 2, \\\"id\\\": 17835, \\\"name\\\": \\\"Ricky Gervais\\\", \\\"order\\\": 0}, {\\\"cast_id\\\": 16, \\\"character\\\": \\\"Jean Pierre Napoleon\\\", \\\"credit_id\\\": \\\"52fe4b539251416c750ff6d9\\\", \\\"gender\\\": 2, \\\"id\\\": 15232, \\\"name\\\": \\\"Ty Burrell\\\", \\\"order\\\": 1}, {\\\"cast_id\\\": 13, \\\"character\\\": \\\"Nadya\\\", \\\"credit_id\\\": \\\"52fe4b539251416c750ff6cd\\\", \\\"gender\\\": 1, \\\"id\\\": 56323, \\\"name\\\": \\\"Tina Fey\\\", \\\"order\\\": 2}, {\\\"cast_id\\\": 19, \\\"character\\\": \\\"Kermit the Frog / Foo Foo / Statler / Beaker / Lips / Rizzo the Rat / Link Hogthrob / The Newsman (voice)\\\", \\\"credit_id\\\": \\\"52fe4b549251416c750ff6e5\\\", \\\"gender\\\": 2, \\\"id\\\": 64180, \\\"name\\\": \\\"Steve Whitmire\\\", \\\"order\\\": 3}, {\\\"cast_id\\\": 21, \\\"character\\\": \\\"Miss Piggy / Fozzie Bear / Animal / Sam Eagle (voice)\\\", \\\"credit_id\\\": \\\"52fe4b549251416c750ff6ed\\\", \\\"gender\\\": 2, \\\"id\\\": 97185, \\\"name\\\": \\\"Eric Jacobson\\\", \\\"order\\\": 4}, {\\\"cast_id\\\": 22, \\\"character\\\": \\\"Gonzo / Dr. Bunsen Honeydew / Zoot / Beauregard / Waldorf (voice)\\\", \\\"credit_id\\\": \\\"52fe4b549251416c750ff6f1\\\", \\\"gender\\\": 2, \\\"id\\\": 64181, \\\"name\\\": \\\"Dave Goelz\\\", \\\"order\\\": 5}, {\\\"cast_id\\\": 24, \\\"character\\\": \\\"Pepe the King Prawn / Rowlf the Dog / Dr. Teeth / The Swedish Chef / Bobo the Bear / Big Mean Carl / Baby Boss / Carlo Flamingo / Leprechaun Security Guard (voice)\\\", \\\"credit_id\\\": \\\"52fe4b549251416c750ff6f9\\\", \\\"gender\\\": 2, \\\"id\\\": 64182, \\\"name\\\": \\\"Bill Barretta\\\", \\\"order\\\": 6}, {\\\"cast_id\\\": 27, \\\"character\\\": \\\"Constantine / Floyd Pepper / Sweetums / Pops / Robin / Lew Zealand / Crazy Harry / 80's Robot / Camilla / Uncle Deadly (voice)\\\", \\\"credit_id\\\": \\\"52fe4b549251416c750ff705\\\", \\\"gender\\\": 0, \\\"id\\\": 135467, \\\"name\\\": \\\"Matt Vogel\\\", \\\"order\\\": 7}, {\\\"cast_id\\\": 18, \\\"character\\\": \\\"Walter / Manolo Flamingo (voice)\\\", \\\"credit_id\\\": \\\"52fe4b539251416c750ff6e1\\\", \\\"gender\\\": 2, \\\"id\\\": 360193, \\\"name\\\": \\\"Peter Linz\\\", \\\"order\\\": 8}, {\\\"cast_id\\\": 31, \\\"character\\\": \\\"The Great Escapo\\\", \\\"credit_id\\\": \\\"52fe4b549251416c750ff715\\\", \\\"gender\\\": 2, \\\"id\\\": 91606, \\\"name\\\": \\\"Tom Hiddleston\\\", \\\"order\\\": 9}, {\\\"cast_id\\\": 32, \\\"character\\\": \\\"Herself\\\", \\\"credit_id\\\": \\\"52fe4b549251416c750ff719\\\", \\\"gender\\\": 1, \\\"id\\\": 3136, \\\"name\\\": \\\"Salma Hayek\\\", \\\"order\\\": 10}, {\\\"cast_id\\\": 14, \\\"character\\\": \\\"Big Papa\\\", \\\"credit_id\\\": \\\"52fe4b539251416c750ff6d1\\\", \\\"gender\\\": 2, \\\"id\\\": 11477, \\\"name\\\": \\\"Ray Liotta\\\", \\\"order\\\": 11}, {\\\"cast_id\\\": 17, \\\"character\\\": \\\"Berliner #1\\\", \\\"credit_id\\\": \\\"52fe4b539251416c750ff6dd\\\", \\\"gender\\\": 0, \\\"id\\\": 997569, \\\"name\\\": \\\"Kenneth Collard\\\", \\\"order\\\": 12}, {\\\"cast_id\\\": 20, \\\"character\\\": \\\"German Lady in the Audience\\\", \\\"credit_id\\\": \\\"52fe4b549251416c750ff6e9\\\", \\\"gender\\\": 1, \\\"id\\\": 1147918, \\\"name\\\": \\\"Pamela Betsy Cooper\\\", \\\"order\\\": 13}, {\\\"cast_id\\\": 23, \\\"character\\\": \\\"Joe\\\", \\\"credit_id\\\": \\\"52fe4b549251416c750ff6f5\\\", \\\"gender\\\": 0, \\\"id\\\": 1147919, \\\"name\\\": \\\"James Pasierbowicz\\\", \\\"order\\\": 14}, {\\\"cast_id\\\": 25, \\\"character\\\": \\\"Commuter\\\", \\\"credit_id\\\": \\\"52fe4b549251416c750ff6fd\\\", \\\"gender\\\": 0, \\\"id\\\": 1147920, \\\"name\\\": \\\"Richard Herdman\\\", \\\"order\\\": 15}, {\\\"cast_id\\\": 26, \\\"character\\\": \\\"Scooter / Janice / Miss Poogy / Bobby Benson / Wayne (voice)\\\", \\\"credit_id\\\": \\\"52fe4b549251416c750ff701\\\", \\\"gender\\\": 0, \\\"id\\\": 192632, \\\"name\\\": \\\"David Rudman\\\", \\\"order\\\": 16}, {\\\"cast_id\\\": 28, \\\"character\\\": \\\"Spanish Train Porter\\\", \\\"credit_id\\\": \\\"52fe4b549251416c750ff709\\\", \\\"gender\\\": 0, \\\"id\\\": 1138597, \\\"name\\\": \\\"Luke Howard\\\", \\\"order\\\": 17}, {\\\"cast_id\\\": 29, \\\"character\\\": \\\"German Audience Member\\\", \\\"credit_id\\\": \\\"52fe4b549251416c750ff70d\\\", \\\"gender\\\": 0, \\\"id\\\": 1147921, \\\"name\\\": \\\"Pete Meads\\\", \\\"order\\\": 18}, {\\\"cast_id\\\": 30, \\\"character\\\": \\\"Audience Member\\\", \\\"credit_id\\\": \\\"52fe4b549251416c750ff711\\\", \\\"gender\\\": 0, \\\"id\\\": 1106760, \\\"name\\\": \\\"Ricky Rajpal\\\", \\\"order\\\": 19}, {\\\"cast_id\\\": 33, \\\"character\\\": \\\"Danny Trejo\\\", \\\"credit_id\\\": \\\"52fe4b549251416c750ff71d\\\", \\\"gender\\\": 2, \\\"id\\\": 11160, \\\"name\\\": \\\"Danny Trejo\\\", \\\"order\\\": 20}, {\\\"cast_id\\\": 34, \\\"character\\\": \\\"Ivan the Guard\\\", \\\"credit_id\\\": \\\"53033ee4c3a3680a3f580256\\\", \\\"gender\\\": 2, \\\"id\\\": 2283, \\\"name\\\": \\\"Stanley Tucci\\\", \\\"order\\\": 21}, {\\\"cast_id\\\": 35, \\\"character\\\": \\\"Prison King\\\", \\\"credit_id\\\": \\\"532f0a849251413a7e00373c\\\", \\\"gender\\\": 0, \\\"id\\\": 55936, \\\"name\\\": \\\"Jemaine Clement\\\", \\\"order\\\": 22}, {\\\"cast_id\\\": 39, \\\"character\\\": \\\"Hobo Joe\\\", \\\"credit_id\\\": \\\"547065c192514112ee0042bd\\\", \\\"gender\\\": 2, \\\"id\\\": 58225, \\\"name\\\": \\\"Zach Galifianakis\\\", \\\"order\\\": 23}, {\\\"cast_id\\\": 40, \\\"character\\\": \\\"Theater Manager\\\", \\\"credit_id\\\": \\\"547065e192514112f3004951\\\", \\\"gender\\\": 2, \\\"id\\\": 2441, \\\"name\\\": \\\"Tom Hollander\\\", \\\"order\\\": 24}, {\\\"cast_id\\\": 41, \\\"character\\\": \\\"Prado Museum Guard #2\\\", \\\"credit_id\\\": \\\"547065f192514170660022e9\\\", \\\"gender\\\": 2, \\\"id\\\": 13014, \\\"name\\\": \\\"Toby Jones\\\", \\\"order\\\": 25}, {\\\"cast_id\\\": 42, \\\"character\\\": \\\"Beefeater Vicar\\\", \\\"credit_id\\\": \\\"5470660cc3a36830c4000924\\\", \\\"gender\\\": 2, \\\"id\\\": 8924, \\\"name\\\": \\\"Frank Langella\\\", \\\"order\\\": 26}, {\\\"cast_id\\\": 43, \\\"character\\\": \\\"UPS Guy\\\", \\\"credit_id\\\": \\\"5470661cc3a36828e0000dc1\\\", \\\"gender\\\": 2, \\\"id\\\": 5530, \\\"name\\\": \\\"James McAvoy\\\", \\\"order\\\": 27}, {\\\"cast_id\\\": 44, \\\"character\\\": \\\"Newspaper Girl\\\", \\\"credit_id\\\": \\\"54706636c3a3682fa70045b1\\\", \\\"gender\\\": 1, \\\"id\\\": 56734, \\\"name\\\": \\\"Chlo\\\\u00eb Grace Moretz\\\", \\\"order\\\": 28}, {\\\"cast_id\\\": 45, \\\"character\\\": \\\"Berliner at Window\\\", \\\"credit_id\\\": \\\"5470665b92514112e90044a2\\\", \\\"gender\\\": 1, \\\"id\\\": 8436, \\\"name\\\": \\\"Miranda Richardson\\\", \\\"order\\\": 29}, {\\\"cast_id\\\": 46, \\\"character\\\": \\\"Ballet Dancer\\\", \\\"credit_id\\\": \\\"5470667092514112e7004bac\\\", \\\"gender\\\": 1, \\\"id\\\": 36592, \\\"name\\\": \\\"Saoirse Ronan\\\", \\\"order\\\": 30}, {\\\"cast_id\\\": 47, \\\"character\\\": \\\"German Cop\\\", \\\"credit_id\\\": \\\"54706681c3a3682f9a004bb1\\\", \\\"gender\\\": 2, \\\"id\\\": 1844, \\\"name\\\": \\\"Til Schweiger\\\", \\\"order\\\": 31}, {\\\"cast_id\\\": 48, \\\"character\\\": \\\"Delivery Man\\\", \\\"credit_id\\\": \\\"5470669592514112ee0042e5\\\", \\\"gender\\\": 0, \\\"id\\\": 55469, \\\"name\\\": \\\"Russell Tovey\\\", \\\"order\\\": 32}, {\\\"cast_id\\\": 49, \\\"character\\\": \\\"Himself\\\", \\\"credit_id\\\": \\\"547066afc3a3682f9a004bb7\\\", \\\"gender\\\": 2, \\\"id\\\": 27319, \\\"name\\\": \\\"Christoph Waltz\\\", \\\"order\\\": 33}, {\\\"cast_id\\\": 50, \\\"character\\\": \\\"Christopher Waltz\\\", \\\"credit_id\\\": \\\"547066c092514112ee0042ed\\\", \\\"gender\\\": 2, \\\"id\\\": 27319, \\\"name\\\": \\\"Christoph Waltz\\\", \\\"order\\\": 34}, {\\\"cast_id\\\": 51, \\\"character\\\": \\\"Irish Journalist\\\", \\\"credit_id\\\": \\\"547066f29251413813000bce\\\", \\\"gender\\\": 2, \\\"id\\\": 19923, \\\"name\\\": \\\"Hugh Bonneville\\\", \\\"order\\\": 35}, {\\\"cast_id\\\": 52, \\\"character\\\": \\\"Prado Museum Guard #1\\\", \\\"credit_id\\\": \\\"54706704c3a36814aa000381\\\", \\\"gender\\\": 2, \\\"id\\\": 1711, \\\"name\\\": \\\"Mackenzie Crook\\\", \\\"order\\\": 36}, {\\\"cast_id\\\": 53, \\\"character\\\": \\\"Himself\\\", \\\"credit_id\\\": \\\"55e90b4a9251413e35004487\\\", \\\"gender\\\": 2, \\\"id\\\": 138986, \\\"name\\\": \\\"Tony Bennett\\\", \\\"order\\\": 37}, {\\\"cast_id\\\": 54, \\\"character\\\": \\\"Announcer\\\", \\\"credit_id\\\": \\\"55e90b4b9251413e41004465\\\", \\\"gender\\\": 0, \\\"id\\\": 1504910, \\\"name\\\": \\\"Andr\\\\u00e9s Cantor\\\", \\\"order\\\": 38}, {\\\"cast_id\\\": 55, \\\"character\\\": \\\"Himself\\\", \\\"credit_id\\\": \\\"55e90b4bc3a3682c5d004c73\\\", \\\"gender\\\": 2, \\\"id\\\": 16450, \\\"name\\\": \\\"Sean Combs\\\", \\\"order\\\": 39}, {\\\"cast_id\\\": 56, \\\"character\\\": \\\"First AD\\\", \\\"credit_id\\\": \\\"55e90b4b9251413e3a004667\\\", \\\"gender\\\": 2, \\\"id\\\": 52997, \\\"name\\\": \\\"Rob Corddry\\\", \\\"order\\\": 40}, {\\\"cast_id\\\": 58, \\\"character\\\": \\\"Herself\\\", \\\"credit_id\\\": \\\"55e90b4c9251413e3e0048a2\\\", \\\"gender\\\": 1, \\\"id\\\": 237405, \\\"name\\\": \\\"Lady Gaga\\\", \\\"order\\\": 42}, {\\\"cast_id\\\": 59, \\\"character\\\": \\\"Maximum Security Prisoner\\\", \\\"credit_id\\\": \\\"55e90b4cc3a3682c5d004c75\\\", \\\"gender\\\": 2, \\\"id\\\": 117470, \\\"name\\\": \\\"Josh Groban\\\", \\\"order\\\": 43}, {\\\"cast_id\\\": 60, \\\"character\\\": \\\"Young Florist\\\", \\\"credit_id\\\": \\\"55e90b4cc3a3682c6200474b\\\", \\\"gender\\\": 2, \\\"id\\\": 973385, \\\"name\\\": \\\"Ross Lynch\\\", \\\"order\\\": 44}, {\\\"cast_id\\\": 61, \\\"character\\\": \\\"Other Guard\\\", \\\"credit_id\\\": \\\"55e90b4dc3a3682c76004113\\\", \\\"gender\\\": 2, \\\"id\\\": 1315418, \\\"name\\\": \\\"Aleksandar Miki\\\\u0107\\\", \\\"order\\\": 45}, {\\\"cast_id\\\": 62, \\\"character\\\": \\\"Berliner #3\\\", \\\"credit_id\\\": \\\"55e90b4dc3a3682c5d004c78\\\", \\\"gender\\\": 0, \\\"id\\\": 1504912, \\\"name\\\": \\\"Fleur Poad\\\", \\\"order\\\": 46}, {\\\"cast_id\\\": 63, \\\"character\\\": \\\"Prisoner One\\\", \\\"credit_id\\\": \\\"55e90b4dc3a3682c6700475d\\\", \\\"gender\\\": 0, \\\"id\\\": 1082302, \\\"name\\\": \\\"Dylan Postl\\\", \\\"order\\\": 47}, {\\\"cast_id\\\": 64, \\\"character\\\": \\\"The Usher\\\", \\\"credit_id\\\": \\\"55e90b4e9251413e38004551\\\", \\\"gender\\\": 0, \\\"id\\\": 57108, \\\"name\\\": \\\"Usher Raymond\\\", \\\"order\\\": 48}, {\\\"cast_id\\\": 65, \\\"character\\\": \\\"Annie Sue / UK Muppet Performer (voice)\\\", \\\"credit_id\\\": \\\"55e90b4e9251413e3500448a\\\", \\\"gender\\\": 0, \\\"id\\\": 1228891, \\\"name\\\": \\\"Louise Gold\\\", \\\"order\\\": 49}, {\\\"cast_id\\\": 66, \\\"character\\\": \\\"UK Muppet Performer (voice)\\\", \\\"credit_id\\\": \\\"55e90b4ec3a3682c640040a6\\\", \\\"gender\\\": 2, \\\"id\\\": 1401233, \\\"name\\\": \\\"Nigel Plaskitt\\\", \\\"order\\\": 50}, {\\\"cast_id\\\": 67, \\\"character\\\": \\\"UK Muppet Performer (voice)\\\", \\\"credit_id\\\": \\\"55e90b4ec3a3682c5f0049a5\\\", \\\"gender\\\": 0, \\\"id\\\": 102757, \\\"name\\\": \\\"Mak Wilson\\\", \\\"order\\\": 51}, {\\\"cast_id\\\": 68, \\\"character\\\": \\\"UK Muppet Performer (voice)\\\", \\\"credit_id\\\": \\\"55e90b4f9251413e320044e8\\\", \\\"gender\\\": 0, \\\"id\\\": 1504913, \\\"name\\\": \\\"Warrick Brownlow-Pike\\\", \\\"order\\\": 52}, {\\\"cast_id\\\": 69, \\\"character\\\": \\\"UK Muppet Performer (voice)\\\", \\\"credit_id\\\": \\\"55e90b4fc3a3682c76004118\\\", \\\"gender\\\": 0, \\\"id\\\": 1504914, \\\"name\\\": \\\"David Covarrubias\\\", \\\"order\\\": 53}, {\\\"cast_id\\\": 70, \\\"character\\\": \\\"UK Additional Muppet Performer (voice)\\\", \\\"credit_id\\\": \\\"55e90b4fc3a3682c5d004c7c\\\", \\\"gender\\\": 0, \\\"id\\\": 65294, \\\"name\\\": \\\"Don Austen\\\", \\\"order\\\": 54}, {\\\"cast_id\\\": 71, \\\"character\\\": \\\"UK Additional Muppet Performer (voice)\\\", \\\"credit_id\\\": \\\"55e90b509251413e2f00454d\\\", \\\"gender\\\": 0, \\\"id\\\": 1504915, \\\"name\\\": \\\"William Banyard\\\", \\\"order\\\": 55}, {\\\"cast_id\\\": 72, \\\"character\\\": \\\"UK Additional Muppet Performer (voice)\\\", \\\"credit_id\\\": \\\"55e90b50c3a3682c70004469\\\", \\\"gender\\\": 0, \\\"id\\\": 1504916, \\\"name\\\": \\\"Daisy Beattie\\\", \\\"order\\\": 56}, {\\\"cast_id\\\": 73, \\\"character\\\": \\\"UK Additional Muppet Performer (voice)\\\", \\\"credit_id\\\": \\\"55e90b509251413e3500448d\\\", \\\"gender\\\": 0, \\\"id\\\": 1504917, \\\"name\\\": \\\"Sue Beattie\\\", \\\"order\\\": 57}, {\\\"cast_id\\\": 74, \\\"character\\\": \\\"UK Additional Muppet Performer (voice)\\\", \\\"credit_id\\\": \\\"55e90b51c3a3682c6b004429\\\", \\\"gender\\\": 1, \\\"id\\\": 1504918, \\\"name\\\": \\\"Lynn Robertson Bruce\\\", \\\"order\\\": 58}, {\\\"cast_id\\\": 75, \\\"character\\\": \\\"LA Muppet Performer (voice)\\\", \\\"credit_id\\\": \\\"55e90b519251413e35004491\\\", \\\"gender\\\": 2, \\\"id\\\": 946673, \\\"name\\\": \\\"Brian Jones\\\", \\\"order\\\": 59}, {\\\"cast_id\\\": 76, \\\"character\\\": \\\"\\\", \\\"credit_id\\\": \\\"5710337c925141626c00095e\\\", \\\"gender\\\": 1, \\\"id\\\": 16303, \\\"name\\\": \\\"C\\\\u00e9line Dion\\\", \\\"order\\\": 60}, {\\\"cast_id\\\": 77, \\\"character\\\": \\\"Gulag Guard (uncredited)\\\", \\\"credit_id\\\": \\\"588369af925141045d0097ff\\\", \\\"gender\\\": 2, \\\"id\\\": 11115, \\\"name\\\": \\\"Peter Serafinowicz\\\", \\\"order\\\": 61}, {\\\"cast_id\\\": 78, \\\"character\\\": \\\"\\\", \\\"credit_id\\\": \\\"5974f207c3a36842c20139f6\\\", \\\"gender\\\": 2, \\\"id\\\": 974, \\\"name\\\": \\\"Dexter Fletcher\\\", \\\"order\\\": 62}, {\\\"cast_id\\\": 79, \\\"character\\\": \\\"\\\", \\\"credit_id\\\": \\\"5974f20fc3a3685ded01b248\\\", \\\"gender\\\": 1, \\\"id\\\": 85176, \\\"name\\\": \\\"Bridgit Mendler\\\", \\\"order\\\": 63}, {\\\"cast_id\\\": 80, \\\"character\\\": \\\"\\\", \\\"credit_id\\\": \\\"5974f216c3a3685d5e019cd1\\\", \\\"gender\\\": 1, \\\"id\\\": 123846, \\\"name\\\": \\\"Debby Ryan\\\", \\\"order\\\": 64}, {\\\"cast_id\\\": 81, \\\"character\\\": \\\"\\\", \\\"credit_id\\\": \\\"5974f256c3a3685d5e019d0e\\\", \\\"gender\\\": 2, \\\"id\\\": 93219, \\\"name\\\": \\\"Jake Short\\\", \\\"order\\\": 65}, {\\\"cast_id\\\": 82, \\\"character\\\": \\\"\\\", \\\"credit_id\\\": \\\"5974f25fc3a3685d5e019d18\\\", \\\"gender\\\": 2, \\\"id\\\": 51331, \\\"name\\\": \\\"Tyrel Jackson Williams\\\", \\\"order\\\": 66}]\"\n        ],\n        \"semantic_type\": \"\",\n        \"description\": \"\"\n      }\n    },\n    {\n      \"column\": \"crew\",\n      \"properties\": {\n        \"dtype\": \"string\",\n        \"num_unique_values\": 937,\n        \"samples\": [\n          \"[{\\\"credit_id\\\": \\\"587ea5eb9251413f1b02b874\\\", \\\"department\\\": \\\"Sound\\\", \\\"gender\\\": 2, \\\"id\\\": 10572, \\\"job\\\": \\\"Music\\\", \\\"name\\\": \\\"Theodore Shapiro\\\"}, {\\\"credit_id\\\": \\\"52fe4985c3a368484e12fcbd\\\", \\\"department\\\": \\\"Directing\\\", \\\"gender\\\": 2, \\\"id\\\": 6737, \\\"job\\\": \\\"Director\\\", \\\"name\\\": \\\"Jay Roach\\\"}, {\\\"credit_id\\\": \\\"52fe4985c3a368484e12fce1\\\", \\\"department\\\": \\\"Production\\\", \\\"gender\\\": 2, \\\"id\\\": 6737, \\\"job\\\": \\\"Producer\\\", \\\"name\\\": \\\"Jay Roach\\\"}, {\\\"credit_id\\\": \\\"5396d39ac3a3686446005a03\\\", \\\"department\\\": \\\"Production\\\", \\\"gender\\\": 2, \\\"id\\\": 23659, \\\"job\\\": \\\"Producer\\\", \\\"name\\\": \\\"Will Ferrell\\\"}, {\\\"credit_id\\\": \\\"52fe4985c3a368484e12fcdb\\\", \\\"department\\\": \\\"Production\\\", \\\"gender\\\": 2, \\\"id\\\": 55710, \\\"job\\\": \\\"Producer\\\", \\\"name\\\": \\\"Adam McKay\\\"}, {\\\"credit_id\\\": \\\"570533a9c3a3680f3d0002bd\\\", \\\"department\\\": \\\"Writing\\\", \\\"gender\\\": 2, \\\"id\\\": 55710, \\\"job\\\": \\\"Story\\\", \\\"name\\\": \\\"Adam McKay\\\"}, {\\\"credit_id\\\": \\\"52fe4985c3a368484e12fcd5\\\", \\\"department\\\": \\\"Production\\\", \\\"gender\\\": 2, \\\"id\\\": 58225, \\\"job\\\": \\\"Producer\\\", \\\"name\\\": \\\"Zach Galifianakis\\\"}, {\\\"credit_id\\\": \\\"52fe4985c3a368484e12fcc9\\\", \\\"department\\\": \\\"Writing\\\", \\\"gender\\\": 2, \\\"id\\\": 99410, \\\"job\\\": \\\"Screenplay\\\", \\\"name\\\": \\\"Chris Henchy\\\"}, {\\\"credit_id\\\": \\\"52fe4985c3a368484e12fcc3\\\", \\\"department\\\": \\\"Writing\\\", \\\"gender\\\": 0, \\\"id\\\": 217297, \\\"job\\\": \\\"Screenplay\\\", \\\"name\\\": \\\"Shawn Harwell\\\"}, {\\\"credit_id\\\": \\\"52fe4985c3a368484e12fce7\\\", \\\"department\\\": \\\"Crew\\\", \\\"gender\\\": 0, \\\"id\\\": 582943, \\\"job\\\": \\\"Graphic Novel Illustrator\\\", \\\"name\\\": \\\"Kristin Lekki\\\"}, {\\\"credit_id\\\": \\\"52fe4985c3a368484e12fced\\\", \\\"department\\\": \\\"Crew\\\", \\\"gender\\\": 0, \\\"id\\\": 582944, \\\"job\\\": \\\"Scenic Artist\\\", \\\"name\\\": \\\"Sdavid Myers\\\"}, {\\\"credit_id\\\": \\\"52fe4985c3a368484e12fcf3\\\", \\\"department\\\": \\\"Art\\\", \\\"gender\\\": 0, \\\"id\\\": 582945, \\\"job\\\": \\\"Art Department Assistant\\\", \\\"name\\\": \\\"Nicole LaBranche\\\"}]\",\n          \"[{\\\"credit_id\\\": \\\"52fe44adc3a36847f80a3bc7\\\", \\\"department\\\": \\\"Camera\\\", \\\"gender\\\": 2, \\\"id\\\": 1919, \\\"job\\\": \\\"Director of Photography\\\", \\\"name\\\": \\\"Stefan Czapsky\\\"}, {\\\"credit_id\\\": \\\"52fe44adc3a36847f80a3bc1\\\", \\\"department\\\": \\\"Camera\\\", \\\"gender\\\": 2, \\\"id\\\": 3769, \\\"job\\\": \\\"Director of Photography\\\", \\\"name\\\": \\\"Michael Ballhaus\\\"}, {\\\"credit_id\\\": \\\"52fe44adc3a36847f80a3baf\\\", \\\"department\\\": \\\"Production\\\", \\\"gender\\\": 2, \\\"id\\\": 3805, \\\"job\\\": \\\"Producer\\\", \\\"name\\\": \\\"Jon Peters\\\"}, {\\\"credit_id\\\": \\\"52fe44adc3a36847f80a3b91\\\", \\\"department\\\": \\\"Directing\\\", \\\"gender\\\": 2, \\\"id\\\": 5174, \\\"job\\\": \\\"Director\\\", \\\"name\\\": \\\"Barry Sonnenfeld\\\"}, {\\\"credit_id\\\": \\\"52fe44adc3a36847f80a3bb5\\\", \\\"department\\\": \\\"Production\\\", \\\"gender\\\": 2, \\\"id\\\": 5174, \\\"job\\\": \\\"Producer\\\", \\\"name\\\": \\\"Barry Sonnenfeld\\\"}, {\\\"credit_id\\\": \\\"52fe44adc3a36847f80a3bbb\\\", \\\"department\\\": \\\"Sound\\\", \\\"gender\\\": 2, \\\"id\\\": 7182, \\\"job\\\": \\\"Original Music Composer\\\", \\\"name\\\": \\\"Elmer Bernstein\\\"}, {\\\"credit_id\\\": \\\"52fe44adc3a36847f80a3bcd\\\", \\\"department\\\": \\\"Editing\\\", \\\"gender\\\": 2, \\\"id\\\": 9615, \\\"job\\\": \\\"Editor\\\", \\\"name\\\": \\\"Jim Miller\\\"}, {\\\"credit_id\\\": \\\"52fe44adc3a36847f80a3ba3\\\", \\\"department\\\": \\\"Writing\\\", \\\"gender\\\": 2, \\\"id\\\": 12100, \\\"job\\\": \\\"Screenplay\\\", \\\"name\\\": \\\"Jeffrey Price\\\"}, {\\\"credit_id\\\": \\\"52fe44adc3a36847f80a3ba9\\\", \\\"department\\\": \\\"Writing\\\", \\\"gender\\\": 2, \\\"id\\\": 12101, \\\"job\\\": \\\"Screenplay\\\", \\\"name\\\": \\\"Peter S. Seaman\\\"}, {\\\"credit_id\\\": \\\"52fe44adc3a36847f80a3b9d\\\", \\\"department\\\": \\\"Writing\\\", \\\"gender\\\": 2, \\\"id\\\": 26475, \\\"job\\\": \\\"Screenplay\\\", \\\"name\\\": \\\"Brent Maddock\\\"}, {\\\"credit_id\\\": \\\"52fe44adc3a36847f80a3b97\\\", \\\"department\\\": \\\"Writing\\\", \\\"gender\\\": 2, \\\"id\\\": 26479, \\\"job\\\": \\\"Screenplay\\\", \\\"name\\\": \\\"S. S. Wilson\\\"}, {\\\"credit_id\\\": \\\"57bb823bc3a368357d000242\\\", \\\"department\\\": \\\"Crew\\\", \\\"gender\\\": 1, \\\"id\\\": 1669267, \\\"job\\\": \\\"Stunts\\\", \\\"name\\\": \\\"Alex Madison\\\"}]\",\n          \"[{\\\"credit_id\\\": \\\"52fe4782c3a36847f8139c3b\\\", \\\"department\\\": \\\"Production\\\", \\\"gender\\\": 2, \\\"id\\\": 664, \\\"job\\\": \\\"Producer\\\", \\\"name\\\": \\\"Frank Marshall\\\"}, {\\\"credit_id\\\": \\\"52fe4782c3a36847f8139c95\\\", \\\"department\\\": \\\"Sound\\\", \\\"gender\\\": 2, \\\"id\\\": 1213, \\\"job\\\": \\\"Original Music Composer\\\", \\\"name\\\": \\\"James Newton Howard\\\"}, {\\\"credit_id\\\": \\\"52fe4782c3a36847f8139ca1\\\", \\\"department\\\": \\\"Production\\\", \\\"gender\\\": 1, \\\"id\\\": 1484, \\\"job\\\": \\\"Casting\\\", \\\"name\\\": \\\"Ellen Chenoweth\\\"}, {\\\"credit_id\\\": \\\"52fe4782c3a36847f8139ceb\\\", \\\"department\\\": \\\"Production\\\", \\\"gender\\\": 1, \\\"id\\\": 2946, \\\"job\\\": \\\"Executive Producer\\\", \\\"name\\\": \\\"Jennifer Fox\\\"}, {\\\"credit_id\\\": \\\"5319bbc8c3a3685c31002d64\\\", \\\"department\\\": \\\"Camera\\\", \\\"gender\\\": 2, \\\"id\\\": 2950, \\\"job\\\": \\\"Director of Photography\\\", \\\"name\\\": \\\"Robert Elswit\\\"}, {\\\"credit_id\\\": \\\"53a6ae300e0a26143f0038d4\\\", \\\"department\\\": \\\"Art\\\", \\\"gender\\\": 2, \\\"id\\\": 6191, \\\"job\\\": \\\"Set Decoration\\\", \\\"name\\\": \\\"Leslie E. Rollins\\\"}, {\\\"credit_id\\\": \\\"54a3d313925141198b006245\\\", \\\"department\\\": \\\"Crew\\\", \\\"gender\\\": 2, \\\"id\\\": 8684, \\\"job\\\": \\\"Stunt Coordinator\\\", \\\"name\\\": \\\"Dan Bradley\\\"}, {\\\"credit_id\\\": \\\"570b91f2c3a3684f41003b58\\\", \\\"department\\\": \\\"Art\\\", \\\"gender\\\": 0, \\\"id\\\": 89383, \\\"job\\\": \\\"Supervising Art Director\\\", \\\"name\\\": \\\"Molly Hughes\\\"}, {\\\"credit_id\\\": \\\"54a33037c3a368554200d461\\\", \\\"department\\\": \\\"Art\\\", \\\"gender\\\": 2, \\\"id\\\": 11713, \\\"job\\\": \\\"Assistant Art Director\\\", \\\"name\\\": \\\"W. Steven Graham\\\"}, {\\\"credit_id\\\": \\\"54a333a99251414d2700ab81\\\", \\\"department\\\": \\\"Sound\\\", \\\"gender\\\": 0, \\\"id\\\": 13166, \\\"job\\\": \\\"Sound Designer\\\", \\\"name\\\": \\\"Dino Dimuro\\\"}, {\\\"credit_id\\\": \\\"54a33319c3a3680b2700e0e9\\\", \\\"department\\\": \\\"Sound\\\", \\\"gender\\\": 0, \\\"id\\\": 14764, \\\"job\\\": \\\"Sound Designer\\\", \\\"name\\\": \\\"Christopher Assells\\\"}, {\\\"credit_id\\\": \\\"54a332e0925141198b004989\\\", \\\"department\\\": \\\"Sound\\\", \\\"gender\\\": 0, \\\"id\\\": 14765, \\\"job\\\": \\\"Supervising Sound Editor\\\", \\\"name\\\": \\\"Per Hallberg\\\"}, {\\\"credit_id\\\": \\\"52fe4782c3a36847f8139ccd\\\", \\\"department\\\": \\\"Costume & Make-Up\\\", \\\"gender\\\": 0, \\\"id\\\": 19971, \\\"job\\\": \\\"Costume Design\\\", \\\"name\\\": \\\"Shay Cunliffe\\\"}, {\\\"credit_id\\\": \\\"52fe4782c3a36847f8139c47\\\", \\\"department\\\": \\\"Writing\\\", \\\"gender\\\": 2, \\\"id\\\": 19242, \\\"job\\\": \\\"Screenplay\\\", \\\"name\\\": \\\"Tony Gilroy\\\"}, {\\\"credit_id\\\": \\\"52fe4782c3a36847f8139c41\\\", \\\"department\\\": \\\"Directing\\\", \\\"gender\\\": 2, \\\"id\\\": 19242, \\\"job\\\": \\\"Director\\\", \\\"name\\\": \\\"Tony Gilroy\\\"}, {\\\"credit_id\\\": \\\"52fe4782c3a36847f8139c8f\\\", \\\"department\\\": \\\"Production\\\", \\\"gender\\\": 2, \\\"id\\\": 25600, \\\"job\\\": \\\"Producer\\\", \\\"name\\\": \\\"Patrick Crowley\\\"}, {\\\"credit_id\\\": \\\"52fe4782c3a36847f8139ce5\\\", \\\"department\\\": \\\"Production\\\", \\\"gender\\\": 2, \\\"id\\\": 29402, \\\"job\\\": \\\"Executive Producer\\\", \\\"name\\\": \\\"Henry Morrison\\\"}, {\\\"credit_id\\\": \\\"53a6ae1c0e0a261449003608\\\", \\\"department\\\": \\\"Art\\\", \\\"gender\\\": 2, \\\"id\\\": 19755, \\\"job\\\": \\\"Production Design\\\", \\\"name\\\": \\\"Kevin Thompson\\\"}, {\\\"credit_id\\\": \\\"54a3306fc3a3682f1b00ff55\\\", \\\"department\\\": \\\"Art\\\", \\\"gender\\\": 0, \\\"id\\\": 62062, \\\"job\\\": \\\"Assistant Art Director\\\", \\\"name\\\": \\\"Hinju Kim\\\"}, {\\\"credit_id\\\": \\\"52fe4782c3a36847f8139cdf\\\", \\\"department\\\": \\\"Editing\\\", \\\"gender\\\": 2, \\\"id\\\": 67810, \\\"job\\\": \\\"Editor\\\", \\\"name\\\": \\\"John Gilroy\\\"}, {\\\"credit_id\\\": \\\"54a32e45c3a3682f21010105\\\", \\\"department\\\": \\\"Costume & Make-Up\\\", \\\"gender\\\": 0, \\\"id\\\": 74766, \\\"job\\\": \\\"Hairstylist\\\", \\\"name\\\": \\\"Kathe Swanson\\\"}, {\\\"credit_id\\\": \\\"54a3d5c4925141198b006289\\\", \\\"department\\\": \\\"Crew\\\", \\\"gender\\\": 1, \\\"id\\\": 76003, \\\"job\\\": \\\"Dialect Coach\\\", \\\"name\\\": \\\"Susan Hegarty\\\"}, {\\\"credit_id\\\": \\\"52fe4782c3a36847f8139c4d\\\", \\\"department\\\": \\\"Writing\\\", \\\"gender\\\": 0, \\\"id\\\": 141712, \\\"job\\\": \\\"Novel\\\", \\\"name\\\": \\\"Eric Van Lustbader\\\"}, {\\\"credit_id\\\": \\\"54a3d1b9925141198b006228\\\", \\\"department\\\": \\\"Visual Effects\\\", \\\"gender\\\": 0, \\\"id\\\": 223238, \\\"job\\\": \\\"Visual Effects Supervisor\\\", \\\"name\\\": \\\"Hal Couzens\\\"}, {\\\"credit_id\\\": \\\"54a3d5a19251414d2700c17d\\\", \\\"department\\\": \\\"Directing\\\", \\\"gender\\\": 1, \\\"id\\\": 958273, \\\"job\\\": \\\"Script Supervisor\\\", \\\"name\\\": \\\"Dianne Dreyer\\\"}, {\\\"credit_id\\\": \\\"52fe4782c3a36847f8139cd3\\\", \\\"department\\\": \\\"Art\\\", \\\"gender\\\": 0, \\\"id\\\": 983595, \\\"job\\\": \\\"Art Direction\\\", \\\"name\\\": \\\"Charlie Campbell\\\"}, {\\\"credit_id\\\": \\\"54a3d40b925141198b00625a\\\", \\\"department\\\": \\\"Camera\\\", \\\"gender\\\": 1, \\\"id\\\": 992965, \\\"job\\\": \\\"Still Photographer\\\", \\\"name\\\": \\\"Mary Cybulski\\\"}, {\\\"credit_id\\\": \\\"54a3d1dac3a3682f21011ad7\\\", \\\"department\\\": \\\"Visual Effects\\\", \\\"gender\\\": 0, \\\"id\\\": 1006747, \\\"job\\\": \\\"Visual Effects Supervisor\\\", \\\"name\\\": \\\"Scott M. Davids\\\"}, {\\\"credit_id\\\": \\\"54a33055c3a368642800107d\\\", \\\"department\\\": \\\"Art\\\", \\\"gender\\\": 1, \\\"id\\\": 1015645, \\\"job\\\": \\\"Assistant Art Director\\\", \\\"name\\\": \\\"Deborah Jensen\\\"}, {\\\"credit_id\\\": \\\"52fe4782c3a36847f8139ca7\\\", \\\"department\\\": \\\"Art\\\", \\\"gender\\\": 0, \\\"id\\\": 1085049, \\\"job\\\": \\\"Art Direction\\\", \\\"name\\\": \\\"Stephen H. Carter\\\"}, {\\\"credit_id\\\": \\\"54a3d42e925141212700851c\\\", \\\"department\\\": \\\"Lighting\\\", \\\"gender\\\": 2, \\\"id\\\": 1298625, \\\"job\\\": \\\"Gaffer\\\", \\\"name\\\": \\\"Cory Geryak\\\"}, {\\\"credit_id\\\": \\\"53a6ae5d0e0a26144900360b\\\", \\\"department\\\": \\\"Costume & Make-Up\\\", \\\"gender\\\": 0, \\\"id\\\": 1319843, \\\"job\\\": \\\"Makeup Department Head\\\", \\\"name\\\": \\\"Felicity Bowring\\\"}, {\\\"credit_id\\\": \\\"53a6af2dc3a3687a3100306f\\\", \\\"department\\\": \\\"Costume & Make-Up\\\", \\\"gender\\\": 0, \\\"id\\\": 1327146, \\\"job\\\": \\\"Costume Supervisor\\\", \\\"name\\\": \\\"Wendy M. Craig\\\"}, {\\\"credit_id\\\": \\\"53a6ae800e0a26143c003533\\\", \\\"department\\\": \\\"Crew\\\", \\\"gender\\\": 0, \\\"id\\\": 1333082, \\\"job\\\": \\\"Property Master\\\", \\\"name\\\": \\\"Diana Burton\\\"}, {\\\"credit_id\\\": \\\"53a6ae990e0a261432003719\\\", \\\"department\\\": \\\"Crew\\\", \\\"gender\\\": 0, \\\"id\\\": 1333083, \\\"job\\\": \\\"Property Master\\\", \\\"name\\\": \\\"Wanjin Choi\\\"}, {\\\"credit_id\\\": \\\"53a6aebd0e0a2614420036a8\\\", \\\"department\\\": \\\"Crew\\\", \\\"gender\\\": 0, \\\"id\\\": 1333084, \\\"job\\\": \\\"Property Master\\\", \\\"name\\\": \\\"David Dowling\\\"}, {\\\"credit_id\\\": \\\"53a6af14c3a3687a2b0031a5\\\", \\\"department\\\": \\\"Costume & Make-Up\\\", \\\"gender\\\": 0, \\\"id\\\": 1333085, \\\"job\\\": \\\"Costume Supervisor\\\", \\\"name\\\": \\\"Erwin Arenas\\\"}, {\\\"credit_id\\\": \\\"53a6af46c3a3687a3400305e\\\", \\\"department\\\": \\\"Costume & Make-Up\\\", \\\"gender\\\": 0, \\\"id\\\": 1333086, \\\"job\\\": \\\"Costume Supervisor\\\", \\\"name\\\": \\\"Kate Edwards\\\"}, {\\\"credit_id\\\": \\\"53a6af63c3a3687a40002f34\\\", \\\"department\\\": \\\"Costume & Make-Up\\\", \\\"gender\\\": 0, \\\"id\\\": 1333087, \\\"job\\\": \\\"Costume Supervisor\\\", \\\"name\\\": \\\"Jeffrey Fayle\\\"}, {\\\"credit_id\\\": \\\"53a6af7fc3a36874950025bf\\\", \\\"department\\\": \\\"Costume & Make-Up\\\", \\\"gender\\\": 0, \\\"id\\\": 1333088, \\\"job\\\": \\\"Costume Supervisor\\\", \\\"name\\\": \\\"Cheryl Kilbourne-Kimpton\\\"}, {\\\"credit_id\\\": \\\"54a3d51c9251414e2800c706\\\", \\\"department\\\": \\\"Sound\\\", \\\"gender\\\": 0, \\\"id\\\": 1337469, \\\"job\\\": \\\"Music Editor\\\", \\\"name\\\": \\\"Nic Ratner\\\"}, {\\\"credit_id\\\": \\\"54a3349dc3a3682f1e00fda1\\\", \\\"department\\\": \\\"Sound\\\", \\\"gender\\\": 0, \\\"id\\\": 1338372, \\\"job\\\": \\\"Foley\\\", \\\"name\\\": \\\"Dan O'Connell\\\"}, {\\\"credit_id\\\": \\\"54a32eb29251414d2700ab18\\\", \\\"department\\\": \\\"Costume & Make-Up\\\", \\\"gender\\\": 0, \\\"id\\\": 1339645, \\\"job\\\": \\\"Makeup Artist\\\", \\\"name\\\": \\\"Sue Wyburgh\\\"}, {\\\"credit_id\\\": \\\"54a3d2dac3a3682f1b011818\\\", \\\"department\\\": \\\"Visual Effects\\\", \\\"gender\\\": 0, \\\"id\\\": 1342014, \\\"job\\\": \\\"Visual Effects Producer\\\", \\\"name\\\": \\\"Seth Kleinberg\\\"}, {\\\"credit_id\\\": \\\"54a3347c92514117dd002978\\\", \\\"department\\\": \\\"Sound\\\", \\\"gender\\\": 0, \\\"id\\\": 1367493, \\\"job\\\": \\\"Foley\\\", \\\"name\\\": \\\"John T. Cucci\\\"}, {\\\"credit_id\\\": \\\"54a3d4e7c3a3682f21011b12\\\", \\\"department\\\": \\\"Editing\\\", \\\"gender\\\": 0, \\\"id\\\": 1383055, \\\"job\\\": \\\"First Assistant Editor\\\", \\\"name\\\": \\\"James W. Harrison III\\\"}, {\\\"credit_id\\\": \\\"54a333629251414e2800afef\\\", \\\"department\\\": \\\"Editing\\\", \\\"gender\\\": 2, \\\"id\\\": 1387183, \\\"job\\\": \\\"Dialogue Editor\\\", \\\"name\\\": \\\"John C. Stuver\\\"}, {\\\"credit_id\\\": \\\"54a3d32cc3a3686428002902\\\", \\\"department\\\": \\\"Crew\\\", \\\"gender\\\": 0, \\\"id\\\": 1387252, \\\"job\\\": \\\"Stunt Coordinator\\\", \\\"name\\\": \\\"Chris O'Hara\\\"}, {\\\"credit_id\\\": \\\"54a32fee925141236b0071ff\\\", \\\"department\\\": \\\"Art\\\", \\\"gender\\\": 0, \\\"id\\\": 1393554, \\\"job\\\": \\\"Art Department Coordinator\\\", \\\"name\\\": \\\"Sheyam Ghieth\\\"}, {\\\"credit_id\\\": \\\"54a333dfc3a3682f1b00ff8b\\\", \\\"department\\\": \\\"Sound\\\", \\\"gender\\\": 0, \\\"id\\\": 1395023, \\\"job\\\": \\\"Sound Effects Editor\\\", \\\"name\\\": \\\"William R. Dean\\\"}, {\\\"credit_id\\\": \\\"54a3d5599251411d5300c1f9\\\", \\\"department\\\": \\\"Crew\\\", \\\"gender\\\": 0, \\\"id\\\": 1399069, \\\"job\\\": \\\"Transportation Coordinator\\\", \\\"name\\\": \\\"Sylvia Nablo\\\"}, {\\\"credit_id\\\": \\\"54a3d353925141198b00624a\\\", \\\"department\\\": \\\"Camera\\\", \\\"gender\\\": 0, \\\"id\\\": 1399071, \\\"job\\\": \\\"Camera Operator\\\", \\\"name\\\": \\\"Hans Bjerno\\\"}, {\\\"credit_id\\\": \\\"54a3d617925141236b008b94\\\", \\\"department\\\": \\\"Crew\\\", \\\"gender\\\": 0, \\\"id\\\": 1399479, \\\"job\\\": \\\"Unit Publicist\\\", \\\"name\\\": \\\"Julie Kuehndorf\\\"}, {\\\"credit_id\\\": \\\"54a3d183c3a3682f1e0115c7\\\", \\\"department\\\": \\\"Crew\\\", \\\"gender\\\": 0, \\\"id\\\": 1399873, \\\"job\\\": \\\"Visual Effects Art Director\\\", \\\"name\\\": \\\"Vanessa Cheung\\\"}, {\\\"credit_id\\\": \\\"54a3d3a7925141236b008b59\\\", \\\"department\\\": \\\"Camera\\\", \\\"gender\\\": 2, \\\"id\\\": 1400081, \\\"job\\\": \\\"Camera Operator\\\", \\\"name\\\": \\\"Andrew Rowlands\\\"}, {\\\"credit_id\\\": \\\"54a331d4925141236b00724f\\\", \\\"department\\\": \\\"Crew\\\", \\\"gender\\\": 0, \\\"id\\\": 1400489, \\\"job\\\": \\\"Scenic Artist\\\", \\\"name\\\": \\\"Christopher Weiser\\\"}, {\\\"credit_id\\\": \\\"54a3334192514117dd002959\\\", \\\"department\\\": \\\"Sound\\\", \\\"gender\\\": 0, \\\"id\\\": 1404217, \\\"job\\\": \\\"Sound Designer\\\", \\\"name\\\": \\\"Peter Staubli\\\"}, {\\\"credit_id\\\": \\\"54a3d545c3a3680b2700f74b\\\", \\\"department\\\": \\\"Crew\\\", \\\"gender\\\": 0, \\\"id\\\": 1404234, \\\"job\\\": \\\"Transportation Coordinator\\\", \\\"name\\\": \\\"Ravi Dube\\\"}, {\\\"credit_id\\\": \\\"54a3337cc3a3682f1b00ff81\\\", \\\"department\\\": \\\"Editing\\\", \\\"gender\\\": 2, \\\"id\\\": 1405382, \\\"job\\\": \\\"Dialogue Editor\\\", \\\"name\\\": \\\"Chris Hogan\\\"}, {\\\"credit_id\\\": \\\"54a3d4ff9251411860004777\\\", \\\"department\\\": \\\"Editing\\\", \\\"gender\\\": 0, \\\"id\\\": 1405419, \\\"job\\\": \\\"Digital Intermediate\\\", \\\"name\\\": \\\"Nick Monton\\\"}, {\\\"credit_id\\\": \\\"54a333fac3a3684d8f002aa7\\\", \\\"department\\\": \\\"Sound\\\", \\\"gender\\\": 0, \\\"id\\\": 1406390, \\\"job\\\": \\\"Sound Effects Editor\\\", \\\"name\\\": \\\"Dan Hegeman\\\"}, {\\\"credit_id\\\": \\\"54a32dee925141198b00490b\\\", \\\"department\\\": \\\"Costume & Make-Up\\\", \\\"gender\\\": 0, \\\"id\\\": 1406571, \\\"job\\\": \\\"Hairstylist\\\", \\\"name\\\": \\\"Nathan J. Busch II\\\"}, {\\\"credit_id\\\": \\\"54a32e0c9251414e2800af7c\\\", \\\"department\\\": \\\"Costume & Make-Up\\\", \\\"gender\\\": 0, \\\"id\\\": 1406572, \\\"job\\\": \\\"Hairstylist\\\", \\\"name\\\": \\\"Jerry DeCarlo\\\"}, {\\\"credit_id\\\": \\\"54a32e2ac3a3682f1e00fcf1\\\", \\\"department\\\": \\\"Costume & Make-Up\\\", \\\"gender\\\": 0, \\\"id\\\": 1406573, \\\"job\\\": \\\"Hairstylist\\\", \\\"name\\\": \\\"Chris Harrison-Glimsdale\\\"}, {\\\"credit_id\\\": \\\"54a32e6392514117dd0028e5\\\", \\\"department\\\": \\\"Costume & Make-Up\\\", \\\"gender\\\": 0, \\\"id\\\": 1406578, \\\"job\\\": \\\"Makeup Artist\\\", \\\"name\\\": \\\"Sunday Englis\\\"}, {\\\"credit_id\\\": \\\"54a32e7f9251414e2800af89\\\", \\\"department\\\": \\\"Costume & Make-Up\\\", \\\"gender\\\": 1, \\\"id\\\": 1406582, \\\"job\\\": \\\"Makeup Artist\\\", \\\"name\\\": \\\"Joanne Jacobsen\\\"}, {\\\"credit_id\\\": \\\"54a32e95c3a3684d8f0029cd\\\", \\\"department\\\": \\\"Costume & Make-Up\\\", \\\"gender\\\": 2, \\\"id\\\": 1406584, \\\"job\\\": \\\"Makeup Artist\\\", \\\"name\\\": \\\"Bj\\\\u00f6rn Rehbein\\\"}, {\\\"credit_id\\\": \\\"54a32f2c925141198b00492c\\\", \\\"department\\\": \\\"Production\\\", \\\"gender\\\": 0, \\\"id\\\": 1406593, \\\"job\\\": \\\"Production Manager\\\", \\\"name\\\": \\\"Junsik Park\\\"}, {\\\"credit_id\\\": \\\"54a32f4992514117dd002904\\\", \\\"department\\\": \\\"Production\\\", \\\"gender\\\": 0, \\\"id\\\": 1406594, \\\"job\\\": \\\"Production Manager\\\", \\\"name\\\": \\\"Joseph Santos\\\"}, {\\\"credit_id\\\": \\\"54a32fb09251411860002c1c\\\", \\\"department\\\": \\\"Crew\\\", \\\"gender\\\": 1, \\\"id\\\": 1406595, \\\"job\\\": \\\"Post Production Supervisor\\\", \\\"name\\\": \\\"Jennifer Lane\\\"}, {\\\"credit_id\\\": \\\"54a33092c3a368764f00cac2\\\", \\\"department\\\": \\\"Art\\\", \\\"gender\\\": 0, \\\"id\\\": 1406596, \\\"job\\\": \\\"Assistant Art Director\\\", \\\"name\\\": \\\"Marion Kolsby\\\"}, {\\\"credit_id\\\": \\\"54a330df9251411860002c2d\\\", \\\"department\\\": \\\"Crew\\\", \\\"gender\\\": 0, \\\"id\\\": 1406599, \\\"job\\\": \\\"Scenic Artist\\\", \\\"name\\\": \\\"Doug Anderson\\\"}, {\\\"credit_id\\\": \\\"54a33103c3a3682f2101013b\\\", \\\"department\\\": \\\"Crew\\\", \\\"gender\\\": 0, \\\"id\\\": 1406602, \\\"job\\\": \\\"Scenic Artist\\\", \\\"name\\\": \\\"Yong Xi Chen\\\"}, {\\\"credit_id\\\": \\\"54a331229251411860002c3c\\\", \\\"department\\\": \\\"Crew\\\", \\\"gender\\\": 0, \\\"id\\\": 1406603, \\\"job\\\": \\\"Scenic Artist\\\", \\\"name\\\": \\\"Christopher H\\\\u00e9bel\\\"}, {\\\"credit_id\\\": \\\"54a33140925141236b007235\\\", \\\"department\\\": \\\"Crew\\\", \\\"gender\\\": 0, \\\"id\\\": 1406605, \\\"job\\\": \\\"Scenic Artist\\\", \\\"name\\\": \\\"Lia Lorms\\\"}, {\\\"credit_id\\\": \\\"54a33155c3a3682f1e00fd33\\\", \\\"department\\\": \\\"Crew\\\", \\\"gender\\\": 0, \\\"id\\\": 1406606, \\\"job\\\": \\\"Scenic Artist\\\", \\\"name\\\": \\\"Jordan Lovelace\\\"}, {\\\"credit_id\\\": \\\"54a331689251411860002c4e\\\", \\\"department\\\": \\\"Crew\\\", \\\"gender\\\": 0, \\\"id\\\": 1406607, \\\"job\\\": \\\"Scenic Artist\\\", \\\"name\\\": \\\"Roman Lystvak\\\"}, {\\\"credit_id\\\": \\\"54a3317e92514117dd00293a\\\", \\\"department\\\": \\\"Crew\\\", \\\"gender\\\": 0, \\\"id\\\": 1406608, \\\"job\\\": \\\"Scenic Artist\\\", \\\"name\\\": \\\"Kosyo Minchev\\\"}, {\\\"credit_id\\\": \\\"54a331999251412127006ce0\\\", \\\"department\\\": \\\"Crew\\\", \\\"gender\\\": 0, \\\"id\\\": 1406609, \\\"job\\\": \\\"Scenic Artist\\\", \\\"name\\\": \\\"Danh Nguyen\\\"}, {\\\"credit_id\\\": \\\"54a331bbc3a368554200d48b\\\", \\\"department\\\": \\\"Crew\\\", \\\"gender\\\": 0, \\\"id\\\": 1406610, \\\"job\\\": \\\"Scenic Artist\\\", \\\"name\\\": \\\"Charles R. Suter\\\"}, {\\\"credit_id\\\": \\\"54a332149251412127006cfa\\\", \\\"department\\\": \\\"Art\\\", \\\"gender\\\": 0, \\\"id\\\": 1406611, \\\"job\\\": \\\"Construction Coordinator\\\", \\\"name\\\": \\\"Ken Nelson\\\"}, {\\\"credit_id\\\": \\\"54a3327fc3a3682f2101017e\\\", \\\"department\\\": \\\"Art\\\", \\\"gender\\\": 0, \\\"id\\\": 1406612, \\\"job\\\": \\\"Leadman\\\", \\\"name\\\": \\\"Philip Canfield\\\"}, {\\\"credit_id\\\": \\\"54a33458c3a3682f1e00fd92\\\", \\\"department\\\": \\\"Sound\\\", \\\"gender\\\": 2, \\\"id\\\": 1406614, \\\"job\\\": \\\"Sound Re-Recording Mixer\\\", \\\"name\\\": \\\"David Parker\\\"}, {\\\"credit_id\\\": \\\"54a334d3c3a3682f1b00ffa0\\\", \\\"department\\\": \\\"Sound\\\", \\\"gender\\\": 0, \\\"id\\\": 1406616, \\\"job\\\": \\\"ADR & Dubbing\\\", \\\"name\\\": \\\"Chris Jargo\\\"}, {\\\"credit_id\\\": \\\"54a3d15692514121270084dd\\\", \\\"department\\\": \\\"Crew\\\", \\\"gender\\\": 2, \\\"id\\\": 1406756, \\\"job\\\": \\\"Visual Effects Editor\\\", \\\"name\\\": \\\"Kent Blocher\\\"}, {\\\"credit_id\\\": \\\"54a3d16cc3a368554200ee8b\\\", \\\"department\\\": \\\"Crew\\\", \\\"gender\\\": 0, \\\"id\\\": 1406757, \\\"job\\\": \\\"Visual Effects Editor\\\", \\\"name\\\": \\\"Abi Cadogan\\\"}, {\\\"credit_id\\\": \\\"54a3d1a1c3a3684d8f004530\\\", \\\"department\\\": \\\"Crew\\\", \\\"gender\\\": 0, \\\"id\\\": 1406758, \\\"job\\\": \\\"Visual Effects Editor\\\", \\\"name\\\": \\\"Benjamin Chua\\\"}, {\\\"credit_id\\\": \\\"54a3d20b92514117dd0042ca\\\", \\\"department\\\": \\\"Visual Effects\\\", \\\"gender\\\": 2, \\\"id\\\": 1406759, \\\"job\\\": \\\"Visual Effects Supervisor\\\", \\\"name\\\": \\\"Michael Bruce Ellis\\\"}, {\\\"credit_id\\\": \\\"54a3d22ec3a368764f00e484\\\", \\\"department\\\": \\\"Visual Effects\\\", \\\"gender\\\": 0, \\\"id\\\": 1406760, \\\"job\\\": \\\"Visual Effects Supervisor\\\", \\\"name\\\": \\\"John Heller\\\"}, {\\\"credit_id\\\": \\\"54a3d244c3a368554200eea1\\\", \\\"department\\\": \\\"Crew\\\", \\\"gender\\\": 0, \\\"id\\\": 1406761, \\\"job\\\": \\\"Visual Effects Editor\\\", \\\"name\\\": \\\"Dhuha Isa\\\"}, {\\\"credit_id\\\": \\\"54a3d290c3a368554200eeae\\\", \\\"department\\\": \\\"Crew\\\", \\\"gender\\\": 0, \\\"id\\\": 1406762, \\\"job\\\": \\\"Visual Effects Editor\\\", \\\"name\\\": \\\"Kieran Nicholas\\\"}, {\\\"credit_id\\\": \\\"54a3d2a5925141198b00623f\\\", \\\"department\\\": \\\"Visual Effects\\\", \\\"gender\\\": 0, \\\"id\\\": 1406763, \\\"job\\\": \\\"Visual Effects Producer\\\", \\\"name\\\": \\\"Gary Nolin\\\"}, {\\\"credit_id\\\": \\\"54a3d2c1c3a3680b2700f714\\\", \\\"department\\\": \\\"Visual Effects\\\", \\\"gender\\\": 0, \\\"id\\\": 1406764, \\\"job\\\": \\\"Visual Effects Producer\\\", \\\"name\\\": \\\"Tracey Leadbetter\\\"}, {\\\"credit_id\\\": \\\"54a3d377c3a3682f1b011824\\\", \\\"department\\\": \\\"Camera\\\", \\\"gender\\\": 0, \\\"id\\\": 1406765, \\\"job\\\": \\\"Camera Operator\\\", \\\"name\\\": \\\"Sean M. Harding\\\"}, {\\\"credit_id\\\": \\\"54a3d462c3a368642800291b\\\", \\\"department\\\": \\\"Camera\\\", \\\"gender\\\": 0, \\\"id\\\": 1406766, \\\"job\\\": \\\"Additional Photography\\\", \\\"name\\\": \\\"Barry Idoine\\\"}, {\\\"credit_id\\\": \\\"54a3d47b9251414e2800c6f3\\\", \\\"department\\\": \\\"Lighting\\\", \\\"gender\\\": 0, \\\"id\\\": 1406767, \\\"job\\\": \\\"Gaffer\\\", \\\"name\\\": \\\"Burton 'Joe' Kuchera\\\"}, {\\\"credit_id\\\": \\\"54a3d494c3a3682f1e011602\\\", \\\"department\\\": \\\"Lighting\\\", \\\"gender\\\": 0, \\\"id\\\": 1406768, \\\"job\\\": \\\"Gaffer\\\", \\\"name\\\": \\\"Pepito Mirador Jr.\\\"}, {\\\"credit_id\\\": \\\"54a3d56ec3a368764f00e4cf\\\", \\\"department\\\": \\\"Crew\\\", \\\"gender\\\": 2, \\\"id\\\": 1406769, \\\"job\\\": \\\"Transportation Coordinator\\\", \\\"name\\\": \\\"Coleman Robinson\\\"}, {\\\"credit_id\\\": \\\"54a3d58592514117dd00431e\\\", \\\"department\\\": \\\"Crew\\\", \\\"gender\\\": 0, \\\"id\\\": 1406770, \\\"job\\\": \\\"Transportation Coordinator\\\", \\\"name\\\": \\\"Cecile Vitan\\\"}, {\\\"credit_id\\\": \\\"54a3d5fa925141236b008b8c\\\", \\\"department\\\": \\\"Production\\\", \\\"gender\\\": 0, \\\"id\\\": 1406771, \\\"job\\\": \\\"Location Manager\\\", \\\"name\\\": \\\"Dennis Penney\\\"}, {\\\"credit_id\\\": \\\"54a3d62dc3a368764f00e4e6\\\", \\\"department\\\": \\\"Production\\\", \\\"gender\\\": 0, \\\"id\\\": 1406772, \\\"job\\\": \\\"Location Manager\\\", \\\"name\\\": \\\"Nikolo Juban\\\"}, {\\\"credit_id\\\": \\\"56620071c3a3682be90004db\\\", \\\"department\\\": \\\"Art\\\", \\\"gender\\\": 0, \\\"id\\\": 1414050, \\\"job\\\": \\\"Art Department Assistant\\\", \\\"name\\\": \\\"Nicole Eckenroad\\\"}]\"\n        ],\n        \"semantic_type\": \"\",\n        \"description\": \"\"\n      }\n    }\n  ]\n}"
            }
          },
          "metadata": {},
          "execution_count": 20
        }
      ]
    },
    {
      "cell_type": "code",
      "source": [
        "movies.isnull().sum()"
      ],
      "metadata": {
        "colab": {
          "base_uri": "https://localhost:8080/"
        },
        "id": "OHB2WM6T8uju",
        "outputId": "8283c4f8-7d37-423f-c104-6b53cf0ceab7"
      },
      "execution_count": 21,
      "outputs": [
        {
          "output_type": "execute_result",
          "data": {
            "text/plain": [
              "movie_id    0\n",
              "title       0\n",
              "overview    0\n",
              "genres      0\n",
              "keywords    0\n",
              "cast        0\n",
              "crew        1\n",
              "dtype: int64"
            ]
          },
          "metadata": {},
          "execution_count": 21
        }
      ]
    },
    {
      "cell_type": "code",
      "source": [
        "movies.dropna(inplace=True)"
      ],
      "metadata": {
        "id": "-wSy9spV-bEI"
      },
      "execution_count": 22,
      "outputs": []
    },
    {
      "cell_type": "code",
      "source": [
        "movies.duplicated().sum()"
      ],
      "metadata": {
        "colab": {
          "base_uri": "https://localhost:8080/"
        },
        "id": "je0Y-fBC_HVB",
        "outputId": "aee57a57-0254-4232-a6a3-52ca28a8d9d1"
      },
      "execution_count": 23,
      "outputs": [
        {
          "output_type": "execute_result",
          "data": {
            "text/plain": [
              "0"
            ]
          },
          "metadata": {},
          "execution_count": 23
        }
      ]
    },
    {
      "cell_type": "code",
      "source": [
        "#Converting Genres column data into normal list from string type data\n",
        "import ast\n",
        "def convert(obj):\n",
        "  L = []\n",
        "  for i in ast.literal_eval(obj):\n",
        "    L.append(i['name'])\n",
        "  return L"
      ],
      "metadata": {
        "id": "u-hvWtWQusPl"
      },
      "execution_count": 24,
      "outputs": []
    },
    {
      "cell_type": "code",
      "source": [
        "movies['genres'] = movies['genres'].apply(convert)"
      ],
      "metadata": {
        "id": "RKFkKIMQxr9i"
      },
      "execution_count": 25,
      "outputs": []
    },
    {
      "cell_type": "code",
      "source": [
        "movies['keywords'] = movies['keywords'].apply(convert)"
      ],
      "metadata": {
        "id": "LgbWuQA4y-dH"
      },
      "execution_count": 26,
      "outputs": []
    },
    {
      "cell_type": "code",
      "source": [
        "#Converting Genres column data into normal list from string type data\n",
        "import ast\n",
        "def convert_cast(obj):\n",
        "  L = []\n",
        "  counter = 0\n",
        "  for i in ast.literal_eval(obj):\n",
        "    if counter != 3:\n",
        "      L.append(i['name'])\n",
        "      counter+=1\n",
        "    else:\n",
        "      break\n",
        "  return L"
      ],
      "metadata": {
        "id": "o_XyfXY90R4n"
      },
      "execution_count": 27,
      "outputs": []
    },
    {
      "cell_type": "code",
      "source": [
        "movies['cast'] = movies['cast'].apply(convert_cast)"
      ],
      "metadata": {
        "id": "NLhxUPI70lR1"
      },
      "execution_count": 28,
      "outputs": []
    },
    {
      "cell_type": "code",
      "source": [
        "def convert_crew(obj):\n",
        "  L = []\n",
        "  for i in ast.literal_eval(obj):\n",
        "    if i['job'] == 'Director':\n",
        "      L.append(i['name'])\n",
        "      break\n",
        "  return L"
      ],
      "metadata": {
        "id": "FBoWLgvg018G"
      },
      "execution_count": 29,
      "outputs": []
    },
    {
      "cell_type": "code",
      "source": [
        "movies['crew'] = movies['crew'].apply(convert_crew)"
      ],
      "metadata": {
        "id": "NfO58xdd-jin"
      },
      "execution_count": 30,
      "outputs": []
    },
    {
      "cell_type": "code",
      "source": [
        "#Converting overview column from string into list\n",
        "\n",
        "movies['overview'] = movies['overview'].apply(lambda x:x.split())"
      ],
      "metadata": {
        "id": "OpGkyd23_HCp"
      },
      "execution_count": 31,
      "outputs": []
    },
    {
      "cell_type": "code",
      "source": [
        "# Removing blank spaces between strings for tags\n",
        "\n",
        "movies['genres'] = movies['genres'].apply(lambda x:[i.replace(\" \",\"\") for i in x])\n",
        "movies['keywords'] = movies['keywords'].apply(lambda x:[i.replace(\" \",\"\") for i in x])\n",
        "movies['cast'] = movies['cast'].apply(lambda x:[i.replace(\" \",\"\") for i in x])\n",
        "movies['crew'] = movies['crew'].apply(lambda x:[i.replace(\" \",\"\") for i in x])"
      ],
      "metadata": {
        "id": "GZRjDnC0Aqvs"
      },
      "execution_count": 32,
      "outputs": []
    },
    {
      "cell_type": "code",
      "source": [
        "movies.head()"
      ],
      "metadata": {
        "colab": {
          "base_uri": "https://localhost:8080/",
          "height": 345
        },
        "id": "P4ipedCTDFRr",
        "outputId": "3ca14f46-09e1-4914-930f-c6b51a109672"
      },
      "execution_count": 33,
      "outputs": [
        {
          "output_type": "execute_result",
          "data": {
            "text/plain": [
              "   movie_id                                     title  \\\n",
              "0     19995                                    Avatar   \n",
              "1       285  Pirates of the Caribbean: At World's End   \n",
              "2    206647                                   Spectre   \n",
              "3     49026                     The Dark Knight Rises   \n",
              "4     49529                               John Carter   \n",
              "\n",
              "                                            overview  \\\n",
              "0  [In, the, 22nd, century,, a, paraplegic, Marin...   \n",
              "1  [Captain, Barbossa,, long, believed, to, be, d...   \n",
              "2  [A, cryptic, message, from, Bond’s, past, send...   \n",
              "3  [Following, the, death, of, District, Attorney...   \n",
              "4  [John, Carter, is, a, war-weary,, former, mili...   \n",
              "\n",
              "                                         genres  \\\n",
              "0  [Action, Adventure, Fantasy, ScienceFiction]   \n",
              "1                  [Adventure, Fantasy, Action]   \n",
              "2                    [Action, Adventure, Crime]   \n",
              "3              [Action, Crime, Drama, Thriller]   \n",
              "4           [Action, Adventure, ScienceFiction]   \n",
              "\n",
              "                                            keywords  \\\n",
              "0  [cultureclash, future, spacewar, spacecolony, ...   \n",
              "1  [ocean, drugabuse, exoticisland, eastindiatrad...   \n",
              "2  [spy, basedonnovel, secretagent, sequel, mi6, ...   \n",
              "3  [dccomics, crimefighter, terrorist, secretiden...   \n",
              "4  [basedonnovel, mars, medallion, spacetravel, p...   \n",
              "\n",
              "                                            cast                crew  \n",
              "0  [SamWorthington, ZoeSaldana, SigourneyWeaver]      [JamesCameron]  \n",
              "1     [JohnnyDepp, OrlandoBloom, KeiraKnightley]     [GoreVerbinski]  \n",
              "2      [DanielCraig, ChristophWaltz, LéaSeydoux]         [SamMendes]  \n",
              "3      [ChristianBale, MichaelCaine, GaryOldman]  [ChristopherNolan]  \n",
              "4    [TaylorKitsch, LynnCollins, SamanthaMorton]     [AndrewStanton]  "
            ],
            "text/html": [
              "\n",
              "  <div id=\"df-a6099d18-ee88-4470-8fe4-75cab1e984f9\" class=\"colab-df-container\">\n",
              "    <div>\n",
              "<style scoped>\n",
              "    .dataframe tbody tr th:only-of-type {\n",
              "        vertical-align: middle;\n",
              "    }\n",
              "\n",
              "    .dataframe tbody tr th {\n",
              "        vertical-align: top;\n",
              "    }\n",
              "\n",
              "    .dataframe thead th {\n",
              "        text-align: right;\n",
              "    }\n",
              "</style>\n",
              "<table border=\"1\" class=\"dataframe\">\n",
              "  <thead>\n",
              "    <tr style=\"text-align: right;\">\n",
              "      <th></th>\n",
              "      <th>movie_id</th>\n",
              "      <th>title</th>\n",
              "      <th>overview</th>\n",
              "      <th>genres</th>\n",
              "      <th>keywords</th>\n",
              "      <th>cast</th>\n",
              "      <th>crew</th>\n",
              "    </tr>\n",
              "  </thead>\n",
              "  <tbody>\n",
              "    <tr>\n",
              "      <th>0</th>\n",
              "      <td>19995</td>\n",
              "      <td>Avatar</td>\n",
              "      <td>[In, the, 22nd, century,, a, paraplegic, Marin...</td>\n",
              "      <td>[Action, Adventure, Fantasy, ScienceFiction]</td>\n",
              "      <td>[cultureclash, future, spacewar, spacecolony, ...</td>\n",
              "      <td>[SamWorthington, ZoeSaldana, SigourneyWeaver]</td>\n",
              "      <td>[JamesCameron]</td>\n",
              "    </tr>\n",
              "    <tr>\n",
              "      <th>1</th>\n",
              "      <td>285</td>\n",
              "      <td>Pirates of the Caribbean: At World's End</td>\n",
              "      <td>[Captain, Barbossa,, long, believed, to, be, d...</td>\n",
              "      <td>[Adventure, Fantasy, Action]</td>\n",
              "      <td>[ocean, drugabuse, exoticisland, eastindiatrad...</td>\n",
              "      <td>[JohnnyDepp, OrlandoBloom, KeiraKnightley]</td>\n",
              "      <td>[GoreVerbinski]</td>\n",
              "    </tr>\n",
              "    <tr>\n",
              "      <th>2</th>\n",
              "      <td>206647</td>\n",
              "      <td>Spectre</td>\n",
              "      <td>[A, cryptic, message, from, Bond’s, past, send...</td>\n",
              "      <td>[Action, Adventure, Crime]</td>\n",
              "      <td>[spy, basedonnovel, secretagent, sequel, mi6, ...</td>\n",
              "      <td>[DanielCraig, ChristophWaltz, LéaSeydoux]</td>\n",
              "      <td>[SamMendes]</td>\n",
              "    </tr>\n",
              "    <tr>\n",
              "      <th>3</th>\n",
              "      <td>49026</td>\n",
              "      <td>The Dark Knight Rises</td>\n",
              "      <td>[Following, the, death, of, District, Attorney...</td>\n",
              "      <td>[Action, Crime, Drama, Thriller]</td>\n",
              "      <td>[dccomics, crimefighter, terrorist, secretiden...</td>\n",
              "      <td>[ChristianBale, MichaelCaine, GaryOldman]</td>\n",
              "      <td>[ChristopherNolan]</td>\n",
              "    </tr>\n",
              "    <tr>\n",
              "      <th>4</th>\n",
              "      <td>49529</td>\n",
              "      <td>John Carter</td>\n",
              "      <td>[John, Carter, is, a, war-weary,, former, mili...</td>\n",
              "      <td>[Action, Adventure, ScienceFiction]</td>\n",
              "      <td>[basedonnovel, mars, medallion, spacetravel, p...</td>\n",
              "      <td>[TaylorKitsch, LynnCollins, SamanthaMorton]</td>\n",
              "      <td>[AndrewStanton]</td>\n",
              "    </tr>\n",
              "  </tbody>\n",
              "</table>\n",
              "</div>\n",
              "    <div class=\"colab-df-buttons\">\n",
              "\n",
              "  <div class=\"colab-df-container\">\n",
              "    <button class=\"colab-df-convert\" onclick=\"convertToInteractive('df-a6099d18-ee88-4470-8fe4-75cab1e984f9')\"\n",
              "            title=\"Convert this dataframe to an interactive table.\"\n",
              "            style=\"display:none;\">\n",
              "\n",
              "  <svg xmlns=\"http://www.w3.org/2000/svg\" height=\"24px\" viewBox=\"0 -960 960 960\">\n",
              "    <path d=\"M120-120v-720h720v720H120Zm60-500h600v-160H180v160Zm220 220h160v-160H400v160Zm0 220h160v-160H400v160ZM180-400h160v-160H180v160Zm440 0h160v-160H620v160ZM180-180h160v-160H180v160Zm440 0h160v-160H620v160Z\"/>\n",
              "  </svg>\n",
              "    </button>\n",
              "\n",
              "  <style>\n",
              "    .colab-df-container {\n",
              "      display:flex;\n",
              "      gap: 12px;\n",
              "    }\n",
              "\n",
              "    .colab-df-convert {\n",
              "      background-color: #E8F0FE;\n",
              "      border: none;\n",
              "      border-radius: 50%;\n",
              "      cursor: pointer;\n",
              "      display: none;\n",
              "      fill: #1967D2;\n",
              "      height: 32px;\n",
              "      padding: 0 0 0 0;\n",
              "      width: 32px;\n",
              "    }\n",
              "\n",
              "    .colab-df-convert:hover {\n",
              "      background-color: #E2EBFA;\n",
              "      box-shadow: 0px 1px 2px rgba(60, 64, 67, 0.3), 0px 1px 3px 1px rgba(60, 64, 67, 0.15);\n",
              "      fill: #174EA6;\n",
              "    }\n",
              "\n",
              "    .colab-df-buttons div {\n",
              "      margin-bottom: 4px;\n",
              "    }\n",
              "\n",
              "    [theme=dark] .colab-df-convert {\n",
              "      background-color: #3B4455;\n",
              "      fill: #D2E3FC;\n",
              "    }\n",
              "\n",
              "    [theme=dark] .colab-df-convert:hover {\n",
              "      background-color: #434B5C;\n",
              "      box-shadow: 0px 1px 3px 1px rgba(0, 0, 0, 0.15);\n",
              "      filter: drop-shadow(0px 1px 2px rgba(0, 0, 0, 0.3));\n",
              "      fill: #FFFFFF;\n",
              "    }\n",
              "  </style>\n",
              "\n",
              "    <script>\n",
              "      const buttonEl =\n",
              "        document.querySelector('#df-a6099d18-ee88-4470-8fe4-75cab1e984f9 button.colab-df-convert');\n",
              "      buttonEl.style.display =\n",
              "        google.colab.kernel.accessAllowed ? 'block' : 'none';\n",
              "\n",
              "      async function convertToInteractive(key) {\n",
              "        const element = document.querySelector('#df-a6099d18-ee88-4470-8fe4-75cab1e984f9');\n",
              "        const dataTable =\n",
              "          await google.colab.kernel.invokeFunction('convertToInteractive',\n",
              "                                                    [key], {});\n",
              "        if (!dataTable) return;\n",
              "\n",
              "        const docLinkHtml = 'Like what you see? Visit the ' +\n",
              "          '<a target=\"_blank\" href=https://colab.research.google.com/notebooks/data_table.ipynb>data table notebook</a>'\n",
              "          + ' to learn more about interactive tables.';\n",
              "        element.innerHTML = '';\n",
              "        dataTable['output_type'] = 'display_data';\n",
              "        await google.colab.output.renderOutput(dataTable, element);\n",
              "        const docLink = document.createElement('div');\n",
              "        docLink.innerHTML = docLinkHtml;\n",
              "        element.appendChild(docLink);\n",
              "      }\n",
              "    </script>\n",
              "  </div>\n",
              "\n",
              "\n",
              "<div id=\"df-b93189f1-8163-4594-bc83-3ee0af9da842\">\n",
              "  <button class=\"colab-df-quickchart\" onclick=\"quickchart('df-b93189f1-8163-4594-bc83-3ee0af9da842')\"\n",
              "            title=\"Suggest charts\"\n",
              "            style=\"display:none;\">\n",
              "\n",
              "<svg xmlns=\"http://www.w3.org/2000/svg\" height=\"24px\"viewBox=\"0 0 24 24\"\n",
              "     width=\"24px\">\n",
              "    <g>\n",
              "        <path d=\"M19 3H5c-1.1 0-2 .9-2 2v14c0 1.1.9 2 2 2h14c1.1 0 2-.9 2-2V5c0-1.1-.9-2-2-2zM9 17H7v-7h2v7zm4 0h-2V7h2v10zm4 0h-2v-4h2v4z\"/>\n",
              "    </g>\n",
              "</svg>\n",
              "  </button>\n",
              "\n",
              "<style>\n",
              "  .colab-df-quickchart {\n",
              "      --bg-color: #E8F0FE;\n",
              "      --fill-color: #1967D2;\n",
              "      --hover-bg-color: #E2EBFA;\n",
              "      --hover-fill-color: #174EA6;\n",
              "      --disabled-fill-color: #AAA;\n",
              "      --disabled-bg-color: #DDD;\n",
              "  }\n",
              "\n",
              "  [theme=dark] .colab-df-quickchart {\n",
              "      --bg-color: #3B4455;\n",
              "      --fill-color: #D2E3FC;\n",
              "      --hover-bg-color: #434B5C;\n",
              "      --hover-fill-color: #FFFFFF;\n",
              "      --disabled-bg-color: #3B4455;\n",
              "      --disabled-fill-color: #666;\n",
              "  }\n",
              "\n",
              "  .colab-df-quickchart {\n",
              "    background-color: var(--bg-color);\n",
              "    border: none;\n",
              "    border-radius: 50%;\n",
              "    cursor: pointer;\n",
              "    display: none;\n",
              "    fill: var(--fill-color);\n",
              "    height: 32px;\n",
              "    padding: 0;\n",
              "    width: 32px;\n",
              "  }\n",
              "\n",
              "  .colab-df-quickchart:hover {\n",
              "    background-color: var(--hover-bg-color);\n",
              "    box-shadow: 0 1px 2px rgba(60, 64, 67, 0.3), 0 1px 3px 1px rgba(60, 64, 67, 0.15);\n",
              "    fill: var(--button-hover-fill-color);\n",
              "  }\n",
              "\n",
              "  .colab-df-quickchart-complete:disabled,\n",
              "  .colab-df-quickchart-complete:disabled:hover {\n",
              "    background-color: var(--disabled-bg-color);\n",
              "    fill: var(--disabled-fill-color);\n",
              "    box-shadow: none;\n",
              "  }\n",
              "\n",
              "  .colab-df-spinner {\n",
              "    border: 2px solid var(--fill-color);\n",
              "    border-color: transparent;\n",
              "    border-bottom-color: var(--fill-color);\n",
              "    animation:\n",
              "      spin 1s steps(1) infinite;\n",
              "  }\n",
              "\n",
              "  @keyframes spin {\n",
              "    0% {\n",
              "      border-color: transparent;\n",
              "      border-bottom-color: var(--fill-color);\n",
              "      border-left-color: var(--fill-color);\n",
              "    }\n",
              "    20% {\n",
              "      border-color: transparent;\n",
              "      border-left-color: var(--fill-color);\n",
              "      border-top-color: var(--fill-color);\n",
              "    }\n",
              "    30% {\n",
              "      border-color: transparent;\n",
              "      border-left-color: var(--fill-color);\n",
              "      border-top-color: var(--fill-color);\n",
              "      border-right-color: var(--fill-color);\n",
              "    }\n",
              "    40% {\n",
              "      border-color: transparent;\n",
              "      border-right-color: var(--fill-color);\n",
              "      border-top-color: var(--fill-color);\n",
              "    }\n",
              "    60% {\n",
              "      border-color: transparent;\n",
              "      border-right-color: var(--fill-color);\n",
              "    }\n",
              "    80% {\n",
              "      border-color: transparent;\n",
              "      border-right-color: var(--fill-color);\n",
              "      border-bottom-color: var(--fill-color);\n",
              "    }\n",
              "    90% {\n",
              "      border-color: transparent;\n",
              "      border-bottom-color: var(--fill-color);\n",
              "    }\n",
              "  }\n",
              "</style>\n",
              "\n",
              "  <script>\n",
              "    async function quickchart(key) {\n",
              "      const quickchartButtonEl =\n",
              "        document.querySelector('#' + key + ' button');\n",
              "      quickchartButtonEl.disabled = true;  // To prevent multiple clicks.\n",
              "      quickchartButtonEl.classList.add('colab-df-spinner');\n",
              "      try {\n",
              "        const charts = await google.colab.kernel.invokeFunction(\n",
              "            'suggestCharts', [key], {});\n",
              "      } catch (error) {\n",
              "        console.error('Error during call to suggestCharts:', error);\n",
              "      }\n",
              "      quickchartButtonEl.classList.remove('colab-df-spinner');\n",
              "      quickchartButtonEl.classList.add('colab-df-quickchart-complete');\n",
              "    }\n",
              "    (() => {\n",
              "      let quickchartButtonEl =\n",
              "        document.querySelector('#df-b93189f1-8163-4594-bc83-3ee0af9da842 button');\n",
              "      quickchartButtonEl.style.display =\n",
              "        google.colab.kernel.accessAllowed ? 'block' : 'none';\n",
              "    })();\n",
              "  </script>\n",
              "</div>\n",
              "\n",
              "    </div>\n",
              "  </div>\n"
            ],
            "application/vnd.google.colaboratory.intrinsic+json": {
              "type": "dataframe",
              "variable_name": "movies",
              "summary": "{\n  \"name\": \"movies\",\n  \"rows\": 937,\n  \"fields\": [\n    {\n      \"column\": \"movie_id\",\n      \"properties\": {\n        \"dtype\": \"number\",\n        \"std\": 71678,\n        \"min\": 12,\n        \"max\": 417859,\n        \"num_unique_values\": 937,\n        \"samples\": [\n          77953,\n          8487,\n          49040\n        ],\n        \"semantic_type\": \"\",\n        \"description\": \"\"\n      }\n    },\n    {\n      \"column\": \"title\",\n      \"properties\": {\n        \"dtype\": \"string\",\n        \"num_unique_values\": 937,\n        \"samples\": [\n          \"The Campaign\",\n          \"Wild Wild West\",\n          \"The Bourne Legacy\"\n        ],\n        \"semantic_type\": \"\",\n        \"description\": \"\"\n      }\n    },\n    {\n      \"column\": \"overview\",\n      \"properties\": {\n        \"dtype\": \"object\",\n        \"semantic_type\": \"\",\n        \"description\": \"\"\n      }\n    },\n    {\n      \"column\": \"genres\",\n      \"properties\": {\n        \"dtype\": \"object\",\n        \"semantic_type\": \"\",\n        \"description\": \"\"\n      }\n    },\n    {\n      \"column\": \"keywords\",\n      \"properties\": {\n        \"dtype\": \"object\",\n        \"semantic_type\": \"\",\n        \"description\": \"\"\n      }\n    },\n    {\n      \"column\": \"cast\",\n      \"properties\": {\n        \"dtype\": \"object\",\n        \"semantic_type\": \"\",\n        \"description\": \"\"\n      }\n    },\n    {\n      \"column\": \"crew\",\n      \"properties\": {\n        \"dtype\": \"object\",\n        \"semantic_type\": \"\",\n        \"description\": \"\"\n      }\n    }\n  ]\n}"
            }
          },
          "metadata": {},
          "execution_count": 33
        }
      ]
    },
    {
      "cell_type": "code",
      "source": [
        "movies['tags'] = movies['overview'] + movies['genres'] + movies['keywords'] + movies['cast'] + movies['crew']\n",
        "new_df = movies[['movie_id','title','tags']]"
      ],
      "metadata": {
        "id": "n0pG1Na0D1D9"
      },
      "execution_count": 34,
      "outputs": []
    },
    {
      "cell_type": "code",
      "source": [
        "# converting tags column of list into strings\n",
        "\n",
        "new_df['tags'] = new_df['tags'].apply(lambda x:\" \".join(x))"
      ],
      "metadata": {
        "colab": {
          "base_uri": "https://localhost:8080/"
        },
        "id": "qP5huk_QEzXL",
        "outputId": "75089ad6-87d0-45e0-9a62-c7924e15dd87"
      },
      "execution_count": 35,
      "outputs": [
        {
          "output_type": "stream",
          "name": "stderr",
          "text": [
            "<ipython-input-35-c0b033a4a69e>:3: SettingWithCopyWarning: \n",
            "A value is trying to be set on a copy of a slice from a DataFrame.\n",
            "Try using .loc[row_indexer,col_indexer] = value instead\n",
            "\n",
            "See the caveats in the documentation: https://pandas.pydata.org/pandas-docs/stable/user_guide/indexing.html#returning-a-view-versus-a-copy\n",
            "  new_df['tags'] = new_df['tags'].apply(lambda x:\" \".join(x))\n"
          ]
        }
      ]
    },
    {
      "cell_type": "code",
      "source": [
        "new_df['tags'] = new_df['tags'].apply(lambda x:x.lower())"
      ],
      "metadata": {
        "colab": {
          "base_uri": "https://localhost:8080/"
        },
        "id": "LMa4vG72FhxO",
        "outputId": "b5881e9d-f14b-4499-b938-5edc97dfc4ef"
      },
      "execution_count": 36,
      "outputs": [
        {
          "output_type": "stream",
          "name": "stderr",
          "text": [
            "<ipython-input-36-8b60b591a07f>:1: SettingWithCopyWarning: \n",
            "A value is trying to be set on a copy of a slice from a DataFrame.\n",
            "Try using .loc[row_indexer,col_indexer] = value instead\n",
            "\n",
            "See the caveats in the documentation: https://pandas.pydata.org/pandas-docs/stable/user_guide/indexing.html#returning-a-view-versus-a-copy\n",
            "  new_df['tags'] = new_df['tags'].apply(lambda x:x.lower())\n"
          ]
        }
      ]
    },
    {
      "cell_type": "code",
      "source": [
        "# Performing stemming ---> {'loving','love','loved'} after stemming {'love','love','love'}\n",
        "\n",
        "from nltk.stem.porter import PorterStemmer\n",
        "ps = PorterStemmer()"
      ],
      "metadata": {
        "id": "wdmSCku2aiqd"
      },
      "execution_count": 37,
      "outputs": []
    },
    {
      "cell_type": "code",
      "source": [
        "def stem(text):\n",
        "  y = []\n",
        "  for i in text.split():\n",
        "    y.append(ps.stem(i))\n",
        "  return \" \".join(y)"
      ],
      "metadata": {
        "id": "dYtl3wNdapN5"
      },
      "execution_count": 38,
      "outputs": []
    },
    {
      "cell_type": "code",
      "source": [
        "new_df['tags'] = new_df['tags'].apply(stem)"
      ],
      "metadata": {
        "colab": {
          "base_uri": "https://localhost:8080/"
        },
        "id": "KgBT7mH-auS8",
        "outputId": "6cdbc54b-e460-4831-c558-b0b134e53fe8"
      },
      "execution_count": 39,
      "outputs": [
        {
          "output_type": "stream",
          "name": "stderr",
          "text": [
            "<ipython-input-39-be18a4346d89>:1: SettingWithCopyWarning: \n",
            "A value is trying to be set on a copy of a slice from a DataFrame.\n",
            "Try using .loc[row_indexer,col_indexer] = value instead\n",
            "\n",
            "See the caveats in the documentation: https://pandas.pydata.org/pandas-docs/stable/user_guide/indexing.html#returning-a-view-versus-a-copy\n",
            "  new_df['tags'] = new_df['tags'].apply(stem)\n"
          ]
        }
      ]
    },
    {
      "cell_type": "code",
      "source": [
        "new_df['tags'][0]"
      ],
      "metadata": {
        "colab": {
          "base_uri": "https://localhost:8080/",
          "height": 73
        },
        "id": "OP4n5_mva2dO",
        "outputId": "1c2ea17c-7b20-445d-92d6-ab64811152cc"
      },
      "execution_count": 40,
      "outputs": [
        {
          "output_type": "execute_result",
          "data": {
            "text/plain": [
              "'in the 22nd century, a parapleg marin is dispatch to the moon pandora on a uniqu mission, but becom torn between follow order and protect an alien civilization. action adventur fantasi sciencefict cultureclash futur spacewar spacecoloni societi spacetravel futurist romanc space alien tribe alienplanet cgi marin soldier battl loveaffair antiwar powerrel mindandsoul 3d samworthington zoesaldana sigourneyweav jamescameron'"
            ],
            "application/vnd.google.colaboratory.intrinsic+json": {
              "type": "string"
            }
          },
          "metadata": {},
          "execution_count": 40
        }
      ]
    },
    {
      "cell_type": "code",
      "source": [
        "# Creating vectorization of tags column using data bag method\n",
        "\n",
        "from sklearn.feature_extraction.text import CountVectorizer\n",
        "cv = CountVectorizer(max_features=5000,stop_words='english')\n",
        "\n",
        "vectors = cv.fit_transform(new_df['tags']).toarray()\n",
        "\n"
      ],
      "metadata": {
        "id": "FodJOOslYXTy"
      },
      "execution_count": 41,
      "outputs": []
    },
    {
      "cell_type": "code",
      "source": [
        "vectors.shape"
      ],
      "metadata": {
        "colab": {
          "base_uri": "https://localhost:8080/"
        },
        "id": "-EshkBH2ZHJ0",
        "outputId": "729e1330-7dea-4206-b581-8fca09baaa4b"
      },
      "execution_count": 42,
      "outputs": [
        {
          "output_type": "execute_result",
          "data": {
            "text/plain": [
              "(937, 5000)"
            ]
          },
          "metadata": {},
          "execution_count": 42
        }
      ]
    },
    {
      "cell_type": "code",
      "source": [
        "# Caclulation Cousiinal distance( theeta between vectors)  between each vector. More theeta value means less simlarilty\n",
        "\n",
        "from sklearn.metrics.pairwise import cosine_similarity\n",
        "similarity = cosine_similarity(vectors)"
      ],
      "metadata": {
        "id": "FXrzDYzbb1Rn"
      },
      "execution_count": 43,
      "outputs": []
    },
    {
      "cell_type": "code",
      "source": [
        "movie_index = new_df[new_df['title'] == 'Avatar'].index[0]\n",
        "distances = similarity[movie_index]\n",
        "movies_list = sorted(list(enumerate(distances)),reverse=True,key = lambda x: x[1])[1:6]\n",
        "movies_list\n"
      ],
      "metadata": {
        "colab": {
          "base_uri": "https://localhost:8080/"
        },
        "id": "8AXlxBEXirmh",
        "outputId": "1d417445-ad6a-4879-939c-90264644c774"
      },
      "execution_count": 44,
      "outputs": [
        {
          "output_type": "execute_result",
          "data": {
            "text/plain": [
              "[(539, 0.23199266800191015),\n",
              " (507, 0.23055616708169394),\n",
              " (582, 0.22619193331698284),\n",
              " (61, 0.2179004822276417),\n",
              " (778, 0.21566554640687682)]"
            ]
          },
          "metadata": {},
          "execution_count": 44
        }
      ]
    },
    {
      "cell_type": "code",
      "source": [
        "def recommend(movie):\n",
        "  movie_index = new_df[new_df['title'] == movie].index[0]\n",
        "  distances = similarity[movie_index]\n",
        "  movies_list = sorted(list(enumerate(distances)),reverse=True,key = lambda x: x[1])[1:6]\n",
        "  for i in movies_list:\n",
        "    print(new_df.iloc[i[0]].title)\n"
      ],
      "metadata": {
        "id": "xMoGJbREikFj"
      },
      "execution_count": 45,
      "outputs": []
    },
    {
      "cell_type": "code",
      "source": [
        "recommend('Batman Begins')"
      ],
      "metadata": {
        "colab": {
          "base_uri": "https://localhost:8080/"
        },
        "id": "OrfhPsSpi78O",
        "outputId": "1cd91c6c-5bb6-4833-f1f5-cd2c7c6f3308"
      },
      "execution_count": 51,
      "outputs": [
        {
          "output_type": "stream",
          "name": "stdout",
          "text": [
            "The Dark Knight\n",
            "The Dark Knight Rises\n",
            "Batman v Superman: Dawn of Justice\n",
            "Batman & Robin\n",
            "Iron Man 2\n"
          ]
        }
      ]
    },
    {
      "cell_type": "code",
      "source": [
        "import pickle\n",
        "pickle.dump(new_df.to_dict(),open('movies_dict.pkl','wb'))"
      ],
      "metadata": {
        "id": "OQUJyi8P8WXd"
      },
      "execution_count": 55,
      "outputs": []
    },
    {
      "cell_type": "code",
      "source": [
        "pickle.dump(similarity,open('similarity.pkl','wb'))"
      ],
      "metadata": {
        "id": "1eHEoG4b8dsS"
      },
      "execution_count": 56,
      "outputs": []
    },
    {
      "cell_type": "code",
      "source": [],
      "metadata": {
        "id": "42yW7wFfEOlV"
      },
      "execution_count": null,
      "outputs": []
    }
  ]
}